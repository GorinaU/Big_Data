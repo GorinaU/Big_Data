{
 "cells": [
  {
   "cell_type": "code",
   "execution_count": 1,
   "id": "4919b7f5",
   "metadata": {},
   "outputs": [
    {
     "data": {
      "text/plain": [
       "[15, 5, 5, 18, 17, 16, 18, 20, 19, 14]"
      ]
     },
     "execution_count": 1,
     "metadata": {},
     "output_type": "execute_result"
    }
   ],
   "source": [
    "#Реализовать функцию, которая оставляет в списке из чисел лишь элементы, которые заданное число делит без остатка.\n",
    "import random\n",
    "\n",
    "arr = [random.randint(4, 21) for i in range(10)]\n",
    "arr"
   ]
  },
  {
   "cell_type": "code",
   "execution_count": 2,
   "id": "970e346a",
   "metadata": {},
   "outputs": [
    {
     "name": "stdout",
     "output_type": "stream",
     "text": [
      "Введите число: 2\n"
     ]
    },
    {
     "data": {
      "text/plain": [
       "[18, 16, 18, 20, 14]"
      ]
     },
     "execution_count": 2,
     "metadata": {},
     "output_type": "execute_result"
    }
   ],
   "source": [
    "val = int(input('Введите число: '))\n",
    "\n",
    "def div(arr):\n",
    "    res=[]\n",
    "    for i in arr:\n",
    "        if i%val==0:\n",
    "            res.append(i)\n",
    "    return res\n",
    "\n",
    "div(arr)"
   ]
  },
  {
   "cell_type": "code",
   "execution_count": 52,
   "id": "598754a6",
   "metadata": {},
   "outputs": [
    {
     "data": {
      "text/plain": [
       "[17, 15, 6, 12, 8, 6, 16, 9, 18, 16]"
      ]
     },
     "execution_count": 52,
     "metadata": {},
     "output_type": "execute_result"
    }
   ],
   "source": [
    "#Реализовать функцию, удаляющую из списка каждый третий элемент, а каждый пятый удваивающую.\n",
    "arr = [random.randint(4, 21) for i in range(10)]\n",
    "arr"
   ]
  },
  {
   "cell_type": "code",
   "execution_count": 54,
   "id": "e4a3db7b",
   "metadata": {
    "scrolled": true
   },
   "outputs": [
    {
     "data": {
      "text/plain": [
       "[17, 15, 12, 8, 16, 9, 16]"
      ]
     },
     "execution_count": 54,
     "metadata": {},
     "output_type": "execute_result"
    }
   ],
   "source": [
    "def f(arr):\n",
    "    res=[]\n",
    "    for i in range(len(arr)):\n",
    "        if (i+1)%3 != 0:\n",
    "            res.append(arr[i])\n",
    "    return res\n",
    "\n",
    "f(arr)"
   ]
  },
  {
   "cell_type": "code",
   "execution_count": 34,
   "id": "9f353e9e",
   "metadata": {},
   "outputs": [
    {
     "data": {
      "text/plain": [
       "[16, 13, 12, 4, 6, 6, 6, 18, 15, 7]"
      ]
     },
     "execution_count": 34,
     "metadata": {},
     "output_type": "execute_result"
    }
   ],
   "source": [
    "#Реализовать функцию, которая для заданного элемента считает количество его повторений в списке.\n",
    "arr = [random.randint(4, 21) for i in range(10)]\n",
    "arr"
   ]
  },
  {
   "cell_type": "code",
   "execution_count": 38,
   "id": "20f6eb32",
   "metadata": {},
   "outputs": [
    {
     "name": "stdout",
     "output_type": "stream",
     "text": [
      "Введите число: 12\n"
     ]
    },
    {
     "data": {
      "text/plain": [
       "1"
      ]
     },
     "execution_count": 38,
     "metadata": {},
     "output_type": "execute_result"
    }
   ],
   "source": [
    "val = int(input('Введите число: '))\n",
    "\n",
    "def f(arr,val):\n",
    "    sum=0\n",
    "    for i in arr:\n",
    "        if i==val:\n",
    "            sum+=1\n",
    "    return sum\n",
    "\n",
    "f(arr,val)"
   ]
  },
  {
   "cell_type": "code",
   "execution_count": 46,
   "id": "e2bdf975",
   "metadata": {},
   "outputs": [
    {
     "data": {
      "text/plain": [
       "[15, 17, 11, 5, 13, 4, 6, 14, 5, 11]"
      ]
     },
     "execution_count": 46,
     "metadata": {},
     "output_type": "execute_result"
    }
   ],
   "source": [
    "#Реализовать функцию, реверсирующую список по три элемента, например для [1, 2, 3, 4, 5, 6] \n",
    "#должно получиться [3, 2, 1, 6, 5, 4].\n",
    "arr = [random.randint(4, 21) for i in range(10)]\n",
    "arr"
   ]
  },
  {
   "cell_type": "code",
   "execution_count": 51,
   "id": "61c0f65b",
   "metadata": {},
   "outputs": [
    {
     "data": {
      "text/plain": [
       "[11, 17, 15, 4, 13, 5, 5, 14, 6]"
      ]
     },
     "execution_count": 51,
     "metadata": {},
     "output_type": "execute_result"
    }
   ],
   "source": [
    "def f(arr1):\n",
    "    res=[]\n",
    "    i=0\n",
    "    for j in range(int(len(arr1)/3)):\n",
    "        arr=arr1[i:i+3]\n",
    "        res.extend(arr[::-1])\n",
    "        i+=len(arr)\n",
    "    return res\n",
    "\n",
    "f(arr)"
   ]
  },
  {
   "cell_type": "code",
   "execution_count": 58,
   "id": "f8027b4d",
   "metadata": {},
   "outputs": [
    {
     "data": {
      "text/plain": [
       "[7, 17, 18, 11, 18, 8, 8, 14, 8, 6]"
      ]
     },
     "execution_count": 58,
     "metadata": {},
     "output_type": "execute_result"
    }
   ],
   "source": [
    "#Реализовать функцию, которая из двух списков, состоящих из чисел, строит список из парных разностей. \n",
    "#Например для [1, 2, 3, 4] и [2, 3, 4, 2] должно получиться [-1, -1, -1, 2].\n",
    "arr = [random.randint(4, 21) for i in range(10)]\n",
    "arr"
   ]
  },
  {
   "cell_type": "code",
   "execution_count": 59,
   "id": "8ab2fab2",
   "metadata": {},
   "outputs": [
    {
     "data": {
      "text/plain": [
       "[8, 5, 14, 13, 10, 12, 4, 17, 10, 20]"
      ]
     },
     "execution_count": 59,
     "metadata": {},
     "output_type": "execute_result"
    }
   ],
   "source": [
    "arr1 = [random.randint(4, 21) for i in range(10)]\n",
    "arr1"
   ]
  },
  {
   "cell_type": "code",
   "execution_count": 60,
   "id": "393511a5",
   "metadata": {},
   "outputs": [
    {
     "data": {
      "text/plain": [
       "[-1, 12, 4, -2, 8, -4, 4, -3, -2, -14]"
      ]
     },
     "execution_count": 60,
     "metadata": {},
     "output_type": "execute_result"
    }
   ],
   "source": [
    "def f(arr, arr1):\n",
    "    res=[]\n",
    "    for i in range(len(arr)):\n",
    "        res.append(arr[i]-arr1[i])\n",
    "    return res\n",
    "\n",
    "f(arr,arr1)"
   ]
  },
  {
   "cell_type": "code",
   "execution_count": 63,
   "id": "c9177145",
   "metadata": {},
   "outputs": [
    {
     "data": {
      "text/plain": [
       "[1, 4, 4, 5, 2, 5, 3, 1, 4, 5]"
      ]
     },
     "execution_count": 63,
     "metadata": {},
     "output_type": "execute_result"
    }
   ],
   "source": [
    "#Для заданного списка L функция образует список из чисел сколько раз каждый символ встречается в списке L.\n",
    "L = [random.randint(0, 5) for i in range(10)]\n",
    "L"
   ]
  },
  {
   "cell_type": "code",
   "execution_count": 64,
   "id": "f14d0b49",
   "metadata": {},
   "outputs": [
    {
     "data": {
      "text/plain": [
       "[2, 3, 3, 1, 1]"
      ]
     },
     "execution_count": 64,
     "metadata": {},
     "output_type": "execute_result"
    }
   ],
   "source": [
    "def f(L):\n",
    "    res=[]\n",
    "    l=[]\n",
    "    for i in L:\n",
    "        if i in l:\n",
    "            continue\n",
    "        res.append(L.count(i))\n",
    "        l.append(i)\n",
    "    return res\n",
    "\n",
    "f(L)"
   ]
  },
  {
   "cell_type": "code",
   "execution_count": 65,
   "id": "5c4ac3fc",
   "metadata": {},
   "outputs": [
    {
     "data": {
      "text/plain": [
       "[9, -14, -20, -9, -4, 7, 5, 12, -11, -17]"
      ]
     },
     "execution_count": 65,
     "metadata": {},
     "output_type": "execute_result"
    }
   ],
   "source": [
    "#Функция удаляет все нулевые и отрицательные элементы из списка и полученный список сортирует по возрастанию.\n",
    "arr = [random.randint(-21, 12) for i in range(10)]\n",
    "arr"
   ]
  },
  {
   "cell_type": "code",
   "execution_count": 66,
   "id": "9f93d2e9",
   "metadata": {},
   "outputs": [
    {
     "data": {
      "text/plain": [
       "[5, 7, 9, 12]"
      ]
     },
     "execution_count": 66,
     "metadata": {},
     "output_type": "execute_result"
    }
   ],
   "source": [
    "def f(arr):\n",
    "    return sorted([i for i in arr if i > 0])\n",
    "\n",
    "f(arr)"
   ]
  },
  {
   "cell_type": "code",
   "execution_count": 76,
   "id": "426a20a1",
   "metadata": {},
   "outputs": [
    {
     "name": "stdout",
     "output_type": "stream",
     "text": [
      "Введите число: 10\n"
     ]
    },
    {
     "data": {
      "text/plain": [
       "[1, 2, 3, 4, 5, 6]"
      ]
     },
     "execution_count": 76,
     "metadata": {},
     "output_type": "execute_result"
    }
   ],
   "source": [
    "#Функция для заданного числа N и списка из элементов не превышающих N формирует список из недостающих. \n",
    "#Например, N=10, список — [1, 2, 3, 6, 7], тогда результат [4, 5, 8, 9].\n",
    "N = int(input('Введите число: '))\n",
    "arr = list(range(1,N-3))\n",
    "arr"
   ]
  },
  {
   "cell_type": "code",
   "execution_count": 78,
   "id": "18b2baed",
   "metadata": {},
   "outputs": [
    {
     "data": {
      "text/plain": [
       "[7, 8, 9]"
      ]
     },
     "execution_count": 78,
     "metadata": {},
     "output_type": "execute_result"
    }
   ],
   "source": [
    "def f(arr, N):\n",
    "    res = list()\n",
    "    for i in range(1, N):\n",
    "        if i not in arr:\n",
    "            res.append(i)\n",
    "    return res\n",
    "\n",
    "f(arr,N)"
   ]
  },
  {
   "cell_type": "code",
   "execution_count": 1,
   "id": "ef036935",
   "metadata": {},
   "outputs": [
    {
     "data": {
      "text/html": [
       "<div>\n",
       "<style scoped>\n",
       "    .dataframe tbody tr th:only-of-type {\n",
       "        vertical-align: middle;\n",
       "    }\n",
       "\n",
       "    .dataframe tbody tr th {\n",
       "        vertical-align: top;\n",
       "    }\n",
       "\n",
       "    .dataframe thead th {\n",
       "        text-align: right;\n",
       "    }\n",
       "</style>\n",
       "<table border=\"1\" class=\"dataframe\">\n",
       "  <thead>\n",
       "    <tr style=\"text-align: right;\">\n",
       "      <th></th>\n",
       "      <th>ФИО</th>\n",
       "      <th>Дата рождения</th>\n",
       "      <th>Пол</th>\n",
       "      <th>Дата приема на работу</th>\n",
       "      <th>Оклад</th>\n",
       "      <th>Семейное положение</th>\n",
       "      <th>Кол-во детей</th>\n",
       "    </tr>\n",
       "  </thead>\n",
       "  <tbody>\n",
       "    <tr>\n",
       "      <th>0</th>\n",
       "      <td>Алистратов А.А.</td>\n",
       "      <td>27.10.1975</td>\n",
       "      <td>м</td>\n",
       "      <td>08.09.1997</td>\n",
       "      <td>4000</td>\n",
       "      <td>женат</td>\n",
       "      <td>1.0</td>\n",
       "    </tr>\n",
       "    <tr>\n",
       "      <th>1</th>\n",
       "      <td>Анохин Н.И.</td>\n",
       "      <td>11.12.1948</td>\n",
       "      <td>м</td>\n",
       "      <td>23.05.1986</td>\n",
       "      <td>5000</td>\n",
       "      <td>разведен</td>\n",
       "      <td>1.0</td>\n",
       "    </tr>\n",
       "    <tr>\n",
       "      <th>2</th>\n",
       "      <td>Антонова И.П.</td>\n",
       "      <td>04.12.1951</td>\n",
       "      <td>ж</td>\n",
       "      <td>09.05.1988</td>\n",
       "      <td>4300</td>\n",
       "      <td>замужем</td>\n",
       "      <td>1.0</td>\n",
       "    </tr>\n",
       "    <tr>\n",
       "      <th>3</th>\n",
       "      <td>Артемова Г.А.</td>\n",
       "      <td>06.08.1979</td>\n",
       "      <td>ж</td>\n",
       "      <td>05.09.1997</td>\n",
       "      <td>4500</td>\n",
       "      <td>незамужем</td>\n",
       "      <td>NaN</td>\n",
       "    </tr>\n",
       "    <tr>\n",
       "      <th>4</th>\n",
       "      <td>Афоничева Л.К.</td>\n",
       "      <td>09.01.1952</td>\n",
       "      <td>ж</td>\n",
       "      <td>05.10.1985</td>\n",
       "      <td>4900</td>\n",
       "      <td>замужем</td>\n",
       "      <td>1.0</td>\n",
       "    </tr>\n",
       "    <tr>\n",
       "      <th>...</th>\n",
       "      <td>...</td>\n",
       "      <td>...</td>\n",
       "      <td>...</td>\n",
       "      <td>...</td>\n",
       "      <td>...</td>\n",
       "      <td>...</td>\n",
       "      <td>...</td>\n",
       "    </tr>\n",
       "    <tr>\n",
       "      <th>95</th>\n",
       "      <td>Шафеева Н.К.</td>\n",
       "      <td>29.07.1939</td>\n",
       "      <td>ж</td>\n",
       "      <td>09.12.1985</td>\n",
       "      <td>4500</td>\n",
       "      <td>замужем</td>\n",
       "      <td>1.0</td>\n",
       "    </tr>\n",
       "    <tr>\n",
       "      <th>96</th>\n",
       "      <td>Шиманюк Н.И.</td>\n",
       "      <td>06.11.1979</td>\n",
       "      <td>м</td>\n",
       "      <td>23.11.1998</td>\n",
       "      <td>4000</td>\n",
       "      <td>холост</td>\n",
       "      <td>NaN</td>\n",
       "    </tr>\n",
       "    <tr>\n",
       "      <th>97</th>\n",
       "      <td>Элиава Т.М.</td>\n",
       "      <td>19.05.1981</td>\n",
       "      <td>м</td>\n",
       "      <td>10.09.1997</td>\n",
       "      <td>3700</td>\n",
       "      <td>холост</td>\n",
       "      <td>NaN</td>\n",
       "    </tr>\n",
       "    <tr>\n",
       "      <th>98</th>\n",
       "      <td>Якимова Н.М.</td>\n",
       "      <td>16.05.1973</td>\n",
       "      <td>ж</td>\n",
       "      <td>07.09.1999</td>\n",
       "      <td>3000</td>\n",
       "      <td>замужем</td>\n",
       "      <td>2.0</td>\n",
       "    </tr>\n",
       "    <tr>\n",
       "      <th>99</th>\n",
       "      <td>Яфарова Т.Н.</td>\n",
       "      <td>04.09.1945</td>\n",
       "      <td>ж</td>\n",
       "      <td>21.03.1986</td>\n",
       "      <td>4000</td>\n",
       "      <td>замужем</td>\n",
       "      <td>2.0</td>\n",
       "    </tr>\n",
       "  </tbody>\n",
       "</table>\n",
       "<p>100 rows × 7 columns</p>\n",
       "</div>"
      ],
      "text/plain": [
       "                ФИО Дата рождения Пол Дата приема на работу  Оклад  \\\n",
       "0   Алистратов А.А.    27.10.1975   м            08.09.1997   4000   \n",
       "1       Анохин Н.И.    11.12.1948   м            23.05.1986   5000   \n",
       "2     Антонова И.П.    04.12.1951   ж            09.05.1988   4300   \n",
       "3     Артемова Г.А.    06.08.1979   ж            05.09.1997   4500   \n",
       "4    Афоничева Л.К.    09.01.1952   ж            05.10.1985   4900   \n",
       "..              ...           ...  ..                   ...    ...   \n",
       "95     Шафеева Н.К.    29.07.1939   ж            09.12.1985   4500   \n",
       "96     Шиманюк Н.И.    06.11.1979   м            23.11.1998   4000   \n",
       "97      Элиава Т.М.    19.05.1981   м            10.09.1997   3700   \n",
       "98     Якимова Н.М.    16.05.1973   ж            07.09.1999   3000   \n",
       "99     Яфарова Т.Н.    04.09.1945   ж            21.03.1986   4000   \n",
       "\n",
       "   Семейное положение  Кол-во детей  \n",
       "0               женат           1.0  \n",
       "1            разведен           1.0  \n",
       "2             замужем           1.0  \n",
       "3           незамужем           NaN  \n",
       "4             замужем           1.0  \n",
       "..                ...           ...  \n",
       "95            замужем           1.0  \n",
       "96             холост           NaN  \n",
       "97             холост           NaN  \n",
       "98            замужем           2.0  \n",
       "99            замужем           2.0  \n",
       "\n",
       "[100 rows x 7 columns]"
      ]
     },
     "execution_count": 1,
     "metadata": {},
     "output_type": "execute_result"
    }
   ],
   "source": [
    "#Из папки на github с текущим заданием загрузить файл data_1.csv\n",
    "import numpy as np\n",
    "import pandas as pd\n",
    "\n",
    "data=pd.read_csv(\"https://raw.githubusercontent.com/junaart/ForStudents/master/Big_Data/Seminar_4/data_1.csv\")\n",
    "data"
   ]
  },
  {
   "cell_type": "code",
   "execution_count": null,
   "id": "4cb7b1c9",
   "metadata": {},
   "outputs": [],
   "source": []
  }
 ],
 "metadata": {
  "kernelspec": {
   "display_name": "Python 3 (ipykernel)",
   "language": "python",
   "name": "python3"
  },
  "language_info": {
   "codemirror_mode": {
    "name": "ipython",
    "version": 3
   },
   "file_extension": ".py",
   "mimetype": "text/x-python",
   "name": "python",
   "nbconvert_exporter": "python",
   "pygments_lexer": "ipython3",
   "version": "3.9.7"
  }
 },
 "nbformat": 4,
 "nbformat_minor": 5
}
