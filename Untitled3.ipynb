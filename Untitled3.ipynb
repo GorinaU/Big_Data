{
 "cells": [
  {
   "cell_type": "code",
   "execution_count": 1,
   "id": "cb8f6b82",
   "metadata": {
    "scrolled": false
   },
   "outputs": [
    {
     "data": {
      "text/html": [
       "<div>\n",
       "<style scoped>\n",
       "    .dataframe tbody tr th:only-of-type {\n",
       "        vertical-align: middle;\n",
       "    }\n",
       "\n",
       "    .dataframe tbody tr th {\n",
       "        vertical-align: top;\n",
       "    }\n",
       "\n",
       "    .dataframe thead th {\n",
       "        text-align: right;\n",
       "    }\n",
       "</style>\n",
       "<table border=\"1\" class=\"dataframe\">\n",
       "  <thead>\n",
       "    <tr style=\"text-align: right;\">\n",
       "      <th></th>\n",
       "      <th>town1</th>\n",
       "      <th>Avg-Avg-К9</th>\n",
       "      <th>Avg-Avg-К101</th>\n",
       "      <th>Avg-Avg-К102</th>\n",
       "      <th>Avg-Avg-К11</th>\n",
       "      <th>Avg-Avg-К121</th>\n",
       "      <th>Avg-Avg-К122</th>\n",
       "    </tr>\n",
       "  </thead>\n",
       "  <tbody>\n",
       "    <tr>\n",
       "      <th>0</th>\n",
       "      <td>Абакан</td>\n",
       "      <td>703.500000</td>\n",
       "      <td>94.250000</td>\n",
       "      <td>0.750000</td>\n",
       "      <td>6.750000</td>\n",
       "      <td>5.250000</td>\n",
       "      <td>1.250000</td>\n",
       "    </tr>\n",
       "    <tr>\n",
       "      <th>1</th>\n",
       "      <td>Азовский район</td>\n",
       "      <td>0.000000</td>\n",
       "      <td>0.000000</td>\n",
       "      <td>0.000000</td>\n",
       "      <td>0.000000</td>\n",
       "      <td>0.000000</td>\n",
       "      <td>0.000000</td>\n",
       "    </tr>\n",
       "    <tr>\n",
       "      <th>2</th>\n",
       "      <td>Аксайский район</td>\n",
       "      <td>6.250000</td>\n",
       "      <td>8.000000</td>\n",
       "      <td>0.000000</td>\n",
       "      <td>1.500000</td>\n",
       "      <td>1.500000</td>\n",
       "      <td>0.250000</td>\n",
       "    </tr>\n",
       "    <tr>\n",
       "      <th>3</th>\n",
       "      <td>Алексеевкий район</td>\n",
       "      <td>0.000000</td>\n",
       "      <td>0.000000</td>\n",
       "      <td>0.000000</td>\n",
       "      <td>0.000000</td>\n",
       "      <td>0.000000</td>\n",
       "      <td>0.000000</td>\n",
       "    </tr>\n",
       "    <tr>\n",
       "      <th>4</th>\n",
       "      <td>Анапа</td>\n",
       "      <td>0.000000</td>\n",
       "      <td>0.000000</td>\n",
       "      <td>0.000000</td>\n",
       "      <td>0.000000</td>\n",
       "      <td>0.000000</td>\n",
       "      <td>0.000000</td>\n",
       "    </tr>\n",
       "    <tr>\n",
       "      <th>...</th>\n",
       "      <td>...</td>\n",
       "      <td>...</td>\n",
       "      <td>...</td>\n",
       "      <td>...</td>\n",
       "      <td>...</td>\n",
       "      <td>...</td>\n",
       "      <td>...</td>\n",
       "    </tr>\n",
       "    <tr>\n",
       "      <th>276</th>\n",
       "      <td>Южно-Сахалинск</td>\n",
       "      <td>62.450000</td>\n",
       "      <td>12.450000</td>\n",
       "      <td>0.000000</td>\n",
       "      <td>0.450000</td>\n",
       "      <td>0.850000</td>\n",
       "      <td>0.200000</td>\n",
       "    </tr>\n",
       "    <tr>\n",
       "      <th>277</th>\n",
       "      <td>Якутск</td>\n",
       "      <td>67.400000</td>\n",
       "      <td>27.650000</td>\n",
       "      <td>0.366667</td>\n",
       "      <td>2.750000</td>\n",
       "      <td>2.250000</td>\n",
       "      <td>0.550000</td>\n",
       "    </tr>\n",
       "    <tr>\n",
       "      <th>278</th>\n",
       "      <td>Ялта</td>\n",
       "      <td>0.000000</td>\n",
       "      <td>2.666667</td>\n",
       "      <td>0.000000</td>\n",
       "      <td>0.500000</td>\n",
       "      <td>0.833333</td>\n",
       "      <td>0.166667</td>\n",
       "    </tr>\n",
       "    <tr>\n",
       "      <th>279</th>\n",
       "      <td>Ярославль</td>\n",
       "      <td>299.404762</td>\n",
       "      <td>62.500000</td>\n",
       "      <td>1.000000</td>\n",
       "      <td>5.964286</td>\n",
       "      <td>7.107143</td>\n",
       "      <td>1.535714</td>\n",
       "    </tr>\n",
       "    <tr>\n",
       "      <th>280</th>\n",
       "      <td>Ярославский район</td>\n",
       "      <td>7.333333</td>\n",
       "      <td>5.000000</td>\n",
       "      <td>0.666667</td>\n",
       "      <td>1.666667</td>\n",
       "      <td>0.333333</td>\n",
       "      <td>0.000000</td>\n",
       "    </tr>\n",
       "  </tbody>\n",
       "</table>\n",
       "<p>281 rows × 7 columns</p>\n",
       "</div>"
      ],
      "text/plain": [
       "                 town1  Avg-Avg-К9  Avg-Avg-К101  Avg-Avg-К102  Avg-Avg-К11  \\\n",
       "0               Абакан  703.500000     94.250000      0.750000     6.750000   \n",
       "1       Азовский район    0.000000      0.000000      0.000000     0.000000   \n",
       "2      Аксайский район    6.250000      8.000000      0.000000     1.500000   \n",
       "3    Алексеевкий район    0.000000      0.000000      0.000000     0.000000   \n",
       "4                Анапа    0.000000      0.000000      0.000000     0.000000   \n",
       "..                 ...         ...           ...           ...          ...   \n",
       "276     Южно-Сахалинск   62.450000     12.450000      0.000000     0.450000   \n",
       "277             Якутск   67.400000     27.650000      0.366667     2.750000   \n",
       "278               Ялта    0.000000      2.666667      0.000000     0.500000   \n",
       "279          Ярославль  299.404762     62.500000      1.000000     5.964286   \n",
       "280  Ярославский район    7.333333      5.000000      0.666667     1.666667   \n",
       "\n",
       "     Avg-Avg-К121  Avg-Avg-К122  \n",
       "0        5.250000      1.250000  \n",
       "1        0.000000      0.000000  \n",
       "2        1.500000      0.250000  \n",
       "3        0.000000      0.000000  \n",
       "4        0.000000      0.000000  \n",
       "..            ...           ...  \n",
       "276      0.850000      0.200000  \n",
       "277      2.250000      0.550000  \n",
       "278      0.833333      0.166667  \n",
       "279      7.107143      1.535714  \n",
       "280      0.333333      0.000000  \n",
       "\n",
       "[281 rows x 7 columns]"
      ]
     },
     "execution_count": 1,
     "metadata": {},
     "output_type": "execute_result"
    }
   ],
   "source": [
    "import numpy as np\n",
    "import pandas as pd\n",
    "from matplotlib import pyplot as plt\n",
    "\n",
    "data=pd.read_excel(\"https://github.com/junaart/ForStudents/blob/master/Big_Data/Zachet/DataSets/2.xlsx?raw=true\",engine=\"openpyxl\")\n",
    "data"
   ]
  },
  {
   "cell_type": "markdown",
   "id": "39553729",
   "metadata": {},
   "source": [
    "# Первый Блок"
   ]
  },
  {
   "cell_type": "markdown",
   "id": "3c236ed8",
   "metadata": {},
   "source": [
    "#### По одному из выбранных вами количественных признаков выполнить расчет мер центральной тендекции: среднего арифметического, гармонического, геометрического, медианы."
   ]
  },
  {
   "cell_type": "code",
   "execution_count": 2,
   "id": "5bb526e2",
   "metadata": {},
   "outputs": [
    {
     "name": "stdout",
     "output_type": "stream",
     "text": [
      "5.887518573281088 1.0361602279584172 2.6904678480533626 0.25\n"
     ]
    }
   ],
   "source": [
    "import statistics as stats\n",
    "\n",
    "avg=data['Avg-Avg-К11'].mean()\n",
    "avgharm=stats.harmonic_mean(data['Avg-Avg-К11'][data['Avg-Avg-К11']>0])\n",
    "avggeom=stats.geometric_mean(data['Avg-Avg-К11'][data['Avg-Avg-К11']>0])\n",
    "med=data['Avg-Avg-К11'].median()\n",
    "print(avg,avgharm,avggeom,med)"
   ]
  },
  {
   "cell_type": "markdown",
   "id": "85b0c9ca",
   "metadata": {},
   "source": [
    "#### Выполнить расчет значений 1, 3 квартилей для выбранного в п.1 признака."
   ]
  },
  {
   "cell_type": "code",
   "execution_count": 3,
   "id": "8113f28c",
   "metadata": {},
   "outputs": [
    {
     "name": "stdout",
     "output_type": "stream",
     "text": [
      "0.0\n",
      "2.3333333333333335\n"
     ]
    }
   ],
   "source": [
    "print(np.quantile(np.array(data['Avg-Avg-К11']),0.25))\n",
    "print(np.quantile(np.array(data['Avg-Avg-К11']),0.75))"
   ]
  },
  {
   "cell_type": "markdown",
   "id": "ff42eb3e",
   "metadata": {},
   "source": [
    "#### Построить по выбранному в п.1 признаку гистограмму частот, отметив на ней все рассчитанные меры центральной тенденции и квартили."
   ]
  },
  {
   "cell_type": "code",
   "execution_count": 3,
   "id": "1b8e1a3e",
   "metadata": {},
   "outputs": [
    {
     "data": {
      "text/plain": [
       "Counter({6.75: 1,\n",
       "         0.0: 135,\n",
       "         1.5: 3,\n",
       "         0.869047619047619: 1,\n",
       "         8.666666666666666: 1,\n",
       "         0.42857142857142855: 1,\n",
       "         1.4230769230769231: 1,\n",
       "         13.5: 1,\n",
       "         0.25: 6,\n",
       "         154.91666666666666: 1,\n",
       "         0.5: 8,\n",
       "         3.125: 1,\n",
       "         2.75: 3,\n",
       "         1.4: 2,\n",
       "         3.75: 3,\n",
       "         2.3333333333333335: 1,\n",
       "         1.75: 2,\n",
       "         8.66: 1,\n",
       "         1.3409090909090908: 1,\n",
       "         13.0625: 1,\n",
       "         9.01923076923077: 1,\n",
       "         3.1875: 1,\n",
       "         8.0: 2,\n",
       "         7.25: 3,\n",
       "         1.8125: 2,\n",
       "         86.91666666666667: 1,\n",
       "         589.9583333333334: 1,\n",
       "         4.147163120567376: 1,\n",
       "         1.25: 2,\n",
       "         2.0: 3,\n",
       "         27.25: 1,\n",
       "         39.0: 1,\n",
       "         2.65: 1,\n",
       "         1.625: 1,\n",
       "         22.98611111111111: 1,\n",
       "         1.0: 7,\n",
       "         5.0: 1,\n",
       "         15.420138888888891: 1,\n",
       "         2.1041666666666665: 1,\n",
       "         4.416666666666667: 1,\n",
       "         6.428571428571429: 1,\n",
       "         6.25: 1,\n",
       "         8.083333333333334: 1,\n",
       "         0.9166666666666666: 2,\n",
       "         3.9166666666666665: 1,\n",
       "         2.892857142857143: 1,\n",
       "         12.5: 1,\n",
       "         1.6666666666666667: 2,\n",
       "         2.7794117647058822: 1,\n",
       "         0.3333333333333333: 1,\n",
       "         7.891011235955055: 1,\n",
       "         2.25: 2,\n",
       "         4.2272727272727275: 1,\n",
       "         18.25: 1,\n",
       "         16.943181818181817: 1,\n",
       "         1.375: 2,\n",
       "         16.734126984126984: 1,\n",
       "         4.183333333333334: 1,\n",
       "         5.25: 2,\n",
       "         2.1333333333333333: 1,\n",
       "         1.4666666666666666: 1,\n",
       "         1.35: 1,\n",
       "         4.541666666666667: 1,\n",
       "         9.176470588235293: 1,\n",
       "         1.8333333333333335: 1,\n",
       "         3.25: 1,\n",
       "         0.9375: 1,\n",
       "         11.541666666666666: 1,\n",
       "         124.33333333333333: 1,\n",
       "         1.1666666666666667: 1,\n",
       "         1.1875: 1,\n",
       "         3.5: 1,\n",
       "         5.583333333333333: 1,\n",
       "         4.0: 1,\n",
       "         17.359649122807017: 1,\n",
       "         1.7916666666666667: 1,\n",
       "         18.294117647058822: 1,\n",
       "         9.270383693045565: 1,\n",
       "         1.5833333333333333: 1,\n",
       "         1.0789473684210527: 1,\n",
       "         0.65: 1,\n",
       "         0.125: 1,\n",
       "         0.4: 1,\n",
       "         2.388888888888889: 1,\n",
       "         2.1: 1,\n",
       "         0.03571428571428571: 1,\n",
       "         1.55: 1,\n",
       "         7.842592592592592: 1,\n",
       "         0.95: 1,\n",
       "         2.90625: 1,\n",
       "         2.1666666666666665: 1,\n",
       "         38.725: 1,\n",
       "         7.15625: 1,\n",
       "         6.416666666666667: 1,\n",
       "         7.537878787878787: 1,\n",
       "         8.893939393939394: 1,\n",
       "         1.3214285714285714: 1,\n",
       "         0.5555555555555556: 1,\n",
       "         7.05128205128205: 1,\n",
       "         2.140625: 1,\n",
       "         2.0833333333333335: 1,\n",
       "         38.0625: 1,\n",
       "         0.75: 2,\n",
       "         8.694444444444445: 1,\n",
       "         10.5: 1,\n",
       "         5.083333333333333: 1,\n",
       "         0.45: 1,\n",
       "         5.964285714285714: 1})"
      ]
     },
     "execution_count": 3,
     "metadata": {},
     "output_type": "execute_result"
    }
   ],
   "source": [
    "from collections import Counter\n",
    "count=Counter(data['Avg-Avg-К11'])\n",
    "count"
   ]
  },
  {
   "cell_type": "code",
   "execution_count": 4,
   "id": "896f425e",
   "metadata": {},
   "outputs": [
    {
     "data": {
      "image/png": "[encoded data removed]",
      "text/plain": [
       "<Figure size 432x288 with 1 Axes>"
      ]
     },
     "metadata": {
      "needs_background": "light"
     },
     "output_type": "display_data"
    }
   ],
   "source": [
    "from matplotlib import pyplot as plt\n",
    "import math\n",
    "\n",
    "y=[count[i] for i in data['Avg-Avg-К11']]\n",
    "plt.bar(data['Avg-Avg-К11'],y)\n",
    "plt.title(\"Гистограмма частот\")\n",
    "\n",
    "x_mean=[avg for i in range(len(data['Avg-Avg-К11']))]\n",
    "y_mean=[count[i] for i in range(len(data['Avg-Avg-К11']))]\n",
    "plt.plot(x_mean,y_mean,label=\"Ср.ариф.\")\n",
    "x_hmean=[avgharm for i in range(len(data['Avg-Avg-К11']))]\n",
    "y_hmean=[count[i] for i in range(len(data['Avg-Avg-К11']))]\n",
    "plt.plot(x_hmean,y_hmean,label=\"Ср.гарм.\")\n",
    "x_gmean=[avggeom for i in range(len(data['Avg-Avg-К11']))]\n",
    "y_gmean=[count[i] for i in range(len(data['Avg-Avg-К11']))]\n",
    "plt.plot(x_gmean,y_gmean,label=\"Ср.геом.\")\n",
    "x_med=[pd.Series(data['Avg-Avg-К11']).median() for i in range(len(data['Avg-Avg-К11']))]\n",
    "y_med=[count[i] for i in range(len(data['Avg-Avg-К11']))]\n",
    "plt.plot(x_med,y_med,label=\"Медиана\")\n",
    "x_q1=[data['Avg-Avg-К11'].quantile([0.25]) for i in range(len(data['Avg-Avg-К11']))]\n",
    "y_q1=[count[i] for i in range(len(data['Avg-Avg-К11']))]\n",
    "plt.plot(x_q1,y_q1,label=\"Q1\")\n",
    "x_q3=[data['Avg-Avg-К11'].quantile([0.75]) for i in range(len(data['Avg-Avg-К11']))]\n",
    "y_q3=[count[i] for i in range(len(data['Avg-Avg-К11']))]\n",
    "plt.plot(x_q3,y_q3,label=\"Q3\")\n",
    "plt.legend()\n",
    "plt.show()"
   ]
  },
  {
   "cell_type": "markdown",
   "id": "b3d22a9d",
   "metadata": {},
   "source": [
    "#### По выбранному в п.1 показателю построить огиву."
   ]
  },
  {
   "cell_type": "code",
   "execution_count": 6,
   "id": "063d1809",
   "metadata": {},
   "outputs": [
    {
     "data": {
      "image/png": "[encoded data removed]",
      "text/plain": [
       "<Figure size 432x288 with 1 Axes>"
      ]
     },
     "metadata": {
      "needs_background": "light"
     },
     "output_type": "display_data"
    }
   ],
   "source": [
    "plt.plot(np.cumsum(data['Avg-Avg-К11']))\n",
    "plt.title('Кумулятивная кривая')\n",
    "plt.show()"
   ]
  },
  {
   "cell_type": "markdown",
   "id": "2d8ab153",
   "metadata": {},
   "source": [
    "#### Выполнить группировку значений показателя, рассчитать среднее арифметическое, медиану и моду по сгруппированным данным, сравнить полученные значения с значениями, полученными по несгруппированным данным."
   ]
  },
  {
   "cell_type": "code",
   "execution_count": 5,
   "id": "de55198b",
   "metadata": {
    "scrolled": true
   },
   "outputs": [
    {
     "data": {
      "text/plain": [
       "8"
      ]
     },
     "execution_count": 5,
     "metadata": {},
     "output_type": "execute_result"
    }
   ],
   "source": [
    "# p=plt.hist(data['Avg-Avg-К11'])\n",
    "# print(list(p[0]),list(p[1]))\n",
    "import math\n",
    "k=math.ceil(1+math.log2(len(count)))\n",
    "k"
   ]
  },
  {
   "cell_type": "code",
   "execution_count": 6,
   "id": "b101a371",
   "metadata": {
    "scrolled": true
   },
   "outputs": [
    {
     "data": {
      "text/plain": [
       "73"
      ]
     },
     "execution_count": 6,
     "metadata": {},
     "output_type": "execute_result"
    }
   ],
   "source": [
    "h=math.floor((max(data['Avg-Avg-К11'])-min(data['Avg-Avg-К11']))/k)\n",
    "h"
   ]
  },
  {
   "cell_type": "code",
   "execution_count": 7,
   "id": "44b1a043",
   "metadata": {
    "scrolled": false
   },
   "outputs": [
    {
     "data": {
      "text/html": [
       "<div>\n",
       "<style scoped>\n",
       "    .dataframe tbody tr th:only-of-type {\n",
       "        vertical-align: middle;\n",
       "    }\n",
       "\n",
       "    .dataframe tbody tr th {\n",
       "        vertical-align: top;\n",
       "    }\n",
       "\n",
       "    .dataframe thead th {\n",
       "        text-align: right;\n",
       "    }\n",
       "</style>\n",
       "<table border=\"1\" class=\"dataframe\">\n",
       "  <thead>\n",
       "    <tr style=\"text-align: right;\">\n",
       "      <th></th>\n",
       "      <th>frec</th>\n",
       "    </tr>\n",
       "  </thead>\n",
       "  <tbody>\n",
       "    <tr>\n",
       "      <th>0-73</th>\n",
       "      <td>277</td>\n",
       "    </tr>\n",
       "    <tr>\n",
       "      <th>73-146</th>\n",
       "      <td>2</td>\n",
       "    </tr>\n",
       "    <tr>\n",
       "      <th>146-219</th>\n",
       "      <td>1</td>\n",
       "    </tr>\n",
       "    <tr>\n",
       "      <th>219-292</th>\n",
       "      <td>0</td>\n",
       "    </tr>\n",
       "    <tr>\n",
       "      <th>292-365</th>\n",
       "      <td>0</td>\n",
       "    </tr>\n",
       "    <tr>\n",
       "      <th>365-438</th>\n",
       "      <td>0</td>\n",
       "    </tr>\n",
       "    <tr>\n",
       "      <th>438-511</th>\n",
       "      <td>0</td>\n",
       "    </tr>\n",
       "    <tr>\n",
       "      <th>511-584</th>\n",
       "      <td>0</td>\n",
       "    </tr>\n",
       "  </tbody>\n",
       "</table>\n",
       "</div>"
      ],
      "text/plain": [
       "         frec\n",
       "0-73      277\n",
       "73-146      2\n",
       "146-219     1\n",
       "219-292     0\n",
       "292-365     0\n",
       "365-438     0\n",
       "438-511     0\n",
       "511-584     0"
      ]
     },
     "execution_count": 7,
     "metadata": {},
     "output_type": "execute_result"
    }
   ],
   "source": [
    "frec=[0 for i in range(k)]\n",
    "interval=['' for i in range(k)]\n",
    "H=min(data['Avg-Avg-К11'])\n",
    "k=0\n",
    "while H<max(data['Avg-Avg-К11'])-h:\n",
    "    for i in data['Avg-Avg-К11']:\n",
    "        if H<=i<H+h:\n",
    "            frec[k]+=1\n",
    "    interval[k]=str(math.ceil(H))+\"-\"+str(math.floor(H+h))\n",
    "    H+=h; k+=1\n",
    "group=pd.DataFrame(pd.Series(frec,index=interval),columns=['frec'])\n",
    "group"
   ]
  },
  {
   "cell_type": "code",
   "execution_count": 5,
   "id": "ef1abb7b",
   "metadata": {
    "scrolled": true
   },
   "outputs": [
    {
     "name": "stdout",
     "output_type": "stream",
     "text": [
      "[277.0, 1.0, 2.0, 0.0, 0.0, 0.0, 0.0, 0.0, 0.0, 1.0] [0.0, 58.99583333333334, 117.99166666666667, 176.9875, 235.98333333333335, 294.9791666666667, 353.975, 412.97083333333336, 471.9666666666667, 530.9625000000001, 589.9583333333334]\n"
     ]
    },
    {
     "data": {
      "text/plain": [
       "0 - 58       277\n",
       "59 - 117       1\n",
       "118 - 176      2\n",
       "177 - 235      0\n",
       "236 - 294      0\n",
       "295 - 353      0\n",
       "354 - 412      0\n",
       "413 - 471      0\n",
       "472 - 530      0\n",
       "531 - 589      1\n",
       "dtype: int32"
      ]
     },
     "execution_count": 5,
     "metadata": {},
     "output_type": "execute_result"
    },
    {
     "data": {
      "image/png": "[encoded data removed]",
      "text/plain": [
       "<Figure size 432x288 with 1 Axes>"
      ]
     },
     "metadata": {
      "needs_background": "light"
     },
     "output_type": "display_data"
    }
   ],
   "source": [
    "p=plt.hist(data['Avg-Avg-К11'])\n",
    "print(list(p[0]),list(p[1]))\n",
    "arr=[0]*len(p[1])\n",
    "for i in range(len(p[1])-1):\n",
    "    arr[i]=str(math.ceil(p[1][i]))+' - '+str(math.floor(p[1][i+1]))\n",
    "\n",
    "pd.Series(p[0].astype('int'), index=arr[:-1])"
   ]
  },
  {
   "cell_type": "markdown",
   "id": "ab405d91",
   "metadata": {},
   "source": [
    "# Второй Блок"
   ]
  },
  {
   "cell_type": "markdown",
   "id": "f4f6014c",
   "metadata": {},
   "source": [
    "#### Выполнить группировку другого количественного признака из датасета по группам признака, выбранного в первом блоке."
   ]
  },
  {
   "cell_type": "code",
   "execution_count": null,
   "id": "51b39598",
   "metadata": {},
   "outputs": [],
   "source": []
  },
  {
   "cell_type": "markdown",
   "id": "d5733007",
   "metadata": {},
   "source": [
    "# Третий Блок"
   ]
  },
  {
   "cell_type": "markdown",
   "id": "280d4c1e",
   "metadata": {},
   "source": [
    "#### Выполнить нормирование всех количественных показателей приведя их к шкале от 0 до 100."
   ]
  },
  {
   "cell_type": "code",
   "execution_count": 8,
   "id": "7673ec4b",
   "metadata": {},
   "outputs": [
    {
     "ename": "ValueError",
     "evalue": "could not convert string to float: 'Абакан'",
     "output_type": "error",
     "traceback": [
      "\u001b[1;31m---------------------------------------------------------------------------\u001b[0m",
      "\u001b[1;31mValueError\u001b[0m                                Traceback (most recent call last)",
      "\u001b[1;32m~\\AppData\\Local\\Temp/ipykernel_6204/2596982512.py\u001b[0m in \u001b[0;36m<module>\u001b[1;34m\u001b[0m\n\u001b[0;32m      3\u001b[0m \u001b[1;32mfrom\u001b[0m \u001b[0msklearn\u001b[0m\u001b[1;33m.\u001b[0m\u001b[0mcross_decomposition\u001b[0m \u001b[1;32mimport\u001b[0m \u001b[0mCCA\u001b[0m\u001b[1;33m\u001b[0m\u001b[1;33m\u001b[0m\u001b[0m\n\u001b[0;32m      4\u001b[0m \u001b[1;33m\u001b[0m\u001b[0m\n\u001b[1;32m----> 5\u001b[1;33m \u001b[0mnormalized_arr\u001b[0m\u001b[1;33m=\u001b[0m\u001b[0mpreprocessing\u001b[0m\u001b[1;33m.\u001b[0m\u001b[0mnormalize\u001b[0m\u001b[1;33m(\u001b[0m\u001b[0mdata\u001b[0m\u001b[1;33m)\u001b[0m\u001b[1;33m\u001b[0m\u001b[1;33m\u001b[0m\u001b[0m\n\u001b[0m\u001b[0;32m      6\u001b[0m \u001b[0mnormalized_arr\u001b[0m\u001b[1;33m\u001b[0m\u001b[1;33m\u001b[0m\u001b[0m\n",
      "\u001b[1;32m~\\AppData\\Local\\Programs\\Python\\Python39\\lib\\site-packages\\sklearn\\preprocessing\\_data.py\u001b[0m in \u001b[0;36mnormalize\u001b[1;34m(X, norm, axis, copy, return_norm)\u001b[0m\n\u001b[0;32m   1790\u001b[0m         \u001b[1;32mraise\u001b[0m \u001b[0mValueError\u001b[0m\u001b[1;33m(\u001b[0m\u001b[1;34m\"'%d' is not a supported axis\"\u001b[0m \u001b[1;33m%\u001b[0m \u001b[0maxis\u001b[0m\u001b[1;33m)\u001b[0m\u001b[1;33m\u001b[0m\u001b[1;33m\u001b[0m\u001b[0m\n\u001b[0;32m   1791\u001b[0m \u001b[1;33m\u001b[0m\u001b[0m\n\u001b[1;32m-> 1792\u001b[1;33m     X = check_array(\n\u001b[0m\u001b[0;32m   1793\u001b[0m         \u001b[0mX\u001b[0m\u001b[1;33m,\u001b[0m\u001b[1;33m\u001b[0m\u001b[1;33m\u001b[0m\u001b[0m\n\u001b[0;32m   1794\u001b[0m         \u001b[0maccept_sparse\u001b[0m\u001b[1;33m=\u001b[0m\u001b[0msparse_format\u001b[0m\u001b[1;33m,\u001b[0m\u001b[1;33m\u001b[0m\u001b[1;33m\u001b[0m\u001b[0m\n",
      "\u001b[1;32m~\\AppData\\Local\\Programs\\Python\\Python39\\lib\\site-packages\\sklearn\\utils\\validation.py\u001b[0m in \u001b[0;36mcheck_array\u001b[1;34m(array, accept_sparse, accept_large_sparse, dtype, order, copy, force_all_finite, ensure_2d, allow_nd, ensure_min_samples, ensure_min_features, estimator)\u001b[0m\n\u001b[0;32m    736\u001b[0m                     \u001b[0marray\u001b[0m \u001b[1;33m=\u001b[0m \u001b[0marray\u001b[0m\u001b[1;33m.\u001b[0m\u001b[0mastype\u001b[0m\u001b[1;33m(\u001b[0m\u001b[0mdtype\u001b[0m\u001b[1;33m,\u001b[0m \u001b[0mcasting\u001b[0m\u001b[1;33m=\u001b[0m\u001b[1;34m\"unsafe\"\u001b[0m\u001b[1;33m,\u001b[0m \u001b[0mcopy\u001b[0m\u001b[1;33m=\u001b[0m\u001b[1;32mFalse\u001b[0m\u001b[1;33m)\u001b[0m\u001b[1;33m\u001b[0m\u001b[1;33m\u001b[0m\u001b[0m\n\u001b[0;32m    737\u001b[0m                 \u001b[1;32melse\u001b[0m\u001b[1;33m:\u001b[0m\u001b[1;33m\u001b[0m\u001b[1;33m\u001b[0m\u001b[0m\n\u001b[1;32m--> 738\u001b[1;33m                     \u001b[0marray\u001b[0m \u001b[1;33m=\u001b[0m \u001b[0mnp\u001b[0m\u001b[1;33m.\u001b[0m\u001b[0masarray\u001b[0m\u001b[1;33m(\u001b[0m\u001b[0marray\u001b[0m\u001b[1;33m,\u001b[0m \u001b[0morder\u001b[0m\u001b[1;33m=\u001b[0m\u001b[0morder\u001b[0m\u001b[1;33m,\u001b[0m \u001b[0mdtype\u001b[0m\u001b[1;33m=\u001b[0m\u001b[0mdtype\u001b[0m\u001b[1;33m)\u001b[0m\u001b[1;33m\u001b[0m\u001b[1;33m\u001b[0m\u001b[0m\n\u001b[0m\u001b[0;32m    739\u001b[0m             \u001b[1;32mexcept\u001b[0m \u001b[0mComplexWarning\u001b[0m \u001b[1;32mas\u001b[0m \u001b[0mcomplex_warning\u001b[0m\u001b[1;33m:\u001b[0m\u001b[1;33m\u001b[0m\u001b[1;33m\u001b[0m\u001b[0m\n\u001b[0;32m    740\u001b[0m                 raise ValueError(\n",
      "\u001b[1;32m~\\AppData\\Local\\Programs\\Python\\Python39\\lib\\site-packages\\pandas\\core\\generic.py\u001b[0m in \u001b[0;36m__array__\u001b[1;34m(self, dtype)\u001b[0m\n\u001b[0;32m   1991\u001b[0m \u001b[1;33m\u001b[0m\u001b[0m\n\u001b[0;32m   1992\u001b[0m     \u001b[1;32mdef\u001b[0m \u001b[0m__array__\u001b[0m\u001b[1;33m(\u001b[0m\u001b[0mself\u001b[0m\u001b[1;33m,\u001b[0m \u001b[0mdtype\u001b[0m\u001b[1;33m:\u001b[0m \u001b[0mNpDtype\u001b[0m \u001b[1;33m|\u001b[0m \u001b[1;32mNone\u001b[0m \u001b[1;33m=\u001b[0m \u001b[1;32mNone\u001b[0m\u001b[1;33m)\u001b[0m \u001b[1;33m->\u001b[0m \u001b[0mnp\u001b[0m\u001b[1;33m.\u001b[0m\u001b[0mndarray\u001b[0m\u001b[1;33m:\u001b[0m\u001b[1;33m\u001b[0m\u001b[1;33m\u001b[0m\u001b[0m\n\u001b[1;32m-> 1993\u001b[1;33m         \u001b[1;32mreturn\u001b[0m \u001b[0mnp\u001b[0m\u001b[1;33m.\u001b[0m\u001b[0masarray\u001b[0m\u001b[1;33m(\u001b[0m\u001b[0mself\u001b[0m\u001b[1;33m.\u001b[0m\u001b[0m_values\u001b[0m\u001b[1;33m,\u001b[0m \u001b[0mdtype\u001b[0m\u001b[1;33m=\u001b[0m\u001b[0mdtype\u001b[0m\u001b[1;33m)\u001b[0m\u001b[1;33m\u001b[0m\u001b[1;33m\u001b[0m\u001b[0m\n\u001b[0m\u001b[0;32m   1994\u001b[0m \u001b[1;33m\u001b[0m\u001b[0m\n\u001b[0;32m   1995\u001b[0m     def __array_wrap__(\n",
      "\u001b[1;31mValueError\u001b[0m: could not convert string to float: 'Абакан'"
     ]
    }
   ],
   "source": [
    "from sklearn import preprocessing\n",
    "from sklearn.preprocessing import StandardScaler\n",
    "from sklearn.cross_decomposition import CCA\n",
    "\n",
    "normalized_arr=preprocessing.normalize(data)\n",
    "normalized_arr"
   ]
  },
  {
   "cell_type": "code",
   "execution_count": null,
   "id": "4df01216",
   "metadata": {},
   "outputs": [],
   "source": []
  }
 ],
 "metadata": {
  "kernelspec": {
   "display_name": "Python 3 (ipykernel)",
   "language": "python",
   "name": "python3"
  },
  "language_info": {
   "codemirror_mode": {
    "name": "ipython",
    "version": 3
   },
   "file_extension": ".py",
   "mimetype": "text/x-python",
   "name": "python",
   "nbconvert_exporter": "python",
   "pygments_lexer": "ipython3",
   "version": "3.9.7"
  },
  "toc": {
   "base_numbering": 1,
   "nav_menu": {},
   "number_sections": true,
   "sideBar": true,
   "skip_h1_title": false,
   "title_cell": "Table of Contents",
   "title_sidebar": "Contents",
   "toc_cell": false,
   "toc_position": {},
   "toc_section_display": true,
   "toc_window_display": false
  }
 },
 "nbformat": 4,
 "nbformat_minor": 5
}
