{
 "cells": [
  {
   "cell_type": "code",
   "execution_count": 2,
   "id": "24fae334",
   "metadata": {
    "scrolled": false
   },
   "outputs": [
    {
     "data": {
      "text/plain": [
       "dataset_id                                  AirPassengers\n",
       "title         Monthly Airline Passenger Numbers 1949-1960\n",
       "Name: 0, dtype: object"
      ]
     },
     "metadata": {},
     "output_type": "display_data"
    },
    {
     "data": {
      "text/plain": [
       "dataset_id                              BJsales\n",
       "title         Sales Data with Leading Indicator\n",
       "Name: 1, dtype: object"
      ]
     },
     "metadata": {},
     "output_type": "display_data"
    },
    {
     "data": {
      "text/plain": [
       "dataset_id                          BOD\n",
       "title         Biochemical Oxygen Demand\n",
       "Name: 2, dtype: object"
      ]
     },
     "metadata": {},
     "output_type": "display_data"
    },
    {
     "data": {
      "text/plain": [
       "dataset_id                     Formaldehyde\n",
       "title         Determination of Formaldehyde\n",
       "Name: 3, dtype: object"
      ]
     },
     "metadata": {},
     "output_type": "display_data"
    },
    {
     "data": {
      "text/plain": [
       "dataset_id                                 HairEyeColor\n",
       "title         Hair and Eye Color of Statistics Students\n",
       "Name: 4, dtype: object"
      ]
     },
     "metadata": {},
     "output_type": "display_data"
    },
    {
     "data": {
      "text/plain": [
       "dataset_id                      InsectSprays\n",
       "title         Effectiveness of Insect Sprays\n",
       "Name: 5, dtype: object"
      ]
     },
     "metadata": {},
     "output_type": "display_data"
    },
    {
     "data": {
      "text/plain": [
       "dataset_id                                    JohnsonJohnson\n",
       "title         Quarterly Earnings per Johnson & Johnson Share\n",
       "Name: 6, dtype: object"
      ]
     },
     "metadata": {},
     "output_type": "display_data"
    },
    {
     "data": {
      "text/plain": [
       "dataset_id                        LakeHuron\n",
       "title         Level of Lake Huron 1875-1972\n",
       "Name: 7, dtype: object"
      ]
     },
     "metadata": {},
     "output_type": "display_data"
    },
    {
     "data": {
      "text/plain": [
       "dataset_id                        LifeCycleSavings\n",
       "title         Intercountry Life-Cycle Savings Data\n",
       "Name: 8, dtype: object"
      ]
     },
     "metadata": {},
     "output_type": "display_data"
    },
    {
     "data": {
      "text/plain": [
       "dataset_id                      Nile\n",
       "title         Flow of the River Nile\n",
       "Name: 9, dtype: object"
      ]
     },
     "metadata": {},
     "output_type": "display_data"
    },
    {
     "data": {
      "text/plain": [
       "dataset_id                OrchardSprays\n",
       "title         Potency of Orchard Sprays\n",
       "Name: 10, dtype: object"
      ]
     },
     "metadata": {},
     "output_type": "display_data"
    },
    {
     "data": {
      "text/plain": [
       "dataset_id                                   PlantGrowth\n",
       "title         Results from an Experiment on Plant Growth\n",
       "Name: 11, dtype: object"
      ]
     },
     "metadata": {},
     "output_type": "display_data"
    },
    {
     "data": {
      "text/plain": [
       "dataset_id                                     Puromycin\n",
       "title         Reaction Velocity of an Enzymatic Reaction\n",
       "Name: 12, dtype: object"
      ]
     },
     "metadata": {},
     "output_type": "display_data"
    },
    {
     "data": {
      "text/plain": [
       "dataset_id                                  Titanic\n",
       "title         Survival of passengers on the Titanic\n",
       "Name: 13, dtype: object"
      ]
     },
     "metadata": {},
     "output_type": "display_data"
    },
    {
     "data": {
      "text/plain": [
       "dataset_id                                               ToothGrowth\n",
       "title         The Effect of Vitamin C on Tooth Growth in Guinea Pigs\n",
       "Name: 14, dtype: object"
      ]
     },
     "metadata": {},
     "output_type": "display_data"
    },
    {
     "data": {
      "text/plain": [
       "dataset_id                        UCBAdmissions\n",
       "title         Student Admissions at UC Berkeley\n",
       "Name: 15, dtype: object"
      ]
     },
     "metadata": {},
     "output_type": "display_data"
    },
    {
     "data": {
      "text/plain": [
       "dataset_id                              UKDriverDeaths\n",
       "title         Road Casualties in Great Britain 1969-84\n",
       "Name: 16, dtype: object"
      ]
     },
     "metadata": {},
     "output_type": "display_data"
    },
    {
     "data": {
      "text/plain": [
       "dataset_id                           UKgas\n",
       "title         UK Quarterly Gas Consumption\n",
       "Name: 17, dtype: object"
      ]
     },
     "metadata": {},
     "output_type": "display_data"
    },
    {
     "data": {
      "text/plain": [
       "dataset_id                              USAccDeaths\n",
       "title         Accidental Deaths in the US 1973-1978\n",
       "Name: 18, dtype: object"
      ]
     },
     "metadata": {},
     "output_type": "display_data"
    },
    {
     "data": {
      "text/plain": [
       "dataset_id                          USArrests\n",
       "title         Violent Crime Rates by US State\n",
       "Name: 19, dtype: object"
      ]
     },
     "metadata": {},
     "output_type": "display_data"
    },
    {
     "data": {
      "text/plain": [
       "dataset_id                                               USJudgeRatings\n",
       "title         Lawyers' Ratings of State Judges in the US Superior Court\n",
       "Name: 20, dtype: object"
      ]
     },
     "metadata": {},
     "output_type": "display_data"
    },
    {
     "data": {
      "text/plain": [
       "dataset_id        USPersonalExpenditure\n",
       "title         Personal Expenditure Data\n",
       "Name: 21, dtype: object"
      ]
     },
     "metadata": {},
     "output_type": "display_data"
    },
    {
     "data": {
      "text/plain": [
       "dataset_id                          VADeaths\n",
       "title         Death Rates in Virginia (1940)\n",
       "Name: 22, dtype: object"
      ]
     },
     "metadata": {},
     "output_type": "display_data"
    },
    {
     "data": {
      "text/plain": [
       "dataset_id                     WWWusage\n",
       "title         Internet Usage per Minute\n",
       "Name: 23, dtype: object"
      ]
     },
     "metadata": {},
     "output_type": "display_data"
    },
    {
     "data": {
      "text/plain": [
       "dataset_id               WorldPhones\n",
       "title         The World's Telephones\n",
       "Name: 24, dtype: object"
      ]
     },
     "metadata": {},
     "output_type": "display_data"
    },
    {
     "data": {
      "text/plain": [
       "dataset_id                                                airmiles\n",
       "title         Passenger Miles on Commercial US Airlines, 1937-1960\n",
       "Name: 25, dtype: object"
      ]
     },
     "metadata": {},
     "output_type": "display_data"
    },
    {
     "data": {
      "text/plain": [
       "dataset_id                           airquality\n",
       "title         New York Air Quality Measurements\n",
       "Name: 26, dtype: object"
      ]
     },
     "metadata": {},
     "output_type": "display_data"
    },
    {
     "data": {
      "text/plain": [
       "dataset_id                                                       anscombe\n",
       "title         Anscombe's Quartet of 'Identical' Simple Linear Regressions\n",
       "Name: 27, dtype: object"
      ]
     },
     "metadata": {},
     "output_type": "display_data"
    },
    {
     "data": {
      "text/plain": [
       "dataset_id                               attenu\n",
       "title         The Joyner-Boore Attenuation Data\n",
       "Name: 28, dtype: object"
      ]
     },
     "metadata": {},
     "output_type": "display_data"
    },
    {
     "data": {
      "text/plain": [
       "dataset_id                              attitude\n",
       "title         The Chatterjee-Price Attitude Data\n",
       "Name: 29, dtype: object"
      ]
     },
     "metadata": {},
     "output_type": "display_data"
    },
    {
     "data": {
      "text/plain": [
       "dataset_id                                                        austres\n",
       "title         Quarterly Time Series of the Number of Australian Residents\n",
       "Name: 30, dtype: object"
      ]
     },
     "metadata": {},
     "output_type": "display_data"
    },
    {
     "data": {
      "text/plain": [
       "dataset_id                                    cars\n",
       "title         Speed and Stopping Distances of Cars\n",
       "Name: 31, dtype: object"
      ]
     },
     "metadata": {},
     "output_type": "display_data"
    },
    {
     "data": {
      "text/plain": [
       "dataset_id                        chickwts\n",
       "title         Chicken Weights by Feed Type\n",
       "Name: 32, dtype: object"
      ]
     },
     "metadata": {},
     "output_type": "display_data"
    },
    {
     "data": {
      "text/plain": [
       "dataset_id                                        co2\n",
       "title         Mauna Loa Atmospheric CO2 Concentration\n",
       "Name: 33, dtype: object"
      ]
     },
     "metadata": {},
     "output_type": "display_data"
    },
    {
     "data": {
      "text/plain": [
       "dataset_id                          crimtab\n",
       "title         Student's 3000 Criminals Data\n",
       "Name: 34, dtype: object"
      ]
     },
     "metadata": {},
     "output_type": "display_data"
    },
    {
     "data": {
      "text/plain": [
       "dataset_id                                discoveries\n",
       "title         Yearly Numbers of Important Discoveries\n",
       "Name: 35, dtype: object"
      ]
     },
     "metadata": {},
     "output_type": "display_data"
    },
    {
     "data": {
      "text/plain": [
       "dataset_id                                        esoph\n",
       "title         Smoking, Alcohol and (O)esophageal Cancer\n",
       "Name: 36, dtype: object"
      ]
     },
     "metadata": {},
     "output_type": "display_data"
    },
    {
     "data": {
      "text/plain": [
       "dataset_id                                   euro\n",
       "title         Conversion Rates of Euro Currencies\n",
       "Name: 37, dtype: object"
      ]
     },
     "metadata": {},
     "output_type": "display_data"
    },
    {
     "data": {
      "text/plain": [
       "dataset_id                    faithful\n",
       "title         Old Faithful Geyser Data\n",
       "Name: 38, dtype: object"
      ]
     },
     "metadata": {},
     "output_type": "display_data"
    },
    {
     "data": {
      "text/plain": [
       "dataset_id                   freeny\n",
       "title         Freeny's Revenue Data\n",
       "Name: 39, dtype: object"
      ]
     },
     "metadata": {},
     "output_type": "display_data"
    },
    {
     "data": {
      "text/plain": [
       "dataset_id                                                infert\n",
       "title         Infertility after Spontaneous and Induced Abortion\n",
       "Name: 40, dtype: object"
      ]
     },
     "metadata": {},
     "output_type": "display_data"
    },
    {
     "data": {
      "text/plain": [
       "dataset_id                          iris\n",
       "title         Edgar Anderson's Iris Data\n",
       "Name: 41, dtype: object"
      ]
     },
     "metadata": {},
     "output_type": "display_data"
    },
    {
     "data": {
      "text/plain": [
       "dataset_id                                  islands\n",
       "title         Areas of the World's Major Landmasses\n",
       "Name: 42, dtype: object"
      ]
     },
     "metadata": {},
     "output_type": "display_data"
    },
    {
     "data": {
      "text/plain": [
       "dataset_id                                      lh\n",
       "title         Luteinizing Hormone in Blood Samples\n",
       "Name: 43, dtype: object"
      ]
     },
     "metadata": {},
     "output_type": "display_data"
    },
    {
     "data": {
      "text/plain": [
       "dataset_id                               longley\n",
       "title         Longley's Economic Regression Data\n",
       "Name: 44, dtype: object"
      ]
     },
     "metadata": {},
     "output_type": "display_data"
    },
    {
     "data": {
      "text/plain": [
       "dataset_id                                        lynx\n",
       "title         Annual Canadian Lynx trappings 1821-1934\n",
       "Name: 45, dtype: object"
      ]
     },
     "metadata": {},
     "output_type": "display_data"
    },
    {
     "data": {
      "text/plain": [
       "dataset_id                           morley\n",
       "title         Michelson Speed of Light Data\n",
       "Name: 46, dtype: object"
      ]
     },
     "metadata": {},
     "output_type": "display_data"
    },
    {
     "data": {
      "text/plain": [
       "dataset_id                        mtcars\n",
       "title         Motor Trend Car Road Tests\n",
       "Name: 47, dtype: object"
      ]
     },
     "metadata": {},
     "output_type": "display_data"
    },
    {
     "data": {
      "text/plain": [
       "dataset_id                                      nhtemp\n",
       "title         Average Yearly Temperatures in New Haven\n",
       "Name: 48, dtype: object"
      ]
     },
     "metadata": {},
     "output_type": "display_data"
    },
    {
     "data": {
      "text/plain": [
       "dataset_id                                                   nottem\n",
       "title         Average Monthly Temperatures at Nottingham, 1920-1939\n",
       "Name: 49, dtype: object"
      ]
     },
     "metadata": {},
     "output_type": "display_data"
    },
    {
     "data": {
      "text/plain": [
       "dataset_id                                       npk\n",
       "title         Classical N, P, K Factorial Experiment\n",
       "Name: 50, dtype: object"
      ]
     },
     "metadata": {},
     "output_type": "display_data"
    },
    {
     "data": {
      "text/plain": [
       "dataset_id                               occupationalStatus\n",
       "title         Occupational Status of Fathers and their Sons\n",
       "Name: 51, dtype: object"
      ]
     },
     "metadata": {},
     "output_type": "display_data"
    },
    {
     "data": {
      "text/plain": [
       "dataset_id                               precip\n",
       "title         Annual Precipitation in US Cities\n",
       "Name: 52, dtype: object"
      ]
     },
     "metadata": {},
     "output_type": "display_data"
    },
    {
     "data": {
      "text/plain": [
       "dataset_id                                     presidents\n",
       "title         Quarterly Approval Ratings of US Presidents\n",
       "Name: 53, dtype: object"
      ]
     },
     "metadata": {},
     "output_type": "display_data"
    },
    {
     "data": {
      "text/plain": [
       "dataset_id                                                  pressure\n",
       "title         Vapor Pressure of Mercury as a Function of Temperature\n",
       "Name: 54, dtype: object"
      ]
     },
     "metadata": {},
     "output_type": "display_data"
    },
    {
     "data": {
      "text/plain": [
       "dataset_id                               quakes\n",
       "title         Locations of Earthquakes off Fiji\n",
       "Name: 55, dtype: object"
      ]
     },
     "metadata": {},
     "output_type": "display_data"
    },
    {
     "data": {
      "text/plain": [
       "dataset_id                                               randu\n",
       "title         Random Numbers from Congruential Generator RANDU\n",
       "Name: 56, dtype: object"
      ]
     },
     "metadata": {},
     "output_type": "display_data"
    },
    {
     "data": {
      "text/plain": [
       "dataset_id                                    rivers\n",
       "title         Lengths of Major North American Rivers\n",
       "Name: 57, dtype: object"
      ]
     },
     "metadata": {},
     "output_type": "display_data"
    },
    {
     "data": {
      "text/plain": [
       "dataset_id                                      rock\n",
       "title         Measurements on Petroleum Rock Samples\n",
       "Name: 58, dtype: object"
      ]
     },
     "metadata": {},
     "output_type": "display_data"
    },
    {
     "data": {
      "text/plain": [
       "dataset_id                   sleep\n",
       "title         Student's Sleep Data\n",
       "Name: 59, dtype: object"
      ]
     },
     "metadata": {},
     "output_type": "display_data"
    },
    {
     "data": {
      "text/plain": [
       "dataset_id                           stackloss\n",
       "title         Brownlee's Stack Loss Plant Data\n",
       "Name: 60, dtype: object"
      ]
     },
     "metadata": {},
     "output_type": "display_data"
    },
    {
     "data": {
      "text/plain": [
       "dataset_id                                   sunspot.month\n",
       "title         Monthly Sunspot Data, from 1749 to \"Present\"\n",
       "Name: 61, dtype: object"
      ]
     },
     "metadata": {},
     "output_type": "display_data"
    },
    {
     "data": {
      "text/plain": [
       "dataset_id                      sunspot.year\n",
       "title         Yearly Sunspot Data, 1700-1988\n",
       "Name: 62, dtype: object"
      ]
     },
     "metadata": {},
     "output_type": "display_data"
    },
    {
     "data": {
      "text/plain": [
       "dataset_id                              sunspots\n",
       "title         Monthly Sunspot Numbers, 1749-1983\n",
       "Name: 63, dtype: object"
      ]
     },
     "metadata": {},
     "output_type": "display_data"
    },
    {
     "data": {
      "text/plain": [
       "dataset_id                                                       swiss\n",
       "title         Swiss Fertility and Socioeconomic Indicators (1888) Data\n",
       "Name: 64, dtype: object"
      ]
     },
     "metadata": {},
     "output_type": "display_data"
    },
    {
     "data": {
      "text/plain": [
       "dataset_id                            treering\n",
       "title         Yearly Treering Data, -6000-1979\n",
       "Name: 65, dtype: object"
      ]
     },
     "metadata": {},
     "output_type": "display_data"
    },
    {
     "data": {
      "text/plain": [
       "dataset_id                                              trees\n",
       "title         Girth, Height and Volume for Black Cherry Trees\n",
       "Name: 66, dtype: object"
      ]
     },
     "metadata": {},
     "output_type": "display_data"
    },
    {
     "data": {
      "text/plain": [
       "dataset_id                                    uspop\n",
       "title         Populations Recorded by the US Census\n",
       "Name: 67, dtype: object"
      ]
     },
     "metadata": {},
     "output_type": "display_data"
    },
    {
     "data": {
      "text/plain": [
       "dataset_id                                                      volcano\n",
       "title         Topographic Information on Auckland's Maunga Whau Volcano\n",
       "Name: 68, dtype: object"
      ]
     },
     "metadata": {},
     "output_type": "display_data"
    },
    {
     "data": {
      "text/plain": [
       "dataset_id                                     warpbreaks\n",
       "title         The Number of Breaks in Yarn during Weaving\n",
       "Name: 69, dtype: object"
      ]
     },
     "metadata": {},
     "output_type": "display_data"
    },
    {
     "data": {
      "text/plain": [
       "dataset_id                                             women\n",
       "title         Average Heights and Weights for American Women\n",
       "Name: 70, dtype: object"
      ]
     },
     "metadata": {},
     "output_type": "display_data"
    },
    {
     "data": {
      "text/plain": [
       "dataset_id                      acme\n",
       "title         Monthly Excess Returns\n",
       "Name: 71, dtype: object"
      ]
     },
     "metadata": {},
     "output_type": "display_data"
    },
    {
     "data": {
      "text/plain": [
       "dataset_id                                            aids\n",
       "title         Delay in AIDS Reporting in England and Wales\n",
       "Name: 72, dtype: object"
      ]
     },
     "metadata": {},
     "output_type": "display_data"
    },
    {
     "data": {
      "text/plain": [
       "dataset_id                                 aircondit\n",
       "title         Failures of Air-conditioning Equipment\n",
       "Name: 73, dtype: object"
      ]
     },
     "metadata": {},
     "output_type": "display_data"
    },
    {
     "data": {
      "text/plain": [
       "dataset_id                                aircondit7\n",
       "title         Failures of Air-conditioning Equipment\n",
       "Name: 74, dtype: object"
      ]
     },
     "metadata": {},
     "output_type": "display_data"
    },
    {
     "data": {
      "text/plain": [
       "dataset_id                              amis\n",
       "title         Car Speeding and Warning Signs\n",
       "Name: 75, dtype: object"
      ]
     },
     "metadata": {},
     "output_type": "display_data"
    },
    {
     "data": {
      "text/plain": [
       "dataset_id                                                aml\n",
       "title         Remission Times for Acute Myelogenous Leukaemia\n",
       "Name: 76, dtype: object"
      ]
     },
     "metadata": {},
     "output_type": "display_data"
    },
    {
     "data": {
      "text/plain": [
       "dataset_id                      bigcity\n",
       "title         Population of U.S. Cities\n",
       "Name: 77, dtype: object"
      ]
     },
     "metadata": {},
     "output_type": "display_data"
    },
    {
     "data": {
      "text/plain": [
       "dataset_id                             brambles\n",
       "title         Spatial Location of Bramble Canes\n",
       "Name: 78, dtype: object"
      ]
     },
     "metadata": {},
     "output_type": "display_data"
    },
    {
     "data": {
      "text/plain": [
       "dataset_id                         breslow\n",
       "title         Smoking Deaths Among Doctors\n",
       "Name: 79, dtype: object"
      ]
     },
     "metadata": {},
     "output_type": "display_data"
    },
    {
     "data": {
      "text/plain": [
       "dataset_id                calcium\n",
       "title         Calcium Uptake Data\n",
       "Name: 80, dtype: object"
      ]
     },
     "metadata": {},
     "output_type": "display_data"
    },
    {
     "data": {
      "text/plain": [
       "dataset_id                       cane\n",
       "title         Sugar-cane Disease Data\n",
       "Name: 81, dtype: object"
      ]
     },
     "metadata": {},
     "output_type": "display_data"
    },
    {
     "data": {
      "text/plain": [
       "dataset_id                              capability\n",
       "title         Simulated Manufacturing Process Data\n",
       "Name: 82, dtype: object"
      ]
     },
     "metadata": {},
     "output_type": "display_data"
    },
    {
     "data": {
      "text/plain": [
       "dataset_id                            catsM\n",
       "title         Weight Data for Domestic Cats\n",
       "Name: 83, dtype: object"
      ]
     },
     "metadata": {},
     "output_type": "display_data"
    },
    {
     "data": {
      "text/plain": [
       "dataset_id                            cav\n",
       "title         Position of Muscle Caveolae\n",
       "Name: 84, dtype: object"
      ]
     },
     "metadata": {},
     "output_type": "display_data"
    },
    {
     "data": {
      "text/plain": [
       "dataset_id                                     cd4\n",
       "title         CD4 Counts for HIV-Positive Patients\n",
       "Name: 85, dtype: object"
      ]
     },
     "metadata": {},
     "output_type": "display_data"
    },
    {
     "data": {
      "text/plain": [
       "dataset_id               channing\n",
       "title         Channing House Data\n",
       "Name: 86, dtype: object"
      ]
     },
     "metadata": {},
     "output_type": "display_data"
    },
    {
     "data": {
      "text/plain": [
       "dataset_id                         city\n",
       "title         Population of U.S. Cities\n",
       "Name: 87, dtype: object"
      ]
     },
     "metadata": {},
     "output_type": "display_data"
    },
    {
     "data": {
      "text/plain": [
       "dataset_id                            claridge\n",
       "title         Genetic Links to Left-handedness\n",
       "Name: 88, dtype: object"
      ]
     },
     "metadata": {},
     "output_type": "display_data"
    },
    {
     "data": {
      "text/plain": [
       "dataset_id                       cloth\n",
       "title         Number of Flaws in Cloth\n",
       "Name: 89, dtype: object"
      ]
     },
     "metadata": {},
     "output_type": "display_data"
    },
    {
     "data": {
      "text/plain": [
       "dataset_id                 co.transfer\n",
       "title         Carbon Monoxide Transfer\n",
       "Name: 90, dtype: object"
      ]
     },
     "metadata": {},
     "output_type": "display_data"
    },
    {
     "data": {
      "text/plain": [
       "dataset_id                              coal\n",
       "title         Dates of Coal Mining Disasters\n",
       "Name: 91, dtype: object"
      ]
     },
     "metadata": {},
     "output_type": "display_data"
    },
    {
     "data": {
      "text/plain": [
       "dataset_id                               darwin\n",
       "title         Darwin's Plant Height Differences\n",
       "Name: 92, dtype: object"
      ]
     },
     "metadata": {},
     "output_type": "display_data"
    },
    {
     "data": {
      "text/plain": [
       "dataset_id                              dogs\n",
       "title         Cardiac Data for Domestic Dogs\n",
       "Name: 93, dtype: object"
      ]
     },
     "metadata": {},
     "output_type": "display_data"
    },
    {
     "data": {
      "text/plain": [
       "dataset_id                                            downs.bc\n",
       "title         Incidence of Down's Syndrome in British Columbia\n",
       "Name: 94, dtype: object"
      ]
     },
     "metadata": {},
     "output_type": "display_data"
    },
    {
     "data": {
      "text/plain": [
       "dataset_id                                                     ducks\n",
       "title         Behavioral and Plumage Characteristics of Hybrid Ducks\n",
       "Name: 95, dtype: object"
      ]
     },
     "metadata": {},
     "output_type": "display_data"
    },
    {
     "data": {
      "text/plain": [
       "dataset_id                               fir\n",
       "title         Counts of Balsam-fir Seedlings\n",
       "Name: 96, dtype: object"
      ]
     },
     "metadata": {},
     "output_type": "display_data"
    },
    {
     "data": {
      "text/plain": [
       "dataset_id                          frets\n",
       "title         Head Dimensions in Brothers\n",
       "Name: 97, dtype: object"
      ]
     },
     "metadata": {},
     "output_type": "display_data"
    },
    {
     "data": {
      "text/plain": [
       "dataset_id                           grav\n",
       "title         Acceleration Due to Gravity\n",
       "Name: 98, dtype: object"
      ]
     },
     "metadata": {},
     "output_type": "display_data"
    },
    {
     "data": {
      "text/plain": [
       "dataset_id                        gravity\n",
       "title         Acceleration Due to Gravity\n",
       "Name: 99, dtype: object"
      ]
     },
     "metadata": {},
     "output_type": "display_data"
    },
    {
     "data": {
      "text/plain": [
       "dataset_id                      hirose\n",
       "title         Failure Time of PET Film\n",
       "Name: 100, dtype: object"
      ]
     },
     "metadata": {},
     "output_type": "display_data"
    },
    {
     "data": {
      "text/plain": [
       "dataset_id                               islay\n",
       "title         Jura Quartzite Azimuths on Islay\n",
       "Name: 101, dtype: object"
      ]
     },
     "metadata": {},
     "output_type": "display_data"
    },
    {
     "data": {
      "text/plain": [
       "dataset_id                                              manaus\n",
       "title         Average Heights of the Rio Negro river at Manaus\n",
       "Name: 102, dtype: object"
      ]
     },
     "metadata": {},
     "output_type": "display_data"
    },
    {
     "data": {
      "text/plain": [
       "dataset_id                            melanoma\n",
       "title         Survival from Malignant Melanoma\n",
       "Name: 103, dtype: object"
      ]
     },
     "metadata": {},
     "output_type": "display_data"
    },
    {
     "data": {
      "text/plain": [
       "dataset_id                                        motor\n",
       "title         Data from a Simulated Motorcycle Accident\n",
       "Name: 104, dtype: object"
      ]
     },
     "metadata": {},
     "output_type": "display_data"
    },
    {
     "data": {
      "text/plain": [
       "dataset_id                                    neuro\n",
       "title         Neurophysiological Point Process Data\n",
       "Name: 105, dtype: object"
      ]
     },
     "metadata": {},
     "output_type": "display_data"
    },
    {
     "data": {
      "text/plain": [
       "dataset_id                                   nitrofen\n",
       "title         Toxicity of Nitrofen in Aquatic Systems\n",
       "Name: 106, dtype: object"
      ]
     },
     "metadata": {},
     "output_type": "display_data"
    },
    {
     "data": {
      "text/plain": [
       "dataset_id                                   nodal\n",
       "title         Nodal Involvement in Prostate Cancer\n",
       "Name: 107, dtype: object"
      ]
     },
     "metadata": {},
     "output_type": "display_data"
    },
    {
     "data": {
      "text/plain": [
       "dataset_id                                    nuclear\n",
       "title         Nuclear Power Station Construction Data\n",
       "Name: 108, dtype: object"
      ]
     },
     "metadata": {},
     "output_type": "display_data"
    },
    {
     "data": {
      "text/plain": [
       "dataset_id                                   paulsen\n",
       "title         Neurotransmission in Guinea Pig Brains\n",
       "Name: 109, dtype: object"
      ]
     },
     "metadata": {},
     "output_type": "display_data"
    },
    {
     "data": {
      "text/plain": [
       "dataset_id                  poisons\n",
       "title         Animal Survival Times\n",
       "Name: 110, dtype: object"
      ]
     },
     "metadata": {},
     "output_type": "display_data"
    },
    {
     "data": {
      "text/plain": [
       "dataset_id                                         polar\n",
       "title         Pole Positions of New Caledonian Laterites\n",
       "Name: 111, dtype: object"
      ]
     },
     "metadata": {},
     "output_type": "display_data"
    },
    {
     "data": {
      "text/plain": [
       "dataset_id                             remission\n",
       "title         Cancer Remission and Cell Activity\n",
       "Name: 112, dtype: object"
      ]
     },
     "metadata": {},
     "output_type": "display_data"
    },
    {
     "data": {
      "text/plain": [
       "dataset_id                              salinity\n",
       "title         Water Salinity and River Discharge\n",
       "Name: 113, dtype: object"
      ]
     },
     "metadata": {},
     "output_type": "display_data"
    },
    {
     "data": {
      "text/plain": [
       "dataset_id                                  survival\n",
       "title         Survival of Rats after Radiation Doses\n",
       "Name: 114, dtype: object"
      ]
     },
     "metadata": {},
     "output_type": "display_data"
    },
    {
     "data": {
      "text/plain": [
       "dataset_id                         tau\n",
       "title         Tau Particle Decay Modes\n",
       "Name: 115, dtype: object"
      ]
     },
     "metadata": {},
     "output_type": "display_data"
    },
    {
     "data": {
      "text/plain": [
       "dataset_id                  tuna\n",
       "title         Tuna Sighting Data\n",
       "Name: 116, dtype: object"
      ]
     },
     "metadata": {},
     "output_type": "display_data"
    },
    {
     "data": {
      "text/plain": [
       "dataset_id                  urine\n",
       "title         Urine Analysis Data\n",
       "Name: 117, dtype: object"
      ]
     },
     "metadata": {},
     "output_type": "display_data"
    },
    {
     "data": {
      "text/plain": [
       "dataset_id                               wool\n",
       "title         Australian Relative Wool Prices\n",
       "Name: 118, dtype: object"
      ]
     },
     "metadata": {},
     "output_type": "display_data"
    },
    {
     "data": {
      "text/plain": [
       "dataset_id                      aids\n",
       "title         data from Section 1.19\n",
       "Name: 119, dtype: object"
      ]
     },
     "metadata": {},
     "output_type": "display_data"
    },
    {
     "data": {
      "text/plain": [
       "dataset_id                 alloauto\n",
       "title         data from Section 1.9\n",
       "Name: 120, dtype: object"
      ]
     },
     "metadata": {},
     "output_type": "display_data"
    },
    {
     "data": {
      "text/plain": [
       "dataset_id                        allograft\n",
       "title         data from Exercise 13.1, p418\n",
       "Name: 121, dtype: object"
      ]
     },
     "metadata": {},
     "output_type": "display_data"
    },
    {
     "data": {
      "text/plain": [
       "dataset_id                             azt\n",
       "title         data from Exercise 4.7, p122\n",
       "Name: 122, dtype: object"
      ]
     },
     "metadata": {},
     "output_type": "display_data"
    },
    {
     "data": {
      "text/plain": [
       "dataset_id                          baboon\n",
       "title         data from Exercise 5.8, p147\n",
       "Name: 123, dtype: object"
      ]
     },
     "metadata": {},
     "output_type": "display_data"
    },
    {
     "data": {
      "text/plain": [
       "dataset_id                   bcdeter\n",
       "title         data from Section 1.18\n",
       "Name: 124, dtype: object"
      ]
     },
     "metadata": {},
     "output_type": "display_data"
    },
    {
     "data": {
      "text/plain": [
       "dataset_id                     bfeed\n",
       "title         data from Section 1.14\n",
       "Name: 125, dtype: object"
      ]
     },
     "metadata": {},
     "output_type": "display_data"
    },
    {
     "data": {
      "text/plain": [
       "dataset_id                      bmt\n",
       "title         data from Section 1.3\n",
       "Name: 126, dtype: object"
      ]
     },
     "metadata": {},
     "output_type": "display_data"
    },
    {
     "data": {
      "text/plain": [
       "dataset_id                            bnct\n",
       "title         data from Exercise 7.7, p223\n",
       "Name: 127, dtype: object"
      ]
     },
     "metadata": {},
     "output_type": "display_data"
    },
    {
     "data": {
      "text/plain": [
       "dataset_id                   btrial\n",
       "title         data from Section 1.5\n",
       "Name: 128, dtype: object"
      ]
     },
     "metadata": {},
     "output_type": "display_data"
    },
    {
     "data": {
      "text/plain": [
       "dataset_id                     burn\n",
       "title         data from Section 1.6\n",
       "Name: 129, dtype: object"
      ]
     },
     "metadata": {},
     "output_type": "display_data"
    },
    {
     "data": {
      "text/plain": [
       "dataset_id                  channing\n",
       "title         data from Section 1.16\n",
       "Name: 130, dtype: object"
      ]
     },
     "metadata": {},
     "output_type": "display_data"
    },
    {
     "data": {
      "text/plain": [
       "dataset_id                  drug6mp\n",
       "title         data from Section 1.2\n",
       "Name: 131, dtype: object"
      ]
     },
     "metadata": {},
     "output_type": "display_data"
    },
    {
     "data": {
      "text/plain": [
       "dataset_id                         drughiv\n",
       "title         data from Exercise 7.6, p222\n",
       "Name: 132, dtype: object"
      ]
     },
     "metadata": {},
     "output_type": "display_data"
    },
    {
     "data": {
      "text/plain": [
       "dataset_id                      hodg\n",
       "title         data from Section 1.10\n",
       "Name: 133, dtype: object"
      ]
     },
     "metadata": {},
     "output_type": "display_data"
    },
    {
     "data": {
      "text/plain": [
       "dataset_id                   kidney\n",
       "title         data from Section 1.4\n",
       "Name: 134, dtype: object"
      ]
     },
     "metadata": {},
     "output_type": "display_data"
    },
    {
     "data": {
      "text/plain": [
       "dataset_id                                                 kidrecurr\n",
       "title         Data on 38 individuals using a kidney dialysis machine\n",
       "Name: 135, dtype: object"
      ]
     },
     "metadata": {},
     "output_type": "display_data"
    },
    {
     "data": {
      "text/plain": [
       "dataset_id                  kidtran\n",
       "title         data from Section 1.7\n",
       "Name: 136, dtype: object"
      ]
     },
     "metadata": {},
     "output_type": "display_data"
    },
    {
     "data": {
      "text/plain": [
       "dataset_id                   larynx\n",
       "title         data from Section 1.8\n",
       "Name: 137, dtype: object"
      ]
     },
     "metadata": {},
     "output_type": "display_data"
    },
    {
     "data": {
      "text/plain": [
       "dataset_id                            lung\n",
       "title         data from Exercise 4.4, p120\n",
       "Name: 138, dtype: object"
      ]
     },
     "metadata": {},
     "output_type": "display_data"
    },
    {
     "data": {
      "text/plain": [
       "dataset_id                   pneumon\n",
       "title         data from Section 1.13\n",
       "Name: 139, dtype: object"
      ]
     },
     "metadata": {},
     "output_type": "display_data"
    },
    {
     "data": {
      "text/plain": [
       "dataset_id                     psych\n",
       "title         data from Section 1.15\n",
       "Name: 140, dtype: object"
      ]
     },
     "metadata": {},
     "output_type": "display_data"
    },
    {
     "data": {
      "text/plain": [
       "dataset_id                             rats\n",
       "title         data from Exercise 7.13, p225\n",
       "Name: 141, dtype: object"
      ]
     },
     "metadata": {},
     "output_type": "display_data"
    },
    {
     "data": {
      "text/plain": [
       "dataset_id                       std\n",
       "title         data from Section 1.12\n",
       "Name: 142, dtype: object"
      ]
     },
     "metadata": {},
     "output_type": "display_data"
    },
    {
     "data": {
      "text/plain": [
       "dataset_id                         stddiag\n",
       "title         data from Exercise 5.6, p146\n",
       "Name: 143, dtype: object"
      ]
     },
     "metadata": {},
     "output_type": "display_data"
    },
    {
     "data": {
      "text/plain": [
       "dataset_id                    tongue\n",
       "title         data from Section 1.11\n",
       "Name: 144, dtype: object"
      ]
     },
     "metadata": {},
     "output_type": "display_data"
    },
    {
     "data": {
      "text/plain": [
       "dataset_id                            twins\n",
       "title         data from Exercise 7.14, p225\n",
       "Name: 145, dtype: object"
      ]
     },
     "metadata": {},
     "output_type": "display_data"
    },
    {
     "data": {
      "text/plain": [
       "dataset_id                                                 Animals2\n",
       "title         Brain and Body Weights for 65 Species of Land Animals\n",
       "Name: 146, dtype: object"
      ]
     },
     "metadata": {},
     "output_type": "display_data"
    },
    {
     "data": {
      "text/plain": [
       "dataset_id                                 CrohnD\n",
       "title         Crohn's Disease Adverse Events Data\n",
       "Name: 147, dtype: object"
      ]
     },
     "metadata": {},
     "output_type": "display_data"
    },
    {
     "data": {
      "text/plain": [
       "dataset_id              NOxEmissions\n",
       "title         NOx Air Pollution Data\n",
       "Name: 148, dtype: object"
      ]
     },
     "metadata": {},
     "output_type": "display_data"
    },
    {
     "data": {
      "text/plain": [
       "dataset_id                          SiegelsEx\n",
       "title         Siegel's Exact Fit Example Data\n",
       "Name: 149, dtype: object"
      ]
     },
     "metadata": {},
     "output_type": "display_data"
    },
    {
     "data": {
      "text/plain": [
       "dataset_id         aircraft\n",
       "title         Aircraft Data\n",
       "Name: 150, dtype: object"
      ]
     },
     "metadata": {},
     "output_type": "display_data"
    },
    {
     "data": {
      "text/plain": [
       "dataset_id              airmay\n",
       "title         Air Quality Data\n",
       "Name: 151, dtype: object"
      ]
     },
     "metadata": {},
     "output_type": "display_data"
    },
    {
     "data": {
      "text/plain": [
       "dataset_id                             alcohol\n",
       "title         Alcohol Solubility in Water Data\n",
       "Name: 152, dtype: object"
      ]
     },
     "metadata": {},
     "output_type": "display_data"
    },
    {
     "data": {
      "text/plain": [
       "dataset_id                                        ambientNOxCH\n",
       "title         Daily Means of NOx (mono-nitrogen oxides) in air\n",
       "Name: 153, dtype: object"
      ]
     },
     "metadata": {},
     "output_type": "display_data"
    },
    {
     "data": {
      "text/plain": [
       "dataset_id                  bushfire\n",
       "title         Campbell Bushfire Data\n",
       "Name: 154, dtype: object"
      ]
     },
     "metadata": {},
     "output_type": "display_data"
    },
    {
     "data": {
      "text/plain": [
       "dataset_id                      carrots\n",
       "title         Insect Damages on Carrots\n",
       "Name: 155, dtype: object"
      ]
     },
     "metadata": {},
     "output_type": "display_data"
    },
    {
     "data": {
      "text/plain": [
       "dataset_id                      cloud\n",
       "title         Cloud point of a Liquid\n",
       "Name: 156, dtype: object"
      ]
     },
     "metadata": {},
     "output_type": "display_data"
    },
    {
     "data": {
      "text/plain": [
       "dataset_id             coleman\n",
       "title         Coleman Data Set\n",
       "Name: 157, dtype: object"
      ]
     },
     "metadata": {},
     "output_type": "display_data"
    },
    {
     "data": {
      "text/plain": [
       "dataset_id         condroz\n",
       "title         Condroz Data\n",
       "Name: 158, dtype: object"
      ]
     },
     "metadata": {},
     "output_type": "display_data"
    },
    {
     "data": {
      "text/plain": [
       "dataset_id                                           cushny\n",
       "title         Cushny and Peebles Prolongation of Sleep Data\n",
       "Name: 159, dtype: object"
      ]
     },
     "metadata": {},
     "output_type": "display_data"
    },
    {
     "data": {
      "text/plain": [
       "dataset_id              delivery\n",
       "title         Delivery Time Data\n",
       "Name: 160, dtype: object"
      ]
     },
     "metadata": {},
     "output_type": "display_data"
    },
    {
     "data": {
      "text/plain": [
       "dataset_id                     education\n",
       "title         Education Expenditure Data\n",
       "Name: 161, dtype: object"
      ]
     },
     "metadata": {},
     "output_type": "display_data"
    },
    {
     "data": {
      "text/plain": [
       "dataset_id                     epilepsy\n",
       "title         Epilepsy Attacks Data Set\n",
       "Name: 162, dtype: object"
      ]
     },
     "metadata": {},
     "output_type": "display_data"
    },
    {
     "data": {
      "text/plain": [
       "dataset_id                                                       exAM\n",
       "title         Example Data of Antille and May - for Simple Regression\n",
       "Name: 163, dtype: object"
      ]
     },
     "metadata": {},
     "output_type": "display_data"
    },
    {
     "data": {
      "text/plain": [
       "dataset_id                           foodstamp\n",
       "title         Food Stamp Program Participation\n",
       "Name: 164, dtype: object"
      ]
     },
     "metadata": {},
     "output_type": "display_data"
    },
    {
     "data": {
      "text/plain": [
       "dataset_id                                       hbk\n",
       "title         Hawkins, Bradu, Kass's Artificial Data\n",
       "Name: 165, dtype: object"
      ]
     },
     "metadata": {},
     "output_type": "display_data"
    },
    {
     "data": {
      "text/plain": [
       "dataset_id                       heart\n",
       "title         Heart Catherization Data\n",
       "Name: 166, dtype: object"
      ]
     },
     "metadata": {},
     "output_type": "display_data"
    },
    {
     "data": {
      "text/plain": [
       "dataset_id                                                         kootenay\n",
       "title         Waterflow Measurements of Kootenay River in Libby and Newgate\n",
       "Name: 167, dtype: object"
      ]
     },
     "metadata": {},
     "output_type": "display_data"
    },
    {
     "data": {
      "text/plain": [
       "dataset_id                                        lactic\n",
       "title         Lactic Acid Concentration Measurement Data\n",
       "Name: 168, dtype: object"
      ]
     },
     "metadata": {},
     "output_type": "display_data"
    },
    {
     "data": {
      "text/plain": [
       "dataset_id                              milk\n",
       "title         Daudin's Milk Composition Data\n",
       "Name: 169, dtype: object"
      ]
     },
     "metadata": {},
     "output_type": "display_data"
    },
    {
     "data": {
      "text/plain": [
       "dataset_id               pension\n",
       "title         Pension Funds Data\n",
       "Name: 170, dtype: object"
      ]
     },
     "metadata": {},
     "output_type": "display_data"
    },
    {
     "data": {
      "text/plain": [
       "dataset_id                   phosphor\n",
       "title         Phosphorus Content Data\n",
       "Name: 171, dtype: object"
      ]
     },
     "metadata": {},
     "output_type": "display_data"
    },
    {
     "data": {
      "text/plain": [
       "dataset_id               pilot\n",
       "title         Pilot-Plant Data\n",
       "Name: 172, dtype: object"
      ]
     },
     "metadata": {},
     "output_type": "display_data"
    },
    {
     "data": {
      "text/plain": [
       "dataset_id                possumDiv\n",
       "title         Possum Diversity Data\n",
       "Name: 173, dtype: object"
      ]
     },
     "metadata": {},
     "output_type": "display_data"
    },
    {
     "data": {
      "text/plain": [
       "dataset_id                    pulpfiber\n",
       "title         Pulp Fiber and Paper Data\n",
       "Name: 174, dtype: object"
      ]
     },
     "metadata": {},
     "output_type": "display_data"
    },
    {
     "data": {
      "text/plain": [
       "dataset_id                                     radarImage\n",
       "title         Satellite Radar Image Data from near Munich\n",
       "Name: 175, dtype: object"
      ]
     },
     "metadata": {},
     "output_type": "display_data"
    },
    {
     "data": {
      "text/plain": [
       "dataset_id         salinity\n",
       "title         Salinity Data\n",
       "Name: 176, dtype: object"
      ]
     },
     "metadata": {},
     "output_type": "display_data"
    },
    {
     "data": {
      "text/plain": [
       "dataset_id                                                    starsCYG\n",
       "title         Hertzsprung-Russell Diagram Data of Star Cluster CYG OB1\n",
       "Name: 177, dtype: object"
      ]
     },
     "metadata": {},
     "output_type": "display_data"
    },
    {
     "data": {
      "text/plain": [
       "dataset_id                                         telef\n",
       "title         Number of International Calls from Belgium\n",
       "Name: 178, dtype: object"
      ]
     },
     "metadata": {},
     "output_type": "display_data"
    },
    {
     "data": {
      "text/plain": [
       "dataset_id                             toxicity\n",
       "title         Toxicity of Carboxylic Acids Data\n",
       "Name: 179, dtype: object"
      ]
     },
     "metadata": {},
     "output_type": "display_data"
    },
    {
     "data": {
      "text/plain": [
       "dataset_id                               vaso\n",
       "title         Vaso Constriction Skin Data Set\n",
       "Name: 180, dtype: object"
      ]
     },
     "metadata": {},
     "output_type": "display_data"
    },
    {
     "data": {
      "text/plain": [
       "dataset_id                                wagnerGrowth\n",
       "title         Wagner's Hannover Employment Growth Data\n",
       "Name: 181, dtype: object"
      ]
     },
     "metadata": {},
     "output_type": "display_data"
    },
    {
     "data": {
      "text/plain": [
       "dataset_id                                      wood\n",
       "title         Modified Data on Wood Specific Gravity\n",
       "Name: 182, dtype: object"
      ]
     },
     "metadata": {},
     "output_type": "display_data"
    },
    {
     "data": {
      "text/plain": [
       "dataset_id                            AMSsurvey\n",
       "title         American Math Society Survey Data\n",
       "Name: 183, dtype: object"
      ]
     },
     "metadata": {},
     "output_type": "display_data"
    },
    {
     "data": {
      "text/plain": [
       "dataset_id                        Adler\n",
       "title         Experimenter Expectations\n",
       "Name: 184, dtype: object"
      ]
     },
     "metadata": {},
     "output_type": "display_data"
    },
    {
     "data": {
      "text/plain": [
       "dataset_id                                  Angell\n",
       "title         Moral Integration of American Cities\n",
       "Name: 185, dtype: object"
      ]
     },
     "metadata": {},
     "output_type": "display_data"
    },
    {
     "data": {
      "text/plain": [
       "dataset_id                                  Anscombe\n",
       "title         U. S. State Public-School Expenditures\n",
       "Name: 186, dtype: object"
      ]
     },
     "metadata": {},
     "output_type": "display_data"
    },
    {
     "data": {
      "text/plain": [
       "dataset_id                                      Baumann\n",
       "title         Methods of Teaching Reading Comprehension\n",
       "Name: 187, dtype: object"
      ]
     },
     "metadata": {},
     "output_type": "display_data"
    },
    {
     "data": {
      "text/plain": [
       "dataset_id                                           Bfox\n",
       "title         Canadian Women's Labour-Force Participation\n",
       "Name: 188, dtype: object"
      ]
     },
     "metadata": {},
     "output_type": "display_data"
    },
    {
     "data": {
      "text/plain": [
       "dataset_id                                                       Blackmoor\n",
       "title         Exercise Histories of Eating-Disordered and Control Subjects\n",
       "Name: 189, dtype: object"
      ]
     },
     "metadata": {},
     "output_type": "display_data"
    },
    {
     "data": {
      "text/plain": [
       "dataset_id                                            Burt\n",
       "title         Fraudulent Data on IQs of Twins Raised Apart\n",
       "Name: 190, dtype: object"
      ]
     },
     "metadata": {},
     "output_type": "display_data"
    },
    {
     "data": {
      "text/plain": [
       "dataset_id                      CanPop\n",
       "title         Canadian Population Data\n",
       "Name: 191, dtype: object"
      ]
     },
     "metadata": {},
     "output_type": "display_data"
    },
    {
     "data": {
      "text/plain": [
       "dataset_id                                               Chile\n",
       "title         Voting Intentions in the 1988 Chilean Plebiscite\n",
       "Name: 192, dtype: object"
      ]
     },
     "metadata": {},
     "output_type": "display_data"
    },
    {
     "data": {
      "text/plain": [
       "dataset_id                                 Chirot\n",
       "title         The 1907 Romanian Peasant Rebellion\n",
       "Name: 193, dtype: object"
      ]
     },
     "metadata": {},
     "output_type": "display_data"
    },
    {
     "data": {
      "text/plain": [
       "dataset_id                                     Cowles\n",
       "title         Cowles and Davis's Data on Volunteering\n",
       "Name: 194, dtype: object"
      ]
     },
     "metadata": {},
     "output_type": "display_data"
    },
    {
     "data": {
      "text/plain": [
       "dataset_id                                Davis\n",
       "title         Self-Reports of Height and Weight\n",
       "Name: 195, dtype: object"
      ]
     },
     "metadata": {},
     "output_type": "display_data"
    },
    {
     "data": {
      "text/plain": [
       "dataset_id                             DavisThin\n",
       "title         Davis's Data on Drive for Thinness\n",
       "Name: 196, dtype: object"
      ]
     },
     "metadata": {},
     "output_type": "display_data"
    },
    {
     "data": {
      "text/plain": [
       "dataset_id                       Depredations\n",
       "title         Minnesota Wolf Depredation Data\n",
       "Name: 197, dtype: object"
      ]
     },
     "metadata": {},
     "output_type": "display_data"
    },
    {
     "data": {
      "text/plain": [
       "dataset_id                                 Duncan\n",
       "title         Duncan's Occupational Prestige Data\n",
       "Name: 198, dtype: object"
      ]
     },
     "metadata": {},
     "output_type": "display_data"
    },
    {
     "data": {
      "text/plain": [
       "dataset_id                           Ericksen\n",
       "title         The 1980 U.S. Census Undercount\n",
       "Name: 199, dtype: object"
      ]
     },
     "metadata": {},
     "output_type": "display_data"
    },
    {
     "data": {
      "text/plain": [
       "dataset_id                  Florida\n",
       "title         Florida County Voting\n",
       "Name: 200, dtype: object"
      ]
     },
     "metadata": {},
     "output_type": "display_data"
    },
    {
     "data": {
      "text/plain": [
       "dataset_id                                          Freedman\n",
       "title         Crowding and Crime in U. S. Metropolitan Areas\n",
       "Name: 201, dtype: object"
      ]
     },
     "metadata": {},
     "output_type": "display_data"
    },
    {
     "data": {
      "text/plain": [
       "dataset_id                    Friendly\n",
       "title         Format Effects on Recall\n",
       "Name: 202, dtype: object"
      ]
     },
     "metadata": {},
     "output_type": "display_data"
    },
    {
     "data": {
      "text/plain": [
       "dataset_id              Ginzberg\n",
       "title         Data on Depression\n",
       "Name: 203, dtype: object"
      ]
     },
     "metadata": {},
     "output_type": "display_data"
    },
    {
     "data": {
      "text/plain": [
       "dataset_id             Greene\n",
       "title         Refugee Appeals\n",
       "Name: 204, dtype: object"
      ]
     },
     "metadata": {},
     "output_type": "display_data"
    },
    {
     "data": {
      "text/plain": [
       "dataset_id                        Guyer\n",
       "title         Anonymity and Cooperation\n",
       "Name: 205, dtype: object"
      ]
     },
     "metadata": {},
     "output_type": "display_data"
    },
    {
     "data": {
      "text/plain": [
       "dataset_id                           Hartnagel\n",
       "title         Canadian Crime-Rates Time Series\n",
       "Name: 206, dtype: object"
      ]
     },
     "metadata": {},
     "output_type": "display_data"
    },
    {
     "data": {
      "text/plain": [
       "dataset_id             Highway1\n",
       "title         Highway Accidents\n",
       "Name: 207, dtype: object"
      ]
     },
     "metadata": {},
     "output_type": "display_data"
    },
    {
     "data": {
      "text/plain": [
       "dataset_id                   Leinhardt\n",
       "title         Data on Infant-Mortality\n",
       "Name: 208, dtype: object"
      ]
     },
     "metadata": {},
     "output_type": "display_data"
    },
    {
     "data": {
      "text/plain": [
       "dataset_id                      Mandel\n",
       "title         Contrived Collinear Data\n",
       "Name: 209, dtype: object"
      ]
     },
     "metadata": {},
     "output_type": "display_data"
    },
    {
     "data": {
      "text/plain": [
       "dataset_id                                  Migration\n",
       "title         Canadian Interprovincial Migration Data\n",
       "Name: 210, dtype: object"
      ]
     },
     "metadata": {},
     "output_type": "display_data"
    },
    {
     "data": {
      "text/plain": [
       "dataset_id                                       Moore\n",
       "title         Status, Authoritarianism, and Conformity\n",
       "Name: 211, dtype: object"
      ]
     },
     "metadata": {},
     "output_type": "display_data"
    },
    {
     "data": {
      "text/plain": [
       "dataset_id                                      Mroz\n",
       "title         U.S. Women's Labor-Force Participation\n",
       "Name: 212, dtype: object"
      ]
     },
     "metadata": {},
     "output_type": "display_data"
    },
    {
     "data": {
      "text/plain": [
       "dataset_id                                   OBrienKaiser\n",
       "title         O'Brien and Kaiser's Repeated-Measures Data\n",
       "Name: 213, dtype: object"
      ]
     },
     "metadata": {},
     "output_type": "display_data"
    },
    {
     "data": {
      "text/plain": [
       "dataset_id                                                Ornstein\n",
       "title         Interlocking Directorates Among Major Canadian Firms\n",
       "Name: 214, dtype: object"
      ]
     },
     "metadata": {},
     "output_type": "display_data"
    },
    {
     "data": {
      "text/plain": [
       "dataset_id                            Pottery\n",
       "title         Chemical Composition of Pottery\n",
       "Name: 215, dtype: object"
      ]
     },
     "metadata": {},
     "output_type": "display_data"
    },
    {
     "data": {
      "text/plain": [
       "dataset_id                            Prestige\n",
       "title         Prestige of Canadian Occupations\n",
       "Name: 216, dtype: object"
      ]
     },
     "metadata": {},
     "output_type": "display_data"
    },
    {
     "data": {
      "text/plain": [
       "dataset_id                     Quartet\n",
       "title         Four Regression Datasets\n",
       "Name: 217, dtype: object"
      ]
     },
     "metadata": {},
     "output_type": "display_data"
    },
    {
     "data": {
      "text/plain": [
       "dataset_id                          Robey\n",
       "title         Fertility and Contraception\n",
       "Name: 218, dtype: object"
      ]
     },
     "metadata": {},
     "output_type": "display_data"
    },
    {
     "data": {
      "text/plain": [
       "dataset_id                                    SLID\n",
       "title         Survey of Labour and Income Dynamics\n",
       "Name: 219, dtype: object"
      ]
     },
     "metadata": {},
     "output_type": "display_data"
    },
    {
     "data": {
      "text/plain": [
       "dataset_id                                      Sahlins\n",
       "title         Agricultural Production in Mazulu Village\n",
       "Name: 220, dtype: object"
      ]
     },
     "metadata": {},
     "output_type": "display_data"
    },
    {
     "data": {
      "text/plain": [
       "dataset_id                   Salaries\n",
       "title         Salaries for Professors\n",
       "Name: 221, dtype: object"
      ]
     },
     "metadata": {},
     "output_type": "display_data"
    },
    {
     "data": {
      "text/plain": [
       "dataset_id                                                         Soils\n",
       "title         Soil Compositions of Physical and Chemical Characteristics\n",
       "Name: 222, dtype: object"
      ]
     },
     "metadata": {},
     "output_type": "display_data"
    },
    {
     "data": {
      "text/plain": [
       "dataset_id                                                  States\n",
       "title         Education and Related Statistics for the U.S. States\n",
       "Name: 223, dtype: object"
      ]
     },
     "metadata": {},
     "output_type": "display_data"
    },
    {
     "data": {
      "text/plain": [
       "dataset_id            Transact\n",
       "title         Transaction data\n",
       "Name: 224, dtype: object"
      ]
     },
     "metadata": {},
     "output_type": "display_data"
    },
    {
     "data": {
      "text/plain": [
       "dataset_id                          UN\n",
       "title         GDP and Infant Mortality\n",
       "Name: 225, dtype: object"
      ]
     },
     "metadata": {},
     "output_type": "display_data"
    },
    {
     "data": {
      "text/plain": [
       "dataset_id                              USPop\n",
       "title         Population of the United States\n",
       "Name: 226, dtype: object"
      ]
     },
     "metadata": {},
     "output_type": "display_data"
    },
    {
     "data": {
      "text/plain": [
       "dataset_id                       Vocab\n",
       "title         Vocabulary and Education\n",
       "Name: 227, dtype: object"
      ]
     },
     "metadata": {},
     "output_type": "display_data"
    },
    {
     "data": {
      "text/plain": [
       "dataset_id          WeightLoss\n",
       "title         Weight Loss Data\n",
       "Name: 228, dtype: object"
      ]
     },
     "metadata": {},
     "output_type": "display_data"
    },
    {
     "data": {
      "text/plain": [
       "dataset_id                                        Womenlf\n",
       "title         Canadian Women's Labour-Force Participation\n",
       "Name: 229, dtype: object"
      ]
     },
     "metadata": {},
     "output_type": "display_data"
    },
    {
     "data": {
      "text/plain": [
       "dataset_id         Wool\n",
       "title         Wool data\n",
       "Name: 230, dtype: object"
      ]
     },
     "metadata": {},
     "output_type": "display_data"
    },
    {
     "data": {
      "text/plain": [
       "dataset_id                               agriculture\n",
       "title         European Union Agricultural Workforces\n",
       "Name: 231, dtype: object"
      ]
     },
     "metadata": {},
     "output_type": "display_data"
    },
    {
     "data": {
      "text/plain": [
       "dataset_id                  animals\n",
       "title         Attributes of Animals\n",
       "Name: 232, dtype: object"
      ]
     },
     "metadata": {},
     "output_type": "display_data"
    },
    {
     "data": {
      "text/plain": [
       "dataset_id                             chorSub\n",
       "title         Subset of C-horizon of Kola Data\n",
       "Name: 233, dtype: object"
      ]
     },
     "metadata": {},
     "output_type": "display_data"
    },
    {
     "data": {
      "text/plain": [
       "dataset_id                    flower\n",
       "title         Flower Characteristics\n",
       "Name: 234, dtype: object"
      ]
     },
     "metadata": {},
     "output_type": "display_data"
    },
    {
     "data": {
      "text/plain": [
       "dataset_id                  plantTraits\n",
       "title         Plant Species Traits Data\n",
       "Name: 235, dtype: object"
      ]
     },
     "metadata": {},
     "output_type": "display_data"
    },
    {
     "data": {
      "text/plain": [
       "dataset_id                                    pluton\n",
       "title         Isotopic Composition Plutonium Batches\n",
       "Name: 236, dtype: object"
      ]
     },
     "metadata": {},
     "output_type": "display_data"
    },
    {
     "data": {
      "text/plain": [
       "dataset_id         ruspini\n",
       "title         Ruspini Data\n",
       "Name: 237, dtype: object"
      ]
     },
     "metadata": {},
     "output_type": "display_data"
    },
    {
     "data": {
      "text/plain": [
       "dataset_id                                                 votes.repub\n",
       "title         Votes for Republican Candidate in Presidential Elections\n",
       "Name: 238, dtype: object"
      ]
     },
     "metadata": {},
     "output_type": "display_data"
    },
    {
     "data": {
      "text/plain": [
       "dataset_id                                xclara\n",
       "title         Bivariate Data Set with 3 Clusters\n",
       "Name: 239, dtype: object"
      ]
     },
     "metadata": {},
     "output_type": "display_data"
    },
    {
     "data": {
      "text/plain": [
       "dataset_id    affairs\n",
       "title         affairs\n",
       "Name: 240, dtype: object"
      ]
     },
     "metadata": {},
     "output_type": "display_data"
    },
    {
     "data": {
      "text/plain": [
       "dataset_id    azcabgptca\n",
       "title         azcabgptca\n",
       "Name: 241, dtype: object"
      ]
     },
     "metadata": {},
     "output_type": "display_data"
    },
    {
     "data": {
      "text/plain": [
       "dataset_id    azdrg112\n",
       "title         azdrg112\n",
       "Name: 242, dtype: object"
      ]
     },
     "metadata": {},
     "output_type": "display_data"
    },
    {
     "data": {
      "text/plain": [
       "dataset_id    azpro\n",
       "title         azpro\n",
       "Name: 243, dtype: object"
      ]
     },
     "metadata": {},
     "output_type": "display_data"
    },
    {
     "data": {
      "text/plain": [
       "dataset_id    azprocedure\n",
       "title         azprocedure\n",
       "Name: 244, dtype: object"
      ]
     },
     "metadata": {},
     "output_type": "display_data"
    },
    {
     "data": {
      "text/plain": [
       "dataset_id    badhealth\n",
       "title         badhealth\n",
       "Name: 245, dtype: object"
      ]
     },
     "metadata": {},
     "output_type": "display_data"
    },
    {
     "data": {
      "text/plain": [
       "dataset_id    fasttrakg\n",
       "title         fasttrakg\n",
       "Name: 246, dtype: object"
      ]
     },
     "metadata": {},
     "output_type": "display_data"
    },
    {
     "data": {
      "text/plain": [
       "dataset_id    fishing\n",
       "title         fishing\n",
       "Name: 247, dtype: object"
      ]
     },
     "metadata": {},
     "output_type": "display_data"
    },
    {
     "data": {
      "text/plain": [
       "dataset_id    lbw\n",
       "title         lbw\n",
       "Name: 248, dtype: object"
      ]
     },
     "metadata": {},
     "output_type": "display_data"
    },
    {
     "data": {
      "text/plain": [
       "dataset_id    lbwgrp\n",
       "title         lbwgrp\n",
       "Name: 249, dtype: object"
      ]
     },
     "metadata": {},
     "output_type": "display_data"
    },
    {
     "data": {
      "text/plain": [
       "dataset_id    loomis\n",
       "title         loomis\n",
       "Name: 250, dtype: object"
      ]
     },
     "metadata": {},
     "output_type": "display_data"
    },
    {
     "data": {
      "text/plain": [
       "dataset_id    mdvis\n",
       "title         mdvis\n",
       "Name: 251, dtype: object"
      ]
     },
     "metadata": {},
     "output_type": "display_data"
    },
    {
     "data": {
      "text/plain": [
       "dataset_id    medpar\n",
       "title         medpar\n",
       "Name: 252, dtype: object"
      ]
     },
     "metadata": {},
     "output_type": "display_data"
    },
    {
     "data": {
      "text/plain": [
       "dataset_id    nuts\n",
       "title         nuts\n",
       "Name: 253, dtype: object"
      ]
     },
     "metadata": {},
     "output_type": "display_data"
    },
    {
     "data": {
      "text/plain": [
       "dataset_id    rwm\n",
       "title         rwm\n",
       "Name: 254, dtype: object"
      ]
     },
     "metadata": {},
     "output_type": "display_data"
    },
    {
     "data": {
      "text/plain": [
       "dataset_id    rwm1984\n",
       "title         rwm1984\n",
       "Name: 255, dtype: object"
      ]
     },
     "metadata": {},
     "output_type": "display_data"
    },
    {
     "data": {
      "text/plain": [
       "dataset_id    rwm5yr\n",
       "title         rwm5yr\n",
       "Name: 256, dtype: object"
      ]
     },
     "metadata": {},
     "output_type": "display_data"
    },
    {
     "data": {
      "text/plain": [
       "dataset_id    ships\n",
       "title         ships\n",
       "Name: 257, dtype: object"
      ]
     },
     "metadata": {},
     "output_type": "display_data"
    },
    {
     "data": {
      "text/plain": [
       "dataset_id    smoking\n",
       "title         smoking\n",
       "Name: 258, dtype: object"
      ]
     },
     "metadata": {},
     "output_type": "display_data"
    },
    {
     "data": {
      "text/plain": [
       "dataset_id    titanic\n",
       "title         titanic\n",
       "Name: 259, dtype: object"
      ]
     },
     "metadata": {},
     "output_type": "display_data"
    },
    {
     "data": {
      "text/plain": [
       "dataset_id    titanicgrp\n",
       "title         titanicgrp\n",
       "Name: 260, dtype: object"
      ]
     },
     "metadata": {},
     "output_type": "display_data"
    },
    {
     "data": {
      "text/plain": [
       "dataset_id          Accident\n",
       "title         Ship Accidents\n",
       "Name: 261, dtype: object"
      ]
     },
     "metadata": {},
     "output_type": "display_data"
    },
    {
     "data": {
      "text/plain": [
       "dataset_id                   Airline\n",
       "title         Cost for U.S. Airlines\n",
       "Name: 262, dtype: object"
      ]
     },
     "metadata": {},
     "output_type": "display_data"
    },
    {
     "data": {
      "text/plain": [
       "dataset_id                                              Airq\n",
       "title         Air Quality for Californian Metropolitan Areas\n",
       "Name: 263, dtype: object"
      ]
     },
     "metadata": {},
     "output_type": "display_data"
    },
    {
     "data": {
      "text/plain": [
       "dataset_id                                Benefits\n",
       "title         Unemployement of Blue Collar Workers\n",
       "Name: 264, dtype: object"
      ]
     },
     "metadata": {},
     "output_type": "display_data"
    },
    {
     "data": {
      "text/plain": [
       "dataset_id                           Bids\n",
       "title         Bids Received By U.S. Firms\n",
       "Name: 265, dtype: object"
      ]
     },
     "metadata": {},
     "output_type": "display_data"
    },
    {
     "data": {
      "text/plain": [
       "dataset_id                                     BudgetFood\n",
       "title         Budget Share of Food for Spanish Households\n",
       "Name: 266, dtype: object"
      ]
     },
     "metadata": {},
     "output_type": "display_data"
    },
    {
     "data": {
      "text/plain": [
       "dataset_id                             BudgetItaly\n",
       "title         Budget Shares for Italian Households\n",
       "Name: 267, dtype: object"
      ]
     },
     "metadata": {},
     "output_type": "display_data"
    },
    {
     "data": {
      "text/plain": [
       "dataset_id                               BudgetUK\n",
       "title         Budget Shares of British Households\n",
       "Name: 268, dtype: object"
      ]
     },
     "metadata": {},
     "output_type": "display_data"
    },
    {
     "data": {
      "text/plain": [
       "dataset_id              Bwages\n",
       "title         Wages in Belgium\n",
       "Name: 269, dtype: object"
      ]
     },
     "metadata": {},
     "output_type": "display_data"
    },
    {
     "data": {
      "text/plain": [
       "dataset_id                                         CPSch3\n",
       "title         Earnings from the Current Population Survey\n",
       "Name: 270, dtype: object"
      ]
     },
     "metadata": {},
     "output_type": "display_data"
    },
    {
     "data": {
      "text/plain": [
       "dataset_id      CRANpackages\n",
       "title         Growth of CRAN\n",
       "Name: 271, dtype: object"
      ]
     },
     "metadata": {},
     "output_type": "display_data"
    },
    {
     "data": {
      "text/plain": [
       "dataset_id                 Capm\n",
       "title         Stock Market Data\n",
       "Name: 272, dtype: object"
      ]
     },
     "metadata": {},
     "output_type": "display_data"
    },
    {
     "data": {
      "text/plain": [
       "dataset_id                                  Car\n",
       "title         Stated Preferences for Car Choice\n",
       "Name: 273, dtype: object"
      ]
     },
     "metadata": {},
     "output_type": "display_data"
    },
    {
     "data": {
      "text/plain": [
       "dataset_id                              Caschool\n",
       "title         The California Test Score Data Set\n",
       "Name: 274, dtype: object"
      ]
     },
     "metadata": {},
     "output_type": "display_data"
    },
    {
     "data": {
      "text/plain": [
       "dataset_id                        Catsup\n",
       "title         Choice of Brand for Catsup\n",
       "Name: 275, dtype: object"
      ]
     },
     "metadata": {},
     "output_type": "display_data"
    },
    {
     "data": {
      "text/plain": [
       "dataset_id                    Cigar\n",
       "title         Cigarette Consumption\n",
       "Name: 276, dtype: object"
      ]
     },
     "metadata": {},
     "output_type": "display_data"
    },
    {
     "data": {
      "text/plain": [
       "dataset_id                                   Cigarette\n",
       "title         The Cigarette Consumption Panel Data Set\n",
       "Name: 277, dtype: object"
      ]
     },
     "metadata": {},
     "output_type": "display_data"
    },
    {
     "data": {
      "text/plain": [
       "dataset_id                              Clothing\n",
       "title         Sales Data of Men's Fashion Stores\n",
       "Name: 278, dtype: object"
      ]
     },
     "metadata": {},
     "output_type": "display_data"
    },
    {
     "data": {
      "text/plain": [
       "dataset_id                       Computers\n",
       "title         Prices of Personal Computers\n",
       "Name: 279, dtype: object"
      ]
     },
     "metadata": {},
     "output_type": "display_data"
    },
    {
     "data": {
      "text/plain": [
       "dataset_id                        Cracker\n",
       "title         Choice of Brand for Crakers\n",
       "Name: 280, dtype: object"
      ]
     },
     "metadata": {},
     "output_type": "display_data"
    },
    {
     "data": {
      "text/plain": [
       "dataset_id                      Crime\n",
       "title         Crime in North Carolina\n",
       "Name: 281, dtype: object"
      ]
     },
     "metadata": {},
     "output_type": "display_data"
    },
    {
     "data": {
      "text/plain": [
       "dataset_id                         DM\n",
       "title         DM Dollar Exchange Rate\n",
       "Name: 282, dtype: object"
      ]
     },
     "metadata": {},
     "output_type": "display_data"
    },
    {
     "data": {
      "text/plain": [
       "dataset_id                              Diamond\n",
       "title         Pricing the C's of Diamond Stones\n",
       "Name: 283, dtype: object"
      ]
     },
     "metadata": {},
     "output_type": "display_data"
    },
    {
     "data": {
      "text/plain": [
       "dataset_id                     Doctor\n",
       "title         Number of Doctor Visits\n",
       "Name: 284, dtype: object"
      ]
     },
     "metadata": {},
     "output_type": "display_data"
    },
    {
     "data": {
      "text/plain": [
       "dataset_id                     DoctorAUS\n",
       "title         Doctor Visits in Australia\n",
       "Name: 285, dtype: object"
      ]
     },
     "metadata": {},
     "output_type": "display_data"
    },
    {
     "data": {
      "text/plain": [
       "dataset_id                  DoctorContacts\n",
       "title         Contacts With Medical Doctor\n",
       "Name: 286, dtype: object"
      ]
     },
     "metadata": {},
     "output_type": "display_data"
    },
    {
     "data": {
      "text/plain": [
       "dataset_id                         Earnings\n",
       "title         Earnings for Three Age Groups\n",
       "Name: 287, dtype: object"
      ]
     },
     "metadata": {},
     "output_type": "display_data"
    },
    {
     "data": {
      "text/plain": [
       "dataset_id                                Electricity\n",
       "title         Cost Function for Electricity Producers\n",
       "Name: 288, dtype: object"
      ]
     },
     "metadata": {},
     "output_type": "display_data"
    },
    {
     "data": {
      "text/plain": [
       "dataset_id                         Fair\n",
       "title         Extramarital Affairs Data\n",
       "Name: 289, dtype: object"
      ]
     },
     "metadata": {},
     "output_type": "display_data"
    },
    {
     "data": {
      "text/plain": [
       "dataset_id                                 Fatality\n",
       "title         Drunk Driving Laws and Traffic Deaths\n",
       "Name: 290, dtype: object"
      ]
     },
     "metadata": {},
     "output_type": "display_data"
    },
    {
     "data": {
      "text/plain": [
       "dataset_id                   Fishing\n",
       "title         Choice of Fishing Mode\n",
       "Name: 291, dtype: object"
      ]
     },
     "metadata": {},
     "output_type": "display_data"
    },
    {
     "data": {
      "text/plain": [
       "dataset_id                                                 Forward\n",
       "title         Exchange Rates of US Dollar Against Other Currencies\n",
       "Name: 292, dtype: object"
      ]
     },
     "metadata": {},
     "output_type": "display_data"
    },
    {
     "data": {
      "text/plain": [
       "dataset_id                                             FriendFoe\n",
       "title         Data from the Television Game Show Friend Or Foe ?\n",
       "Name: 293, dtype: object"
      ]
     },
     "metadata": {},
     "output_type": "display_data"
    },
    {
     "data": {
      "text/plain": [
       "dataset_id                                                                             Garch\n",
       "title         Daily Observations on Exchange Rates of the US Dollar Against Other Currencies\n",
       "Name: 294, dtype: object"
      ]
     },
     "metadata": {},
     "output_type": "display_data"
    },
    {
     "data": {
      "text/plain": [
       "dataset_id                Gasoline\n",
       "title         Gasoline Consumption\n",
       "Name: 295, dtype: object"
      ]
     },
     "metadata": {},
     "output_type": "display_data"
    },
    {
     "data": {
      "text/plain": [
       "dataset_id     Griliches\n",
       "title         Wage Datas\n",
       "Name: 296, dtype: object"
      ]
     },
     "metadata": {},
     "output_type": "display_data"
    },
    {
     "data": {
      "text/plain": [
       "dataset_id                    Grunfeld\n",
       "title         Grunfeld Investment Data\n",
       "Name: 297, dtype: object"
      ]
     },
     "metadata": {},
     "output_type": "display_data"
    },
    {
     "data": {
      "text/plain": [
       "dataset_id                                                                       HC\n",
       "title         Heating and Cooling System Choice in Newly Built Houses in California\n",
       "Name: 298, dtype: object"
      ]
     },
     "metadata": {},
     "output_type": "display_data"
    },
    {
     "data": {
      "text/plain": [
       "dataset_id                                            HI\n",
       "title         Health Insurance and Hours Worked By Wives\n",
       "Name: 299, dtype: object"
      ]
     },
     "metadata": {},
     "output_type": "display_data"
    },
    {
     "data": {
      "text/plain": [
       "dataset_id                        Hdma\n",
       "title         The Boston HDMA Data Set\n",
       "Name: 300, dtype: object"
      ]
     },
     "metadata": {},
     "output_type": "display_data"
    },
    {
     "data": {
      "text/plain": [
       "dataset_id                                       Heating\n",
       "title         Heating System Choice in California Houses\n",
       "Name: 301, dtype: object"
      ]
     },
     "metadata": {},
     "output_type": "display_data"
    },
    {
     "data": {
      "text/plain": [
       "dataset_id                                      Hedonic\n",
       "title         Hedonic Prices of Cencus Tracts in Boston\n",
       "Name: 302, dtype: object"
      ]
     },
     "metadata": {},
     "output_type": "display_data"
    },
    {
     "data": {
      "text/plain": [
       "dataset_id                                          Housing\n",
       "title         Sales Prices of Houses in the City of Windsor\n",
       "Name: 303, dtype: object"
      ]
     },
     "metadata": {},
     "output_type": "display_data"
    },
    {
     "data": {
      "text/plain": [
       "dataset_id                 Icecream\n",
       "title         Ice Cream Consumption\n",
       "Name: 304, dtype: object"
      ]
     },
     "metadata": {},
     "output_type": "display_data"
    },
    {
     "data": {
      "text/plain": [
       "dataset_id                     Journals\n",
       "title         Economic Journals Dat Set\n",
       "Name: 305, dtype: object"
      ]
     },
     "metadata": {},
     "output_type": "display_data"
    },
    {
     "data": {
      "text/plain": [
       "dataset_id                                                                 Kakadu\n",
       "title         Willingness to Pay for the Preservation of the Kakadu National Park\n",
       "Name: 306, dtype: object"
      ]
     },
     "metadata": {},
     "output_type": "display_data"
    },
    {
     "data": {
      "text/plain": [
       "dataset_id                        Ketchup\n",
       "title         Choice of Brand for Ketchup\n",
       "Name: 307, dtype: object"
      ]
     },
     "metadata": {},
     "output_type": "display_data"
    },
    {
     "data": {
      "text/plain": [
       "dataset_id              Klein\n",
       "title         Klein's Model I\n",
       "Name: 308, dtype: object"
      ]
     },
     "metadata": {},
     "output_type": "display_data"
    },
    {
     "data": {
      "text/plain": [
       "dataset_id               LaborSupply\n",
       "title         Wages and Hours Worked\n",
       "Name: 309, dtype: object"
      ]
     },
     "metadata": {},
     "output_type": "display_data"
    },
    {
     "data": {
      "text/plain": [
       "dataset_id           Labour\n",
       "title         Belgian Firms\n",
       "Name: 310, dtype: object"
      ]
     },
     "metadata": {},
     "output_type": "display_data"
    },
    {
     "data": {
      "text/plain": [
       "dataset_id                                    MCAS\n",
       "title         The Massashusets Test Score Data Set\n",
       "Name: 311, dtype: object"
      ]
     },
     "metadata": {},
     "output_type": "display_data"
    },
    {
     "data": {
      "text/plain": [
       "dataset_id                                 Males\n",
       "title         Wages and Education of Young Males\n",
       "Name: 312, dtype: object"
      ]
     },
     "metadata": {},
     "output_type": "display_data"
    },
    {
     "data": {
      "text/plain": [
       "dataset_id                                                                  Mathlevel\n",
       "title         Level of Calculus Attained for Students Taking Advanced Micro-economics\n",
       "Name: 313, dtype: object"
      ]
     },
     "metadata": {},
     "output_type": "display_data"
    },
    {
     "data": {
      "text/plain": [
       "dataset_id                                  MedExp\n",
       "title         Structure of Demand for Medical Care\n",
       "Name: 314, dtype: object"
      ]
     },
     "metadata": {},
     "output_type": "display_data"
    },
    {
     "data": {
      "text/plain": [
       "dataset_id                    Metal\n",
       "title         Production for SIC 33\n",
       "Name: 315, dtype: object"
      ]
     },
     "metadata": {},
     "output_type": "display_data"
    },
    {
     "data": {
      "text/plain": [
       "dataset_id           Mode\n",
       "title         Mode Choice\n",
       "Name: 316, dtype: object"
      ]
     },
     "metadata": {},
     "output_type": "display_data"
    },
    {
     "data": {
      "text/plain": [
       "dataset_id                          ModeChoice\n",
       "title         Data to Study Travel Mode Choice\n",
       "Name: 317, dtype: object"
      ]
     },
     "metadata": {},
     "output_type": "display_data"
    },
    {
     "data": {
      "text/plain": [
       "dataset_id                                                                                         Mofa\n",
       "title         International Expansion of U.S. Mofa's (majority-owned Foreign Affiliates in Fire (fin...\n",
       "Name: 318, dtype: object"
      ]
     },
     "metadata": {},
     "output_type": "display_data"
    },
    {
     "data": {
      "text/plain": [
       "dataset_id                 Mroz\n",
       "title         Labor Supply Data\n",
       "Name: 319, dtype: object"
      ]
     },
     "metadata": {},
     "output_type": "display_data"
    },
    {
     "data": {
      "text/plain": [
       "dataset_id                        MunExp\n",
       "title         Municipal Expenditure Data\n",
       "Name: 320, dtype: object"
      ]
     },
     "metadata": {},
     "output_type": "display_data"
    },
    {
     "data": {
      "text/plain": [
       "dataset_id                                                             NaturalPark\n",
       "title         Willingness to Pay for the Preservation of the Alentejo Natural Park\n",
       "Name: 321, dtype: object"
      ]
     },
     "metadata": {},
     "output_type": "display_data"
    },
    {
     "data": {
      "text/plain": [
       "dataset_id                                          Nerlove\n",
       "title         Cost Function for Electricity Producers, 1955\n",
       "Name: 322, dtype: object"
      ]
     },
     "metadata": {},
     "output_type": "display_data"
    },
    {
     "data": {
      "text/plain": [
       "dataset_id                           OFP\n",
       "title         Visits to Physician Office\n",
       "Name: 323, dtype: object"
      ]
     },
     "metadata": {},
     "output_type": "display_data"
    },
    {
     "data": {
      "text/plain": [
       "dataset_id               Oil\n",
       "title         Oil Investment\n",
       "Name: 324, dtype: object"
      ]
     },
     "metadata": {},
     "output_type": "display_data"
    },
    {
     "data": {
      "text/plain": [
       "dataset_id                               PSID\n",
       "title         Panel Survey of Income Dynamics\n",
       "Name: 325, dtype: object"
      ]
     },
     "metadata": {},
     "output_type": "display_data"
    },
    {
     "data": {
      "text/plain": [
       "dataset_id                Participation\n",
       "title         Labor Force Participation\n",
       "Name: 326, dtype: object"
      ]
     },
     "metadata": {},
     "output_type": "display_data"
    },
    {
     "data": {
      "text/plain": [
       "dataset_id                                  PatentsHGH\n",
       "title         Dynamic Relation Between Patents and R&D\n",
       "Name: 327, dtype: object"
      ]
     },
     "metadata": {},
     "output_type": "display_data"
    },
    {
     "data": {
      "text/plain": [
       "dataset_id                                                         PatentsRD\n",
       "title         Patents, R&D and Technological Spillovers for a Panel of Firms\n",
       "Name: 328, dtype: object"
      ]
     },
     "metadata": {},
     "output_type": "display_data"
    },
    {
     "data": {
      "text/plain": [
       "dataset_id                         Pound\n",
       "title         Pound-dollar Exchange Rate\n",
       "Name: 329, dtype: object"
      ]
     },
     "metadata": {},
     "output_type": "display_data"
    },
    {
     "data": {
      "text/plain": [
       "dataset_id                  Produc\n",
       "title         Us States Production\n",
       "Name: 330, dtype: object"
      ]
     },
     "metadata": {},
     "output_type": "display_data"
    },
    {
     "data": {
      "text/plain": [
       "dataset_id              RetSchool\n",
       "title         Return to Schooling\n",
       "Name: 331, dtype: object"
      ]
     },
     "metadata": {},
     "output_type": "display_data"
    },
    {
     "data": {
      "text/plain": [
       "dataset_id                                     SP500\n",
       "title         Returns on Standard & Poor's 500 Index\n",
       "Name: 332, dtype: object"
      ]
     },
     "metadata": {},
     "output_type": "display_data"
    },
    {
     "data": {
      "text/plain": [
       "dataset_id              Schooling\n",
       "title         Wages and Schooling\n",
       "Name: 333, dtype: object"
      ]
     },
     "metadata": {},
     "output_type": "display_data"
    },
    {
     "data": {
      "text/plain": [
       "dataset_id                   Somerville\n",
       "title         Visits to Lake Somerville\n",
       "Name: 334, dtype: object"
      ]
     },
     "metadata": {},
     "output_type": "display_data"
    },
    {
     "data": {
      "text/plain": [
       "dataset_id                                        Star\n",
       "title         Effects on Learning of Small Class Sizes\n",
       "Name: 335, dtype: object"
      ]
     },
     "metadata": {},
     "output_type": "display_data"
    },
    {
     "data": {
      "text/plain": [
       "dataset_id                  Strike\n",
       "title         Strike Duration Data\n",
       "Name: 336, dtype: object"
      ]
     },
     "metadata": {},
     "output_type": "display_data"
    },
    {
     "data": {
      "text/plain": [
       "dataset_id           StrikeDur\n",
       "title         Strikes Duration\n",
       "Name: 337, dtype: object"
      ]
     },
     "metadata": {},
     "output_type": "display_data"
    },
    {
     "data": {
      "text/plain": [
       "dataset_id                                 StrikeNb\n",
       "title         Number of Strikes in Us Manufacturing\n",
       "Name: 338, dtype: object"
      ]
     },
     "metadata": {},
     "output_type": "display_data"
    },
    {
     "data": {
      "text/plain": [
       "dataset_id            SumHes\n",
       "title         The Penn Table\n",
       "Name: 339, dtype: object"
      ]
     },
     "metadata": {},
     "output_type": "display_data"
    },
    {
     "data": {
      "text/plain": [
       "dataset_id                            Tobacco\n",
       "title         Households Tobacco Budget Share\n",
       "Name: 340, dtype: object"
      ]
     },
     "metadata": {},
     "output_type": "display_data"
    },
    {
     "data": {
      "text/plain": [
       "dataset_id                                     Train\n",
       "title         Stated Preferences for Train Traveling\n",
       "Name: 341, dtype: object"
      ]
     },
     "metadata": {},
     "output_type": "display_data"
    },
    {
     "data": {
      "text/plain": [
       "dataset_id                                                    TranspEq\n",
       "title         Statewide Data on Transportation Equipment Manufacturing\n",
       "Name: 342, dtype: object"
      ]
     },
     "metadata": {},
     "output_type": "display_data"
    },
    {
     "data": {
      "text/plain": [
       "dataset_id                                              Treatment\n",
       "title         Evaluating Treatment Effect of Training on Earnings\n",
       "Name: 343, dtype: object"
      ]
     },
     "metadata": {},
     "output_type": "display_data"
    },
    {
     "data": {
      "text/plain": [
       "dataset_id                        Tuna\n",
       "title         Choice of Brand for Tuna\n",
       "Name: 344, dtype: object"
      ]
     },
     "metadata": {},
     "output_type": "display_data"
    },
    {
     "data": {
      "text/plain": [
       "dataset_id              USFinanceIndustry\n",
       "title         US Finance Industry Profits\n",
       "Name: 345, dtype: object"
      ]
     },
     "metadata": {},
     "output_type": "display_data"
    },
    {
     "data": {
      "text/plain": [
       "dataset_id                               USclassifiedDocuments\n",
       "title         Official Secrecy of the United States Government\n",
       "Name: 346, dtype: object"
      ]
     },
     "metadata": {},
     "output_type": "display_data"
    },
    {
     "data": {
      "text/plain": [
       "dataset_id                                      USstateAbbreviations\n",
       "title         Standard abbreviations for states of the United States\n",
       "Name: 347, dtype: object"
      ]
     },
     "metadata": {},
     "output_type": "display_data"
    },
    {
     "data": {
      "text/plain": [
       "dataset_id                       UStaxWords\n",
       "title         Number of Words in US Tax Law\n",
       "Name: 348, dtype: object"
      ]
     },
     "metadata": {},
     "output_type": "display_data"
    },
    {
     "data": {
      "text/plain": [
       "dataset_id                 UnempDur\n",
       "title         Unemployment Duration\n",
       "Name: 349, dtype: object"
      ]
     },
     "metadata": {},
     "output_type": "display_data"
    },
    {
     "data": {
      "text/plain": [
       "dataset_id             Unemployment\n",
       "title         Unemployment Duration\n",
       "Name: 350, dtype: object"
      ]
     },
     "metadata": {},
     "output_type": "display_data"
    },
    {
     "data": {
      "text/plain": [
       "dataset_id                                       University\n",
       "title         Provision of University Teaching and Research\n",
       "Name: 351, dtype: object"
      ]
     },
     "metadata": {},
     "output_type": "display_data"
    },
    {
     "data": {
      "text/plain": [
       "dataset_id                                          VietNamH\n",
       "title         Medical Expenses in Viet-nam (household Level)\n",
       "Name: 352, dtype: object"
      ]
     },
     "metadata": {},
     "output_type": "display_data"
    },
    {
     "data": {
      "text/plain": [
       "dataset_id                                           VietNamI\n",
       "title         Medical Expenses in Viet-nam (individual Level)\n",
       "Name: 353, dtype: object"
      ]
     },
     "metadata": {},
     "output_type": "display_data"
    },
    {
     "data": {
      "text/plain": [
       "dataset_id                              Wages\n",
       "title         Panel Datas of Individual Wages\n",
       "Name: 354, dtype: object"
      ]
     },
     "metadata": {},
     "output_type": "display_data"
    },
    {
     "data": {
      "text/plain": [
       "dataset_id                             Wages1\n",
       "title         Wages, Experience and Schooling\n",
       "Name: 355, dtype: object"
      ]
     },
     "metadata": {},
     "output_type": "display_data"
    },
    {
     "data": {
      "text/plain": [
       "dataset_id          Workinghours\n",
       "title         Wife Working Hours\n",
       "Name: 356, dtype: object"
      ]
     },
     "metadata": {},
     "output_type": "display_data"
    },
    {
     "data": {
      "text/plain": [
       "dataset_id                         Yen\n",
       "title         Yen-dollar Exchange Rate\n",
       "Name: 357, dtype: object"
      ]
     },
     "metadata": {},
     "output_type": "display_data"
    },
    {
     "data": {
      "text/plain": [
       "dataset_id                         Yogurt\n",
       "title         Choice of Brand for Yogurts\n",
       "Name: 358, dtype: object"
      ]
     },
     "metadata": {},
     "output_type": "display_data"
    },
    {
     "data": {
      "text/plain": [
       "dataset_id                  bankingCrises\n",
       "title         Countries in Banking Crises\n",
       "Name: 359, dtype: object"
      ]
     },
     "metadata": {},
     "output_type": "display_data"
    },
    {
     "data": {
      "text/plain": [
       "dataset_id               incomeInequality\n",
       "title         Income Inequality in the US\n",
       "Name: 360, dtype: object"
      ]
     },
     "metadata": {},
     "output_type": "display_data"
    },
    {
     "data": {
      "text/plain": [
       "dataset_id                      nonEnglishNames\n",
       "title         Names with Character Set Problems\n",
       "Name: 361, dtype: object"
      ]
     },
     "metadata": {},
     "output_type": "display_data"
    },
    {
     "data": {
      "text/plain": [
       "dataset_id                          politicalKnowledge\n",
       "title         Political knowledge in the US and Europe\n",
       "Name: 362, dtype: object"
      ]
     },
     "metadata": {},
     "output_type": "display_data"
    },
    {
     "data": {
      "text/plain": [
       "dataset_id                                                             PD\n",
       "title         A study of Parkinson's disease and APOE, LRRK2, SNCA makers\n",
       "Name: 363, dtype: object"
      ]
     },
     "metadata": {},
     "output_type": "display_data"
    },
    {
     "data": {
      "text/plain": [
       "dataset_id                           aldh2\n",
       "title         ALDH2 markers and Alcoholism\n",
       "Name: 364, dtype: object"
      ]
     },
     "metadata": {},
     "output_type": "display_data"
    },
    {
     "data": {
      "text/plain": [
       "dataset_id                              apoeapoc\n",
       "title         APOE/APOC1 markers and Alzheimer's\n",
       "Name: 365, dtype: object"
      ]
     },
     "metadata": {},
     "output_type": "display_data"
    },
    {
     "data": {
      "text/plain": [
       "dataset_id                      cf\n",
       "title         Cystic fibrosis data\n",
       "Name: 366, dtype: object"
      ]
     },
     "metadata": {},
     "output_type": "display_data"
    },
    {
     "data": {
      "text/plain": [
       "dataset_id                   crohn\n",
       "title         Crohn's disease data\n",
       "Name: 367, dtype: object"
      ]
     },
     "metadata": {},
     "output_type": "display_data"
    },
    {
     "data": {
      "text/plain": [
       "dataset_id                        fa\n",
       "title         Friedreich Ataxia data\n",
       "Name: 368, dtype: object"
      ]
     },
     "metadata": {},
     "output_type": "display_data"
    },
    {
     "data": {
      "text/plain": [
       "dataset_id                                                            fsnps\n",
       "title         A case-control data involving four SNPs with missing genotype\n",
       "Name: 369, dtype: object"
      ]
     },
     "metadata": {},
     "output_type": "display_data"
    },
    {
     "data": {
      "text/plain": [
       "dataset_id             hla\n",
       "title         The HLA data\n",
       "Name: 370, dtype: object"
      ]
     },
     "metadata": {},
     "output_type": "display_data"
    },
    {
     "data": {
      "text/plain": [
       "dataset_id                                                hr1420\n",
       "title         An example data for Manhattan plot with annotation\n",
       "Name: 371, dtype: object"
      ]
     },
     "metadata": {},
     "output_type": "display_data"
    },
    {
     "data": {
      "text/plain": [
       "dataset_id                         l51\n",
       "title         An example pedigree data\n",
       "Name: 372, dtype: object"
      ]
     },
     "metadata": {},
     "output_type": "display_data"
    },
    {
     "data": {
      "text/plain": [
       "dataset_id                  lukas\n",
       "title         An example pedigree\n",
       "Name: 373, dtype: object"
      ]
     },
     "metadata": {},
     "output_type": "display_data"
    },
    {
     "data": {
      "text/plain": [
       "dataset_id                                            mao\n",
       "title         A study of Parkinson's disease and MAO gene\n",
       "Name: 374, dtype: object"
      ]
     },
     "metadata": {},
     "output_type": "display_data"
    },
    {
     "data": {
      "text/plain": [
       "dataset_id                       mfblong\n",
       "title         Example data for ACEnucfam\n",
       "Name: 375, dtype: object"
      ]
     },
     "metadata": {},
     "output_type": "display_data"
    },
    {
     "data": {
      "text/plain": [
       "dataset_id                               mhtdata\n",
       "title         An example data for Manhattan plot\n",
       "Name: 376, dtype: object"
      ]
     },
     "metadata": {},
     "output_type": "display_data"
    },
    {
     "data": {
      "text/plain": [
       "dataset_id                                                     nep499\n",
       "title         A study of Alzheimer's disease with eight SNPs and APOE\n",
       "Name: 377, dtype: object"
      ]
     },
     "metadata": {},
     "output_type": "display_data"
    },
    {
     "data": {
      "text/plain": [
       "dataset_id                               diamonds\n",
       "title         Prices of 50,000 round cut diamonds\n",
       "Name: 378, dtype: object"
      ]
     },
     "metadata": {},
     "output_type": "display_data"
    },
    {
     "data": {
      "text/plain": [
       "dataset_id                   economics\n",
       "title         US economic time series.\n",
       "Name: 379, dtype: object"
      ]
     },
     "metadata": {},
     "output_type": "display_data"
    },
    {
     "data": {
      "text/plain": [
       "dataset_id                  midwest\n",
       "title         Midwest demographics.\n",
       "Name: 380, dtype: object"
      ]
     },
     "metadata": {},
     "output_type": "display_data"
    },
    {
     "data": {
      "text/plain": [
       "dataset_id                                               movies\n",
       "title         Movie information and user ratings from IMDB.com.\n",
       "Name: 381, dtype: object"
      ]
     },
     "metadata": {},
     "output_type": "display_data"
    },
    {
     "data": {
      "text/plain": [
       "dataset_id                                                                  mpg\n",
       "title         Fuel economy data from 1999 and 2008 for 38 popular models of car\n",
       "Name: 382, dtype: object"
      ]
     },
     "metadata": {},
     "output_type": "display_data"
    },
    {
     "data": {
      "text/plain": [
       "dataset_id                                                           msleep\n",
       "title         An updated and expanded version of the mammals sleep dataset.\n",
       "Name: 383, dtype: object"
      ]
     },
     "metadata": {},
     "output_type": "display_data"
    },
    {
     "data": {
      "text/plain": [
       "dataset_id                                         presidential\n",
       "title         Terms of 10 presidents from Eisenhower to Bush W.\n",
       "Name: 384, dtype: object"
      ]
     },
     "metadata": {},
     "output_type": "display_data"
    },
    {
     "data": {
      "text/plain": [
       "dataset_id                              seals\n",
       "title         Vector field of seal movements.\n",
       "Name: 385, dtype: object"
      ]
     },
     "metadata": {},
     "output_type": "display_data"
    },
    {
     "data": {
      "text/plain": [
       "dataset_id                                                                     Arbuthnot\n",
       "title         Arbuthnot's data on male and female birth ratios in London from 1629-1710.\n",
       "Name: 386, dtype: object"
      ]
     },
     "metadata": {},
     "output_type": "display_data"
    },
    {
     "data": {
      "text/plain": [
       "dataset_id                                                           Bowley\n",
       "title         Bowley's data on values of British and Irish trade, 1855-1899\n",
       "Name: 387, dtype: object"
      ]
     },
     "metadata": {},
     "output_type": "display_data"
    },
    {
     "data": {
      "text/plain": [
       "dataset_id                                                 Cavendish\n",
       "title         Cavendish's Determinations of the Density of the Earth\n",
       "Name: 388, dtype: object"
      ]
     },
     "metadata": {},
     "output_type": "display_data"
    },
    {
     "data": {
      "text/plain": [
       "dataset_id                                        ChestSizes\n",
       "title         Chest measurements of 5738 Scottish Militiamen\n",
       "Name: 389, dtype: object"
      ]
     },
     "metadata": {},
     "output_type": "display_data"
    },
    {
     "data": {
      "text/plain": [
       "dataset_id                                                        CushnyPeebles\n",
       "title         Cushny-Peebles Data: Soporific Effects of Scopolamine Derivatives\n",
       "Name: 390, dtype: object"
      ]
     },
     "metadata": {},
     "output_type": "display_data"
    },
    {
     "data": {
      "text/plain": [
       "dataset_id                                                       CushnyPeeblesN\n",
       "title         Cushny-Peebles Data: Soporific Effects of Scopolamine Derivatives\n",
       "Name: 391, dtype: object"
      ]
     },
     "metadata": {},
     "output_type": "display_data"
    },
    {
     "data": {
      "text/plain": [
       "dataset_id                                              Dactyl\n",
       "title         Edgeworth's counts of dactyls in Virgil's Aeneid\n",
       "Name: 392, dtype: object"
      ]
     },
     "metadata": {},
     "output_type": "display_data"
    },
    {
     "data": {
      "text/plain": [
       "dataset_id                                                 DrinksWages\n",
       "title         Elderton and Pearson's (1910) data on drinking and wages\n",
       "Name: 393, dtype: object"
      ]
     },
     "metadata": {},
     "output_type": "display_data"
    },
    {
     "data": {
      "text/plain": [
       "dataset_id                                Fingerprints\n",
       "title         Waite's data on Patterns in Fingerprints\n",
       "Name: 394, dtype: object"
      ]
     },
     "metadata": {},
     "output_type": "display_data"
    },
    {
     "data": {
      "text/plain": [
       "dataset_id                                                        Galton\n",
       "title         Galton's data on the heights of parents and their children\n",
       "Name: 395, dtype: object"
      ]
     },
     "metadata": {},
     "output_type": "display_data"
    },
    {
     "data": {
      "text/plain": [
       "dataset_id                                                          GaltonFamilies\n",
       "title         Galton's data on the heights of parents and their children, by child\n",
       "Name: 396, dtype: object"
      ]
     },
     "metadata": {},
     "output_type": "display_data"
    },
    {
     "data": {
      "text/plain": [
       "dataset_id                                                               Guerry\n",
       "title         Data from A.-M. Guerry, \"Essay on the Moral Statistics of France\"\n",
       "Name: 397, dtype: object"
      ]
     },
     "metadata": {},
     "output_type": "display_data"
    },
    {
     "data": {
      "text/plain": [
       "dataset_id                                                 Jevons\n",
       "title         W. Stanley Jevons' data on numerical discrimination\n",
       "Name: 398, dtype: object"
      ]
     },
     "metadata": {},
     "output_type": "display_data"
    },
    {
     "data": {
      "text/plain": [
       "dataset_id                                                         Langren.all\n",
       "title         van Langren's Data on Longitude Distance between Toledo and Rome\n",
       "Name: 399, dtype: object"
      ]
     },
     "metadata": {},
     "output_type": "display_data"
    },
    {
     "data": {
      "text/plain": [
       "dataset_id                                                         Langren1644\n",
       "title         van Langren's Data on Longitude Distance between Toledo and Rome\n",
       "Name: 400, dtype: object"
      ]
     },
     "metadata": {},
     "output_type": "display_data"
    },
    {
     "data": {
      "text/plain": [
       "dataset_id                                                                           Macdonell\n",
       "title         Macdonell's Data on Height and Finger Length of Criminals, used by Gosset (1908)\n",
       "Name: 401, dtype: object"
      ]
     },
     "metadata": {},
     "output_type": "display_data"
    },
    {
     "data": {
      "text/plain": [
       "dataset_id                                                                         MacdonellDF\n",
       "title         Macdonell's Data on Height and Finger Length of Criminals, used by Gosset (1908)\n",
       "Name: 402, dtype: object"
      ]
     },
     "metadata": {},
     "output_type": "display_data"
    },
    {
     "data": {
      "text/plain": [
       "dataset_id                                              Michelson\n",
       "title         Michelson's Determinations of the Velocity of Light\n",
       "Name: 403, dtype: object"
      ]
     },
     "metadata": {},
     "output_type": "display_data"
    },
    {
     "data": {
      "text/plain": [
       "dataset_id                                          MichelsonSets\n",
       "title         Michelson's Determinations of the Velocity of Light\n",
       "Name: 404, dtype: object"
      ]
     },
     "metadata": {},
     "output_type": "display_data"
    },
    {
     "data": {
      "text/plain": [
       "dataset_id                                                          Minard.cities\n",
       "title         Data from Minard's famous graphic map of Napoleon's march on Moscow\n",
       "Name: 405, dtype: object"
      ]
     },
     "metadata": {},
     "output_type": "display_data"
    },
    {
     "data": {
      "text/plain": [
       "dataset_id                                                            Minard.temp\n",
       "title         Data from Minard's famous graphic map of Napoleon's march on Moscow\n",
       "Name: 406, dtype: object"
      ]
     },
     "metadata": {},
     "output_type": "display_data"
    },
    {
     "data": {
      "text/plain": [
       "dataset_id                                                          Minard.troops\n",
       "title         Data from Minard's famous graphic map of Napoleon's march on Moscow\n",
       "Name: 407, dtype: object"
      ]
     },
     "metadata": {},
     "output_type": "display_data"
    },
    {
     "data": {
      "text/plain": [
       "dataset_id                                                                     Nightingale\n",
       "title         Florence Nightingale's data on deaths from various causes in the Crimean War\n",
       "Name: 408, dtype: object"
      ]
     },
     "metadata": {},
     "output_type": "display_data"
    },
    {
     "data": {
      "text/plain": [
       "dataset_id                                                 OldMaps\n",
       "title         Latitudes and Longitudes of 39 Points in 11 Old Maps\n",
       "Name: 409, dtype: object"
      ]
     },
     "metadata": {},
     "output_type": "display_data"
    },
    {
     "data": {
      "text/plain": [
       "dataset_id                                                                            PearsonLee\n",
       "title         Pearson and Lee's data on the heights of parents and children classified by gender\n",
       "Name: 410, dtype: object"
      ]
     },
     "metadata": {},
     "output_type": "display_data"
    },
    {
     "data": {
      "text/plain": [
       "dataset_id                PolioTrials\n",
       "title         Polio Field Trials Data\n",
       "Name: 411, dtype: object"
      ]
     },
     "metadata": {},
     "output_type": "display_data"
    },
    {
     "data": {
      "text/plain": [
       "dataset_id                                                                   Prostitutes\n",
       "title         Parent-Duchatelet's time-series data on the number of prostitutes in Paris\n",
       "Name: 412, dtype: object"
      ]
     },
     "metadata": {},
     "output_type": "display_data"
    },
    {
     "data": {
      "text/plain": [
       "dataset_id                 Pyx\n",
       "title         Trial of the Pyx\n",
       "Name: 413, dtype: object"
      ]
     },
     "metadata": {},
     "output_type": "display_data"
    },
    {
     "data": {
      "text/plain": [
       "dataset_id                         Quarrels\n",
       "title         Statistics of Deadly Quarrels\n",
       "Name: 414, dtype: object"
      ]
     },
     "metadata": {},
     "output_type": "display_data"
    },
    {
     "data": {
      "text/plain": [
       "dataset_id                                                     Snow.deaths\n",
       "title         John Snow's map and data on the 1854 London Cholera outbreak\n",
       "Name: 415, dtype: object"
      ]
     },
     "metadata": {},
     "output_type": "display_data"
    },
    {
     "data": {
      "text/plain": [
       "dataset_id                                                   Snow.polygons\n",
       "title         John Snow's map and data on the 1854 London Cholera outbreak\n",
       "Name: 416, dtype: object"
      ]
     },
     "metadata": {},
     "output_type": "display_data"
    },
    {
     "data": {
      "text/plain": [
       "dataset_id                                                      Snow.pumps\n",
       "title         John Snow's map and data on the 1854 London Cholera outbreak\n",
       "Name: 417, dtype: object"
      ]
     },
     "metadata": {},
     "output_type": "display_data"
    },
    {
     "data": {
      "text/plain": [
       "dataset_id                                                    Snow.streets\n",
       "title         John Snow's map and data on the 1854 London Cholera outbreak\n",
       "Name: 418, dtype: object"
      ]
     },
     "metadata": {},
     "output_type": "display_data"
    },
    {
     "data": {
      "text/plain": [
       "dataset_id                                              Wheat\n",
       "title         Playfair's Data on Wages and the Price of Wheat\n",
       "Name: 419, dtype: object"
      ]
     },
     "metadata": {},
     "output_type": "display_data"
    },
    {
     "data": {
      "text/plain": [
       "dataset_id                                     Wheat.monarchs\n",
       "title         Playfair's Data on Wages and the Price of Wheat\n",
       "Name: 420, dtype: object"
      ]
     },
     "metadata": {},
     "output_type": "display_data"
    },
    {
     "data": {
      "text/plain": [
       "dataset_id                                 Yeast\n",
       "title         Student's (1906) Yeast Cell Counts\n",
       "Name: 421, dtype: object"
      ]
     },
     "metadata": {},
     "output_type": "display_data"
    },
    {
     "data": {
      "text/plain": [
       "dataset_id                            YeastD.mat\n",
       "title         Student's (1906) Yeast Cell Counts\n",
       "Name: 422, dtype: object"
      ]
     },
     "metadata": {},
     "output_type": "display_data"
    },
    {
     "data": {
      "text/plain": [
       "dataset_id                                                         ZeaMays\n",
       "title         Darwin's Heights of Cross- and Self-fertilized Zea May Pairs\n",
       "Name: 423, dtype: object"
      ]
     },
     "metadata": {},
     "output_type": "display_data"
    },
    {
     "data": {
      "text/plain": [
       "dataset_id                                      barley\n",
       "title         Yield data from a Minnesota barley trial\n",
       "Name: 424, dtype: object"
      ]
     },
     "metadata": {},
     "output_type": "display_data"
    },
    {
     "data": {
      "text/plain": [
       "dataset_id                                            environmental\n",
       "title         Atmospheric environmental conditions in New York City\n",
       "Name: 425, dtype: object"
      ]
     },
     "metadata": {},
     "output_type": "display_data"
    },
    {
     "data": {
      "text/plain": [
       "dataset_id                                      ethanol\n",
       "title         Engine exhaust fumes from burning ethanol\n",
       "Name: 426, dtype: object"
      ]
     },
     "metadata": {},
     "output_type": "display_data"
    },
    {
     "data": {
      "text/plain": [
       "dataset_id                          melanoma\n",
       "title         Melanoma skin cancer incidence\n",
       "Name: 427, dtype: object"
      ]
     },
     "metadata": {},
     "output_type": "display_data"
    },
    {
     "data": {
      "text/plain": [
       "dataset_id                                        singer\n",
       "title         Heights of New York Choral Society singers\n",
       "Name: 428, dtype: object"
      ]
     },
     "metadata": {},
     "output_type": "display_data"
    },
    {
     "data": {
      "text/plain": [
       "dataset_id                            Aids2\n",
       "title         Australian AIDS Survival Data\n",
       "Name: 429, dtype: object"
      ]
     },
     "metadata": {},
     "output_type": "display_data"
    },
    {
     "data": {
      "text/plain": [
       "dataset_id                                  Animals\n",
       "title         Brain and Body Weights for 28 Species\n",
       "Name: 430, dtype: object"
      ]
     },
     "metadata": {},
     "output_type": "display_data"
    },
    {
     "data": {
      "text/plain": [
       "dataset_id                                 Boston\n",
       "title         Housing Values in Suburbs of Boston\n",
       "Name: 431, dtype: object"
      ]
     },
     "metadata": {},
     "output_type": "display_data"
    },
    {
     "data": {
      "text/plain": [
       "dataset_id                                          Cars93\n",
       "title         Data from 93 Cars on Sale in the USA in 1993\n",
       "Name: 432, dtype: object"
      ]
     },
     "metadata": {},
     "output_type": "display_data"
    },
    {
     "data": {
      "text/plain": [
       "dataset_id                                                Cushings\n",
       "title         Diagnostic Tests on Patients with Cushing's Syndrome\n",
       "Name: 433, dtype: object"
      ]
     },
     "metadata": {},
     "output_type": "display_data"
    },
    {
     "data": {
      "text/plain": [
       "dataset_id            DDT\n",
       "title         DDT in Kale\n",
       "Name: 434, dtype: object"
      ]
     },
     "metadata": {},
     "output_type": "display_data"
    },
    {
     "data": {
      "text/plain": [
       "dataset_id                             GAGurine\n",
       "title         Level of GAG in Urine of Children\n",
       "Name: 435, dtype: object"
      ]
     },
     "metadata": {},
     "output_type": "display_data"
    },
    {
     "data": {
      "text/plain": [
       "dataset_id                          Insurance\n",
       "title         Numbers of Car Insurance claims\n",
       "Name: 436, dtype: object"
      ]
     },
     "metadata": {},
     "output_type": "display_data"
    },
    {
     "data": {
      "text/plain": [
       "dataset_id                            Melanoma\n",
       "title         Survival from Malignant Melanoma\n",
       "Name: 437, dtype: object"
      ]
     },
     "metadata": {},
     "output_type": "display_data"
    },
    {
     "data": {
      "text/plain": [
       "dataset_id                                                  OME\n",
       "title         Tests of Auditory Perception in Children with OME\n",
       "Name: 438, dtype: object"
      ]
     },
     "metadata": {},
     "output_type": "display_data"
    },
    {
     "data": {
      "text/plain": [
       "dataset_id                          Pima.te\n",
       "title         Diabetes in Pima Indian Women\n",
       "Name: 439, dtype: object"
      ]
     },
     "metadata": {},
     "output_type": "display_data"
    },
    {
     "data": {
      "text/plain": [
       "dataset_id                          Pima.tr\n",
       "title         Diabetes in Pima Indian Women\n",
       "Name: 440, dtype: object"
      ]
     },
     "metadata": {},
     "output_type": "display_data"
    },
    {
     "data": {
      "text/plain": [
       "dataset_id                         Pima.tr2\n",
       "title         Diabetes in Pima Indian Women\n",
       "Name: 441, dtype: object"
      ]
     },
     "metadata": {},
     "output_type": "display_data"
    },
    {
     "data": {
      "text/plain": [
       "dataset_id                       Rabbit\n",
       "title         Blood Pressure in Rabbits\n",
       "Name: 442, dtype: object"
      ]
     },
     "metadata": {},
     "output_type": "display_data"
    },
    {
     "data": {
      "text/plain": [
       "dataset_id                                Rubber\n",
       "title         Accelerated Testing of Tyre Rubber\n",
       "Name: 443, dtype: object"
      ]
     },
     "metadata": {},
     "output_type": "display_data"
    },
    {
     "data": {
      "text/plain": [
       "dataset_id                                    SP500\n",
       "title         Returns of the Standard and Poors 500\n",
       "Name: 444, dtype: object"
      ]
     },
     "metadata": {},
     "output_type": "display_data"
    },
    {
     "data": {
      "text/plain": [
       "dataset_id                                           Sitka\n",
       "title         Growth Curves for Sitka Spruce Trees in 1988\n",
       "Name: 445, dtype: object"
      ]
     },
     "metadata": {},
     "output_type": "display_data"
    },
    {
     "data": {
      "text/plain": [
       "dataset_id                                         Sitka89\n",
       "title         Growth Curves for Sitka Spruce Trees in 1989\n",
       "Name: 446, dtype: object"
      ]
     },
     "metadata": {},
     "output_type": "display_data"
    },
    {
     "data": {
      "text/plain": [
       "dataset_id                                      Skye\n",
       "title         AFM Compositions of Aphyric Skye Lavas\n",
       "Name: 447, dtype: object"
      ]
     },
     "metadata": {},
     "output_type": "display_data"
    },
    {
     "data": {
      "text/plain": [
       "dataset_id                                        Traffic\n",
       "title         Effect of Swedish Speed Limits on Accidents\n",
       "Name: 448, dtype: object"
      ]
     },
     "metadata": {},
     "output_type": "display_data"
    },
    {
     "data": {
      "text/plain": [
       "dataset_id                                               UScereal\n",
       "title         Nutritional and Marketing Information on US Cereals\n",
       "Name: 449, dtype: object"
      ]
     },
     "metadata": {},
     "output_type": "display_data"
    },
    {
     "data": {
      "text/plain": [
       "dataset_id                                            UScrime\n",
       "title         The Effect of Punishment Regimes on Crime Rates\n",
       "Name: 450, dtype: object"
      ]
     },
     "metadata": {},
     "output_type": "display_data"
    },
    {
     "data": {
      "text/plain": [
       "dataset_id                                            VA\n",
       "title         Veteran's Administration Lung Cancer Trial\n",
       "Name: 451, dtype: object"
      ]
     },
     "metadata": {},
     "output_type": "display_data"
    },
    {
     "data": {
      "text/plain": [
       "dataset_id                               abbey\n",
       "title         Determinations of Nickel Content\n",
       "Name: 452, dtype: object"
      ]
     },
     "metadata": {},
     "output_type": "display_data"
    },
    {
     "data": {
      "text/plain": [
       "dataset_id                                accdeaths\n",
       "title         Accidental Deaths in the US 1973-1978\n",
       "Name: 453, dtype: object"
      ]
     },
     "metadata": {},
     "output_type": "display_data"
    },
    {
     "data": {
      "text/plain": [
       "dataset_id                          anorexia\n",
       "title         Anorexia Data on Weight Change\n",
       "Name: 454, dtype: object"
      ]
     },
     "metadata": {},
     "output_type": "display_data"
    },
    {
     "data": {
      "text/plain": [
       "dataset_id                                      bacteria\n",
       "title         Presence of Bacteria after Drug Treatments\n",
       "Name: 455, dtype: object"
      ]
     },
     "metadata": {},
     "output_type": "display_data"
    },
    {
     "data": {
      "text/plain": [
       "dataset_id                                  beav1\n",
       "title         Body Temperature Series of Beaver 1\n",
       "Name: 456, dtype: object"
      ]
     },
     "metadata": {},
     "output_type": "display_data"
    },
    {
     "data": {
      "text/plain": [
       "dataset_id                                  beav2\n",
       "title         Body Temperature Series of Beaver 2\n",
       "Name: 457, dtype: object"
      ]
     },
     "metadata": {},
     "output_type": "display_data"
    },
    {
     "data": {
      "text/plain": [
       "dataset_id                                   biopsy\n",
       "title         Biopsy Data on Breast Cancer Patients\n",
       "Name: 458, dtype: object"
      ]
     },
     "metadata": {},
     "output_type": "display_data"
    },
    {
     "data": {
      "text/plain": [
       "dataset_id                                                 birthwt\n",
       "title         Risk Factors Associated with Low Infant Birth Weight\n",
       "Name: 459, dtype: object"
      ]
     },
     "metadata": {},
     "output_type": "display_data"
    },
    {
     "data": {
      "text/plain": [
       "dataset_id                           cabbages\n",
       "title         Data from a cabbage field trial\n",
       "Name: 460, dtype: object"
      ]
     },
     "metadata": {},
     "output_type": "display_data"
    },
    {
     "data": {
      "text/plain": [
       "dataset_id                                              caith\n",
       "title         Colours of Eyes and Hair of People in Caithness\n",
       "Name: 461, dtype: object"
      ]
     },
     "metadata": {},
     "output_type": "display_data"
    },
    {
     "data": {
      "text/plain": [
       "dataset_id                                  cats\n",
       "title         Anatomical Data from Domestic Cats\n",
       "Name: 462, dtype: object"
      ]
     },
     "metadata": {},
     "output_type": "display_data"
    },
    {
     "data": {
      "text/plain": [
       "dataset_id                             cement\n",
       "title         Heat Evolved by Setting Cements\n",
       "Name: 463, dtype: object"
      ]
     },
     "metadata": {},
     "output_type": "display_data"
    },
    {
     "data": {
      "text/plain": [
       "dataset_id                         chem\n",
       "title         Copper in Wholemeal Flour\n",
       "Name: 464, dtype: object"
      ]
     },
     "metadata": {},
     "output_type": "display_data"
    },
    {
     "data": {
      "text/plain": [
       "dataset_id                                          coop\n",
       "title         Co-operative Trial in Analytical Chemistry\n",
       "Name: 465, dtype: object"
      ]
     },
     "metadata": {},
     "output_type": "display_data"
    },
    {
     "data": {
      "text/plain": [
       "dataset_id                            cpus\n",
       "title         Performance of Computer CPUs\n",
       "Name: 466, dtype: object"
      ]
     },
     "metadata": {},
     "output_type": "display_data"
    },
    {
     "data": {
      "text/plain": [
       "dataset_id                                               crabs\n",
       "title         Morphological Measurements on Leptograpsus Crabs\n",
       "Name: 467, dtype: object"
      ]
     },
     "metadata": {},
     "output_type": "display_data"
    },
    {
     "data": {
      "text/plain": [
       "dataset_id                                         deaths\n",
       "title         Monthly Deaths from Lung Diseases in the UK\n",
       "Name: 468, dtype: object"
      ]
     },
     "metadata": {},
     "output_type": "display_data"
    },
    {
     "data": {
      "text/plain": [
       "dataset_id                                           drivers\n",
       "title         Deaths of Car Drivers in Great Britain 1969-84\n",
       "Name: 469, dtype: object"
      ]
     },
     "metadata": {},
     "output_type": "display_data"
    },
    {
     "data": {
      "text/plain": [
       "dataset_id                             eagles\n",
       "title         Foraging Ecology of Bald Eagles\n",
       "Name: 470, dtype: object"
      ]
     },
     "metadata": {},
     "output_type": "display_data"
    },
    {
     "data": {
      "text/plain": [
       "dataset_id                             epil\n",
       "title         Seizure Counts for Epileptics\n",
       "Name: 471, dtype: object"
      ]
     },
     "metadata": {},
     "output_type": "display_data"
    },
    {
     "data": {
      "text/plain": [
       "dataset_id                                    farms\n",
       "title         Ecological Factors in Farm Management\n",
       "Name: 472, dtype: object"
      ]
     },
     "metadata": {},
     "output_type": "display_data"
    },
    {
     "data": {
      "text/plain": [
       "dataset_id                                         fgl\n",
       "title         Measurements of Forensic Glass Fragments\n",
       "Name: 473, dtype: object"
      ]
     },
     "metadata": {},
     "output_type": "display_data"
    },
    {
     "data": {
      "text/plain": [
       "dataset_id                                        forbes\n",
       "title         Forbes' Data on Boiling Points in the Alps\n",
       "Name: 474, dtype: object"
      ]
     },
     "metadata": {},
     "output_type": "display_data"
    },
    {
     "data": {
      "text/plain": [
       "dataset_id                      galaxies\n",
       "title         Velocities for 82 Galaxies\n",
       "Name: 475, dtype: object"
      ]
     },
     "metadata": {},
     "output_type": "display_data"
    },
    {
     "data": {
      "text/plain": [
       "dataset_id                                    gehan\n",
       "title         Remission Times of Leukaemia Patients\n",
       "Name: 476, dtype: object"
      ]
     },
     "metadata": {},
     "output_type": "display_data"
    },
    {
     "data": {
      "text/plain": [
       "dataset_id             genotype\n",
       "title         Rat Genotype Data\n",
       "Name: 477, dtype: object"
      ]
     },
     "metadata": {},
     "output_type": "display_data"
    },
    {
     "data": {
      "text/plain": [
       "dataset_id                      geyser\n",
       "title         Old Faithful Geyser Data\n",
       "Name: 478, dtype: object"
      ]
     },
     "metadata": {},
     "output_type": "display_data"
    },
    {
     "data": {
      "text/plain": [
       "dataset_id                                      gilgais\n",
       "title         Line Transect of Soil in Gilgai Territory\n",
       "Name: 479, dtype: object"
      ]
     },
     "metadata": {},
     "output_type": "display_data"
    },
    {
     "data": {
      "text/plain": [
       "dataset_id                                  hills\n",
       "title         Record Times in Scottish Hill Races\n",
       "Name: 480, dtype: object"
      ]
     },
     "metadata": {},
     "output_type": "display_data"
    },
    {
     "data": {
      "text/plain": [
       "dataset_id                                                        housing\n",
       "title         Frequency Table from a Copenhagen Housing Conditions Survey\n",
       "Name: 481, dtype: object"
      ]
     },
     "metadata": {},
     "output_type": "display_data"
    },
    {
     "data": {
      "text/plain": [
       "dataset_id                               immer\n",
       "title         Yields from a Barley Field Trial\n",
       "Name: 482, dtype: object"
      ]
     },
     "metadata": {},
     "output_type": "display_data"
    },
    {
     "data": {
      "text/plain": [
       "dataset_id                                                            leuk\n",
       "title         Survival Times and White Blood Counts for Leukaemia Patients\n",
       "Name: 483, dtype: object"
      ]
     },
     "metadata": {},
     "output_type": "display_data"
    },
    {
     "data": {
      "text/plain": [
       "dataset_id                                                  mammals\n",
       "title         Brain and Body Weights for 62 Species of Land Mammals\n",
       "Name: 484, dtype: object"
      ]
     },
     "metadata": {},
     "output_type": "display_data"
    },
    {
     "data": {
      "text/plain": [
       "dataset_id                                       mcycle\n",
       "title         Data from a Simulated Motorcycle Accident\n",
       "Name: 485, dtype: object"
      ]
     },
     "metadata": {},
     "output_type": "display_data"
    },
    {
     "data": {
      "text/plain": [
       "dataset_id                     menarche\n",
       "title         Age of Menarche in Warsaw\n",
       "Name: 486, dtype: object"
      ]
     },
     "metadata": {},
     "output_type": "display_data"
    },
    {
     "data": {
      "text/plain": [
       "dataset_id                          michelson\n",
       "title         Michelson's Speed of Light Data\n",
       "Name: 487, dtype: object"
      ]
     },
     "metadata": {},
     "output_type": "display_data"
    },
    {
     "data": {
      "text/plain": [
       "dataset_id                                     minn38\n",
       "title         Minnesota High School Graduates of 1938\n",
       "Name: 488, dtype: object"
      ]
     },
     "metadata": {},
     "output_type": "display_data"
    },
    {
     "data": {
      "text/plain": [
       "dataset_id                                    motors\n",
       "title         Accelerated Life Testing of Motorettes\n",
       "Name: 489, dtype: object"
      ]
     },
     "metadata": {},
     "output_type": "display_data"
    },
    {
     "data": {
      "text/plain": [
       "dataset_id                                                            muscle\n",
       "title         Effect of Calcium Chloride on Muscle Contraction in Rat Hearts\n",
       "Name: 490, dtype: object"
      ]
     },
     "metadata": {},
     "output_type": "display_data"
    },
    {
     "data": {
      "text/plain": [
       "dataset_id                                                newcomb\n",
       "title         Newcomb's Measurements of the Passage Time of Light\n",
       "Name: 491, dtype: object"
      ]
     },
     "metadata": {},
     "output_type": "display_data"
    },
    {
     "data": {
      "text/plain": [
       "dataset_id                                 nlschools\n",
       "title         Eighth-Grade Pupils in the Netherlands\n",
       "Name: 492, dtype: object"
      ]
     },
     "metadata": {},
     "output_type": "display_data"
    },
    {
     "data": {
      "text/plain": [
       "dataset_id                                       npk\n",
       "title         Classical N, P, K Factorial Experiment\n",
       "Name: 493, dtype: object"
      ]
     },
     "metadata": {},
     "output_type": "display_data"
    },
    {
     "data": {
      "text/plain": [
       "dataset_id                                     npr1\n",
       "title         US Naval Petroleum Reserve No. 1 data\n",
       "Name: 494, dtype: object"
      ]
     },
     "metadata": {},
     "output_type": "display_data"
    },
    {
     "data": {
      "text/plain": [
       "dataset_id                             oats\n",
       "title         Data from an Oats Field Trial\n",
       "Name: 495, dtype: object"
      ]
     },
     "metadata": {},
     "output_type": "display_data"
    },
    {
     "data": {
      "text/plain": [
       "dataset_id                          painters\n",
       "title         The Painter's Data of de Piles\n",
       "Name: 496, dtype: object"
      ]
     },
     "metadata": {},
     "output_type": "display_data"
    },
    {
     "data": {
      "text/plain": [
       "dataset_id                                 petrol\n",
       "title         N. L. Prater's Petrol Refinery Data\n",
       "Name: 497, dtype: object"
      ]
     },
     "metadata": {},
     "output_type": "display_data"
    },
    {
     "data": {
      "text/plain": [
       "dataset_id                                               quine\n",
       "title         Absenteeism from School in Rural New South Wales\n",
       "Name: 498, dtype: object"
      ]
     },
     "metadata": {},
     "output_type": "display_data"
    },
    {
     "data": {
      "text/plain": [
       "dataset_id                                 road\n",
       "title         Road Accident Deaths in US States\n",
       "Name: 499, dtype: object"
      ]
     },
     "metadata": {},
     "output_type": "display_data"
    },
    {
     "data": {
      "text/plain": [
       "dataset_id                                 rotifer\n",
       "title         Numbers of Rotifers by Fluid Density\n",
       "Name: 500, dtype: object"
      ]
     },
     "metadata": {},
     "output_type": "display_data"
    },
    {
     "data": {
      "text/plain": [
       "dataset_id                ships\n",
       "title         Ships Damage Data\n",
       "Name: 501, dtype: object"
      ]
     },
     "metadata": {},
     "output_type": "display_data"
    },
    {
     "data": {
      "text/plain": [
       "dataset_id                                     shrimp\n",
       "title         Percentage of Shrimp in Shrimp Cocktail\n",
       "Name: 502, dtype: object"
      ]
     },
     "metadata": {},
     "output_type": "display_data"
    },
    {
     "data": {
      "text/plain": [
       "dataset_id                             shuttle\n",
       "title         Space Shuttle Autolander Problem\n",
       "Name: 503, dtype: object"
      ]
     },
     "metadata": {},
     "output_type": "display_data"
    },
    {
     "data": {
      "text/plain": [
       "dataset_id                  snails\n",
       "title         Snail Mortality Data\n",
       "Name: 504, dtype: object"
      ]
     },
     "metadata": {},
     "output_type": "display_data"
    },
    {
     "data": {
      "text/plain": [
       "dataset_id                                steam\n",
       "title         The Saturated Steam Pressure Data\n",
       "Name: 505, dtype: object"
      ]
     },
     "metadata": {},
     "output_type": "display_data"
    },
    {
     "data": {
      "text/plain": [
       "dataset_id                        stormer\n",
       "title         The Stormer Viscometer Data\n",
       "Name: 506, dtype: object"
      ]
     },
     "metadata": {},
     "output_type": "display_data"
    },
    {
     "data": {
      "text/plain": [
       "dataset_id                 survey\n",
       "title         Student Survey Data\n",
       "Name: 507, dtype: object"
      ]
     },
     "metadata": {},
     "output_type": "display_data"
    },
    {
     "data": {
      "text/plain": [
       "dataset_id                            synth.te\n",
       "title         Synthetic Classification Problem\n",
       "Name: 508, dtype: object"
      ]
     },
     "metadata": {},
     "output_type": "display_data"
    },
    {
     "data": {
      "text/plain": [
       "dataset_id                            synth.tr\n",
       "title         Synthetic Classification Problem\n",
       "Name: 509, dtype: object"
      ]
     },
     "metadata": {},
     "output_type": "display_data"
    },
    {
     "data": {
      "text/plain": [
       "dataset_id                        topo\n",
       "title         Spatial Topographic Data\n",
       "Name: 510, dtype: object"
      ]
     },
     "metadata": {},
     "output_type": "display_data"
    },
    {
     "data": {
      "text/plain": [
       "dataset_id                                          waders\n",
       "title         Counts of Waders at 15 Sites in South Africa\n",
       "Name: 511, dtype: object"
      ]
     },
     "metadata": {},
     "output_type": "display_data"
    },
    {
     "data": {
      "text/plain": [
       "dataset_id                             whiteside\n",
       "title         House Insulation: Whiteside's Data\n",
       "Name: 512, dtype: object"
      ]
     },
     "metadata": {},
     "output_type": "display_data"
    },
    {
     "data": {
      "text/plain": [
       "dataset_id                                    wtloss\n",
       "title         Weight Loss Data from an Obese Patient\n",
       "Name: 513, dtype: object"
      ]
     },
     "metadata": {},
     "output_type": "display_data"
    },
    {
     "data": {
      "text/plain": [
       "dataset_id                    Cigar\n",
       "title         Cigarette Consumption\n",
       "Name: 514, dtype: object"
      ]
     },
     "metadata": {},
     "output_type": "display_data"
    },
    {
     "data": {
      "text/plain": [
       "dataset_id                      Crime\n",
       "title         Crime in North Carolina\n",
       "Name: 515, dtype: object"
      ]
     },
     "metadata": {},
     "output_type": "display_data"
    },
    {
     "data": {
      "text/plain": [
       "dataset_id                                        EmplUK\n",
       "title         Employment and Wages in the United Kingdom\n",
       "Name: 516, dtype: object"
      ]
     },
     "metadata": {},
     "output_type": "display_data"
    },
    {
     "data": {
      "text/plain": [
       "dataset_id                Gasoline\n",
       "title         Gasoline Consumption\n",
       "Name: 517, dtype: object"
      ]
     },
     "metadata": {},
     "output_type": "display_data"
    },
    {
     "data": {
      "text/plain": [
       "dataset_id                      Grunfeld\n",
       "title         Grunfeld's Investment Data\n",
       "Name: 518, dtype: object"
      ]
     },
     "metadata": {},
     "output_type": "display_data"
    },
    {
     "data": {
      "text/plain": [
       "dataset_id                                               Hedonic\n",
       "title         Hedonic Prices of Census Tracts in the Boston Area\n",
       "Name: 519, dtype: object"
      ]
     },
     "metadata": {},
     "output_type": "display_data"
    },
    {
     "data": {
      "text/plain": [
       "dataset_id               LaborSupply\n",
       "title         Wages and Hours Worked\n",
       "Name: 520, dtype: object"
      ]
     },
     "metadata": {},
     "output_type": "display_data"
    },
    {
     "data": {
      "text/plain": [
       "dataset_id                                 Males\n",
       "title         Wages and Education of Young Males\n",
       "Name: 521, dtype: object"
      ]
     },
     "metadata": {},
     "output_type": "display_data"
    },
    {
     "data": {
      "text/plain": [
       "dataset_id                  Produc\n",
       "title         US States Production\n",
       "Name: 522, dtype: object"
      ]
     },
     "metadata": {},
     "output_type": "display_data"
    },
    {
     "data": {
      "text/plain": [
       "dataset_id                           Snmesp\n",
       "title         Employment and Wages in Spain\n",
       "Name: 523, dtype: object"
      ]
     },
     "metadata": {},
     "output_type": "display_data"
    },
    {
     "data": {
      "text/plain": [
       "dataset_id                        SumHes\n",
       "title         The Penn World Table, v. 5\n",
       "Name: 524, dtype: object"
      ]
     },
     "metadata": {},
     "output_type": "display_data"
    },
    {
     "data": {
      "text/plain": [
       "dataset_id                             Wages\n",
       "title         Panel Data of Individual Wages\n",
       "Name: 525, dtype: object"
      ]
     },
     "metadata": {},
     "output_type": "display_data"
    },
    {
     "data": {
      "text/plain": [
       "dataset_id                                                        baseball\n",
       "title         Yearly batting records for all major league baseball players\n",
       "Name: 526, dtype: object"
      ]
     },
     "metadata": {},
     "output_type": "display_data"
    },
    {
     "data": {
      "text/plain": [
       "dataset_id                        AustralianElectionPolling\n",
       "title         Political opinion polls in Australia, 2004-07\n",
       "Name: 527, dtype: object"
      ]
     },
     "metadata": {},
     "output_type": "display_data"
    },
    {
     "data": {
      "text/plain": [
       "dataset_id                                            AustralianElections\n",
       "title         elections to Australian House of Representatives, 1949-2007\n",
       "Name: 528, dtype: object"
      ]
     },
     "metadata": {},
     "output_type": "display_data"
    },
    {
     "data": {
      "text/plain": [
       "dataset_id                                                    EfronMorris\n",
       "title         Batting Averages for 18 major league baseball players, 1970\n",
       "Name: 529, dtype: object"
      ]
     },
     "metadata": {},
     "output_type": "display_data"
    },
    {
     "data": {
      "text/plain": [
       "dataset_id                                          RockTheVote\n",
       "title         Voter turnout experiment, using Rock The Vote ads\n",
       "Name: 530, dtype: object"
      ]
     },
     "metadata": {},
     "output_type": "display_data"
    },
    {
     "data": {
      "text/plain": [
       "dataset_id                         UKHouseOfCommons\n",
       "title         1992 United Kingdom electoral returns\n",
       "Name: 531, dtype: object"
      ]
     },
     "metadata": {},
     "output_type": "display_data"
    },
    {
     "data": {
      "text/plain": [
       "dataset_id                                                           absentee\n",
       "title         Absentee and Machine Ballots in Pennsylvania State Senate Races\n",
       "Name: 532, dtype: object"
      ]
     },
     "metadata": {},
     "output_type": "display_data"
    },
    {
     "data": {
      "text/plain": [
       "dataset_id                                              admit\n",
       "title         Applications to a Political Science PhD Program\n",
       "Name: 533, dtype: object"
      ]
     },
     "metadata": {},
     "output_type": "display_data"
    },
    {
     "data": {
      "text/plain": [
       "dataset_id                                                               bioChemists\n",
       "title         article production by graduate students in biochemistry Ph.D. programs\n",
       "Name: 534, dtype: object"
      ]
     },
     "metadata": {},
     "output_type": "display_data"
    },
    {
     "data": {
      "text/plain": [
       "dataset_id                                        ca2006\n",
       "title         California Congressional Districts in 2006\n",
       "Name: 535, dtype: object"
      ]
     },
     "metadata": {},
     "output_type": "display_data"
    },
    {
     "data": {
      "text/plain": [
       "dataset_id                                                    iraqVote\n",
       "title         U.S. Senate vote on the use of force against Iraq, 2002.\n",
       "Name: 536, dtype: object"
      ]
     },
     "metadata": {},
     "output_type": "display_data"
    },
    {
     "data": {
      "text/plain": [
       "dataset_id                                                 politicalInformation\n",
       "title         Interviewer ratings of respondent levels of political information\n",
       "Name: 537, dtype: object"
      ]
     },
     "metadata": {},
     "output_type": "display_data"
    },
    {
     "data": {
      "text/plain": [
       "dataset_id                                presidentialElections\n",
       "title         elections for U.S. President, 1932-2012, by state\n",
       "Name: 538, dtype: object"
      ]
     },
     "metadata": {},
     "output_type": "display_data"
    },
    {
     "data": {
      "text/plain": [
       "dataset_id                         prussian\n",
       "title         Prussian army horse kick data\n",
       "Name: 539, dtype: object"
      ]
     },
     "metadata": {},
     "output_type": "display_data"
    },
    {
     "data": {
      "text/plain": [
       "dataset_id                                   unionDensity\n",
       "title         cross national rates of trade union density\n",
       "Name: 540, dtype: object"
      ]
     },
     "metadata": {},
     "output_type": "display_data"
    },
    {
     "data": {
      "text/plain": [
       "dataset_id                                                       vote92\n",
       "title         Reports of voting in the 1992 U.S. Presidential election.\n",
       "Name: 541, dtype: object"
      ]
     },
     "metadata": {},
     "output_type": "display_data"
    },
    {
     "data": {
      "text/plain": [
       "dataset_id                                    french_fries\n",
       "title         Sensory data from a french fries experiment.\n",
       "Name: 542, dtype: object"
      ]
     },
     "metadata": {},
     "output_type": "display_data"
    },
    {
     "data": {
      "text/plain": [
       "dataset_id                              smiths\n",
       "title         Demo data describing the Smiths.\n",
       "Name: 543, dtype: object"
      ]
     },
     "metadata": {},
     "output_type": "display_data"
    },
    {
     "data": {
      "text/plain": [
       "dataset_id            tips\n",
       "title         Tipping data\n",
       "Name: 544, dtype: object"
      ]
     },
     "metadata": {},
     "output_type": "display_data"
    },
    {
     "data": {
      "text/plain": [
       "dataset_id                                  car.test.frame\n",
       "title         Automobile Data from 'Consumer Reports' 1990\n",
       "Name: 545, dtype: object"
      ]
     },
     "metadata": {},
     "output_type": "display_data"
    },
    {
     "data": {
      "text/plain": [
       "dataset_id                                           car90\n",
       "title         Automobile Data from 'Consumer Reports' 1990\n",
       "Name: 546, dtype: object"
      ]
     },
     "metadata": {},
     "output_type": "display_data"
    },
    {
     "data": {
      "text/plain": [
       "dataset_id                                      cu.summary\n",
       "title         Automobile Data from 'Consumer Reports' 1990\n",
       "Name: 547, dtype: object"
      ]
     },
     "metadata": {},
     "output_type": "display_data"
    },
    {
     "data": {
      "text/plain": [
       "dataset_id                                                   kyphosis\n",
       "title         Data on Children who have had Corrective Spinal Surgery\n",
       "Name: 548, dtype: object"
      ]
     },
     "metadata": {},
     "output_type": "display_data"
    },
    {
     "data": {
      "text/plain": [
       "dataset_id                                               solder\n",
       "title         Soldering of Components on Printed-Circuit Boards\n",
       "Name: 549, dtype: object"
      ]
     },
     "metadata": {},
     "output_type": "display_data"
    },
    {
     "data": {
      "text/plain": [
       "dataset_id                     stagec\n",
       "title         Stage C Prostate Cancer\n",
       "Name: 550, dtype: object"
      ]
     },
     "metadata": {},
     "output_type": "display_data"
    },
    {
     "data": {
      "text/plain": [
       "dataset_id                         PublicSchools\n",
       "title         US Expenditures for Public Schools\n",
       "Name: 551, dtype: object"
      ]
     },
     "metadata": {},
     "output_type": "display_data"
    },
    {
     "data": {
      "text/plain": [
       "dataset_id                                                        Bollen\n",
       "title         Bollen's Data on Industrialization and Political Democracy\n",
       "Name: 552, dtype: object"
      ]
     },
     "metadata": {},
     "output_type": "display_data"
    },
    {
     "data": {
      "text/plain": [
       "dataset_id                                                        CNES\n",
       "title         Variables from the 1997 Canadian National Election Study\n",
       "Name: 553, dtype: object"
      ]
     },
     "metadata": {},
     "output_type": "display_data"
    },
    {
     "data": {
      "text/plain": [
       "dataset_id                                Klein\n",
       "title         Klein's Data on the U. S. Economy\n",
       "Name: 554, dtype: object"
      ]
     },
     "metadata": {},
     "output_type": "display_data"
    },
    {
     "data": {
      "text/plain": [
       "dataset_id                                         Kmenta\n",
       "title         Partly Artificial Data on the U. S. Economy\n",
       "Name: 555, dtype: object"
      ]
     },
     "metadata": {},
     "output_type": "display_data"
    },
    {
     "data": {
      "text/plain": [
       "dataset_id               Tests\n",
       "title         Six Mental Tests\n",
       "Name: 556, dtype: object"
      ]
     },
     "metadata": {},
     "output_type": "display_data"
    },
    {
     "data": {
      "text/plain": [
       "dataset_id                       bladder\n",
       "title         Bladder Cancer Recurrences\n",
       "Name: 557, dtype: object"
      ]
     },
     "metadata": {},
     "output_type": "display_data"
    },
    {
     "data": {
      "text/plain": [
       "dataset_id                    cancer\n",
       "title         NCCTG Lung Cancer Data\n",
       "Name: 558, dtype: object"
      ]
     },
     "metadata": {},
     "output_type": "display_data"
    },
    {
     "data": {
      "text/plain": [
       "dataset_id                                   cgd\n",
       "title         Chronic Granulotomous Disease data\n",
       "Name: 559, dtype: object"
      ]
     },
     "metadata": {},
     "output_type": "display_data"
    },
    {
     "data": {
      "text/plain": [
       "dataset_id                                      colon\n",
       "title         Chemotherapy for Stage B/C colon cancer\n",
       "Name: 560, dtype: object"
      ]
     },
     "metadata": {},
     "output_type": "display_data"
    },
    {
     "data": {
      "text/plain": [
       "dataset_id                                               flchain\n",
       "title         Assay of serum free light chain for 7874 subjects.\n",
       "Name: 561, dtype: object"
      ]
     },
     "metadata": {},
     "output_type": "display_data"
    },
    {
     "data": {
      "text/plain": [
       "dataset_id                             heart\n",
       "title         Stanford Heart Transplant data\n",
       "Name: 562, dtype: object"
      ]
     },
     "metadata": {},
     "output_type": "display_data"
    },
    {
     "data": {
      "text/plain": [
       "dataset_id                  kidney\n",
       "title         Kidney catheter data\n",
       "Name: 563, dtype: object"
      ]
     },
     "metadata": {},
     "output_type": "display_data"
    },
    {
     "data": {
      "text/plain": [
       "dataset_id                                    leukemia\n",
       "title         Acute Myelogenous Leukemia survival data\n",
       "Name: 564, dtype: object"
      ]
     },
     "metadata": {},
     "output_type": "display_data"
    },
    {
     "data": {
      "text/plain": [
       "dataset_id                                           logan\n",
       "title         Data from the 1972-78 GSS data used by Logan\n",
       "Name: 565, dtype: object"
      ]
     },
     "metadata": {},
     "output_type": "display_data"
    },
    {
     "data": {
      "text/plain": [
       "dataset_id                      lung\n",
       "title         NCCTG Lung Cancer Data\n",
       "Name: 566, dtype: object"
      ]
     },
     "metadata": {},
     "output_type": "display_data"
    },
    {
     "data": {
      "text/plain": [
       "dataset_id                          mgus\n",
       "title         Monoclonal gammapothy data\n",
       "Name: 567, dtype: object"
      ]
     },
     "metadata": {},
     "output_type": "display_data"
    },
    {
     "data": {
      "text/plain": [
       "dataset_id                                        nwtco\n",
       "title         Data from the National Wilm's Tumor Study\n",
       "Name: 568, dtype: object"
      ]
     },
     "metadata": {},
     "output_type": "display_data"
    },
    {
     "data": {
      "text/plain": [
       "dataset_id                         ovarian\n",
       "title         Ovarian Cancer Survival Data\n",
       "Name: 569, dtype: object"
      ]
     },
     "metadata": {},
     "output_type": "display_data"
    },
    {
     "data": {
      "text/plain": [
       "dataset_id                                           pbc\n",
       "title         Mayo Clinic Primary Biliary Cirrhosis Data\n",
       "Name: 570, dtype: object"
      ]
     },
     "metadata": {},
     "output_type": "display_data"
    },
    {
     "data": {
      "text/plain": [
       "dataset_id                                    rats\n",
       "title         Rat treatment data from Mantel et al\n",
       "Name: 571, dtype: object"
      ]
     },
     "metadata": {},
     "output_type": "display_data"
    },
    {
     "data": {
      "text/plain": [
       "dataset_id                              stanford2\n",
       "title         More Stanford Heart Transplant data\n",
       "Name: 572, dtype: object"
      ]
     },
     "metadata": {},
     "output_type": "display_data"
    },
    {
     "data": {
      "text/plain": [
       "dataset_id                 tobin\n",
       "title         Tobin's Tobit data\n",
       "Name: 573, dtype: object"
      ]
     },
     "metadata": {},
     "output_type": "display_data"
    },
    {
     "data": {
      "text/plain": [
       "dataset_id                                       veteran\n",
       "title         Veterans' Administration Lung Cancer study\n",
       "Name: 574, dtype: object"
      ]
     },
     "metadata": {},
     "output_type": "display_data"
    },
    {
     "data": {
      "text/plain": [
       "dataset_id                   Arthritis\n",
       "title         Arthritis Treatment Data\n",
       "Name: 575, dtype: object"
      ]
     },
     "metadata": {},
     "output_type": "display_data"
    },
    {
     "data": {
      "text/plain": [
       "dataset_id         Baseball\n",
       "title         Baseball Data\n",
       "Name: 576, dtype: object"
      ]
     },
     "metadata": {},
     "output_type": "display_data"
    },
    {
     "data": {
      "text/plain": [
       "dataset_id          BrokenMarriage\n",
       "title         Broken Marriage Data\n",
       "Name: 577, dtype: object"
      ]
     },
     "metadata": {},
     "output_type": "display_data"
    },
    {
     "data": {
      "text/plain": [
       "dataset_id                            Bundesliga\n",
       "title         Ergebnisse der Fussball-Bundesliga\n",
       "Name: 578, dtype: object"
      ]
     },
     "metadata": {},
     "output_type": "display_data"
    },
    {
     "data": {
      "text/plain": [
       "dataset_id                              Bundestag2005\n",
       "title         Votes in German Bundestag Election 2005\n",
       "Name: 579, dtype: object"
      ]
     },
     "metadata": {},
     "output_type": "display_data"
    },
    {
     "data": {
      "text/plain": [
       "dataset_id                      Butterfly\n",
       "title         Butterfly Species in Malaya\n",
       "Name: 580, dtype: object"
      ]
     },
     "metadata": {},
     "output_type": "display_data"
    },
    {
     "data": {
      "text/plain": [
       "dataset_id                                  CoalMiners\n",
       "title         Breathlessness and Wheeze in Coal Miners\n",
       "Name: 581, dtype: object"
      ]
     },
     "metadata": {},
     "output_type": "display_data"
    },
    {
     "data": {
      "text/plain": [
       "dataset_id                DanishWelfare\n",
       "title         Danish Welfare Study Data\n",
       "Name: 582, dtype: object"
      ]
     },
     "metadata": {},
     "output_type": "display_data"
    },
    {
     "data": {
      "text/plain": [
       "dataset_id           Employment\n",
       "title         Employment Status\n",
       "Name: 583, dtype: object"
      ]
     },
     "metadata": {},
     "output_type": "display_data"
    },
    {
     "data": {
      "text/plain": [
       "dataset_id                    Federalist\n",
       "title         'May' in Federalist Papers\n",
       "Name: 584, dtype: object"
      ]
     },
     "metadata": {},
     "output_type": "display_data"
    },
    {
     "data": {
      "text/plain": [
       "dataset_id         Hitters\n",
       "title         Hitters Data\n",
       "Name: 585, dtype: object"
      ]
     },
     "metadata": {},
     "output_type": "display_data"
    },
    {
     "data": {
      "text/plain": [
       "dataset_id              HorseKicks\n",
       "title         Death by Horse Kicks\n",
       "Name: 586, dtype: object"
      ]
     },
     "metadata": {},
     "output_type": "display_data"
    },
    {
     "data": {
      "text/plain": [
       "dataset_id         Hospital\n",
       "title         Hospital data\n",
       "Name: 587, dtype: object"
      ]
     },
     "metadata": {},
     "output_type": "display_data"
    },
    {
     "data": {
      "text/plain": [
       "dataset_id          JobSatisfaction\n",
       "title         Job Satisfaction Data\n",
       "Name: 588, dtype: object"
      ]
     },
     "metadata": {},
     "output_type": "display_data"
    },
    {
     "data": {
      "text/plain": [
       "dataset_id                    JointSports\n",
       "title         Opinions About Joint Sports\n",
       "Name: 589, dtype: object"
      ]
     },
     "metadata": {},
     "output_type": "display_data"
    },
    {
     "data": {
      "text/plain": [
       "dataset_id                   Lifeboats\n",
       "title         Lifeboats on the Titanic\n",
       "Name: 590, dtype: object"
      ]
     },
     "metadata": {},
     "output_type": "display_data"
    },
    {
     "data": {
      "text/plain": [
       "dataset_id                 NonResponse\n",
       "title         Non-Response Survey Data\n",
       "Name: 591, dtype: object"
      ]
     },
     "metadata": {},
     "output_type": "display_data"
    },
    {
     "data": {
      "text/plain": [
       "dataset_id          OvaryCancer\n",
       "title         Ovary Cancer Data\n",
       "Name: 592, dtype: object"
      ]
     },
     "metadata": {},
     "output_type": "display_data"
    },
    {
     "data": {
      "text/plain": [
       "dataset_id                         PreSex\n",
       "title         Pre-marital Sex and Divorce\n",
       "Name: 593, dtype: object"
      ]
     },
     "metadata": {},
     "output_type": "display_data"
    },
    {
     "data": {
      "text/plain": [
       "dataset_id                  Punishment\n",
       "title         Corporal Punishment Data\n",
       "Name: 594, dtype: object"
      ]
     },
     "metadata": {},
     "output_type": "display_data"
    },
    {
     "data": {
      "text/plain": [
       "dataset_id                      RepVict\n",
       "title         Repeat Victimization Data\n",
       "Name: 595, dtype: object"
      ]
     },
     "metadata": {},
     "output_type": "display_data"
    },
    {
     "data": {
      "text/plain": [
       "dataset_id                Saxony\n",
       "title         Families in Saxony\n",
       "Name: 596, dtype: object"
      ]
     },
     "metadata": {},
     "output_type": "display_data"
    },
    {
     "data": {
      "text/plain": [
       "dataset_id     SexualFun\n",
       "title         Sex is Fun\n",
       "Name: 597, dtype: object"
      ]
     },
     "metadata": {},
     "output_type": "display_data"
    },
    {
     "data": {
      "text/plain": [
       "dataset_id                     SpaceShuttle\n",
       "title         Space Shuttle O-ring Failures\n",
       "Name: 598, dtype: object"
      ]
     },
     "metadata": {},
     "output_type": "display_data"
    },
    {
     "data": {
      "text/plain": [
       "dataset_id                     Suicide\n",
       "title         Suicide Rates in Germany\n",
       "Name: 599, dtype: object"
      ]
     },
     "metadata": {},
     "output_type": "display_data"
    },
    {
     "data": {
      "text/plain": [
       "dataset_id                  Trucks\n",
       "title         Truck Accidents Data\n",
       "Name: 600, dtype: object"
      ]
     },
     "metadata": {},
     "output_type": "display_data"
    },
    {
     "data": {
      "text/plain": [
       "dataset_id            UKSoccer\n",
       "title         UK Soccer Scores\n",
       "Name: 601, dtype: object"
      ]
     },
     "metadata": {},
     "output_type": "display_data"
    },
    {
     "data": {
      "text/plain": [
       "dataset_id                            VisualAcuity\n",
       "title         Visual Acuity in Left and Right Eyes\n",
       "Name: 602, dtype: object"
      ]
     },
     "metadata": {},
     "output_type": "display_data"
    },
    {
     "data": {
      "text/plain": [
       "dataset_id                             VonBort\n",
       "title         Von Bortkiewicz Horse Kicks Data\n",
       "Name: 603, dtype: object"
      ]
     },
     "metadata": {},
     "output_type": "display_data"
    },
    {
     "data": {
      "text/plain": [
       "dataset_id            WeldonDice\n",
       "title         Weldon's Dice Data\n",
       "Name: 604, dtype: object"
      ]
     },
     "metadata": {},
     "output_type": "display_data"
    },
    {
     "data": {
      "text/plain": [
       "dataset_id         WomenQueue\n",
       "title         Women in Queues\n",
       "Name: 605, dtype: object"
      ]
     },
     "metadata": {},
     "output_type": "display_data"
    },
    {
     "data": {
      "text/plain": [
       "dataset_id                 MatchIt.url\n",
       "title         Table of links for Zelig\n",
       "Name: 606, dtype: object"
      ]
     },
     "metadata": {},
     "output_type": "display_data"
    },
    {
     "data": {
      "text/plain": [
       "dataset_id                                                    PErisk\n",
       "title         Political Economic Risk Data from 62 Countries in 1987\n",
       "Name: 607, dtype: object"
      ]
     },
     "metadata": {},
     "output_type": "display_data"
    },
    {
     "data": {
      "text/plain": [
       "dataset_id                      SupremeCourt\n",
       "title         U.S. Supreme Court Vote Matrix\n",
       "Name: 608, dtype: object"
      ]
     },
     "metadata": {},
     "output_type": "display_data"
    },
    {
     "data": {
      "text/plain": [
       "dataset_id                       Weimar\n",
       "title         1932 Weimar election data\n",
       "Name: 609, dtype: object"
      ]
     },
     "metadata": {},
     "output_type": "display_data"
    },
    {
     "data": {
      "text/plain": [
       "dataset_id                   Zelig.url\n",
       "title         Table of links for Zelig\n",
       "Name: 610, dtype: object"
      ]
     },
     "metadata": {},
     "output_type": "display_data"
    },
    {
     "data": {
      "text/plain": [
       "dataset_id                           approval\n",
       "title         U.S. Presidential Approval Data\n",
       "Name: 611, dtype: object"
      ]
     },
     "metadata": {},
     "output_type": "display_data"
    },
    {
     "data": {
      "text/plain": [
       "dataset_id                                      bivariate\n",
       "title         Sample data for bivariate probit regression\n",
       "Name: 612, dtype: object"
      ]
     },
     "metadata": {},
     "output_type": "display_data"
    },
    {
     "data": {
      "text/plain": [
       "dataset_id                                             coalition\n",
       "title         Coalition Dissolution in Parliamentary Democracies\n",
       "Name: 613, dtype: object"
      ]
     },
     "metadata": {},
     "output_type": "display_data"
    },
    {
     "data": {
      "text/plain": [
       "dataset_id                                                              coalition2\n",
       "title         Coalition Dissolution in Parliamentary Democracies, Modified Version\n",
       "Name: 614, dtype: object"
      ]
     },
     "metadata": {},
     "output_type": "display_data"
    },
    {
     "data": {
      "text/plain": [
       "dataset_id                                       eidat\n",
       "title         Simulation Data for Ecological Inference\n",
       "Name: 615, dtype: object"
      ]
     },
     "metadata": {},
     "output_type": "display_data"
    },
    {
     "data": {
      "text/plain": [
       "dataset_id                     free1\n",
       "title         Freedom of Speech Data\n",
       "Name: 616, dtype: object"
      ]
     },
     "metadata": {},
     "output_type": "display_data"
    },
    {
     "data": {
      "text/plain": [
       "dataset_id                     free2\n",
       "title         Freedom of Speech Data\n",
       "Name: 617, dtype: object"
      ]
     },
     "metadata": {},
     "output_type": "display_data"
    },
    {
     "data": {
      "text/plain": [
       "dataset_id                                                friendship\n",
       "title         Simulated Example of Schoolchildren Friendship Network\n",
       "Name: 618, dtype: object"
      ]
     },
     "metadata": {},
     "output_type": "display_data"
    },
    {
     "data": {
      "text/plain": [
       "dataset_id                                                                                     grunfeld\n",
       "title         Simulation Data for model Seemingly Unrelated Regression (sur) that corresponds to met...\n",
       "Name: 619, dtype: object"
      ]
     },
     "metadata": {},
     "output_type": "display_data"
    },
    {
     "data": {
      "text/plain": [
       "dataset_id                                hoff\n",
       "title         Social Security Expenditure Data\n",
       "Name: 620, dtype: object"
      ]
     },
     "metadata": {},
     "output_type": "display_data"
    },
    {
     "data": {
      "text/plain": [
       "dataset_id                                                                 homerun\n",
       "title         Sample Data on Home Runs Hit By Mark McGwire and Sammy Sosa in 1998.\n",
       "Name: 621, dtype: object"
      ]
     },
     "metadata": {},
     "output_type": "display_data"
    },
    {
     "data": {
      "text/plain": [
       "dataset_id                                             immi1\n",
       "title         Individual Preferences Over Immigration Policy\n",
       "Name: 622, dtype: object"
      ]
     },
     "metadata": {},
     "output_type": "display_data"
    },
    {
     "data": {
      "text/plain": [
       "dataset_id                                             immi2\n",
       "title         Individual Preferences Over Immigration Policy\n",
       "Name: 623, dtype: object"
      ]
     },
     "metadata": {},
     "output_type": "display_data"
    },
    {
     "data": {
      "text/plain": [
       "dataset_id                                             immi3\n",
       "title         Individual Preferences Over Immigration Policy\n",
       "Name: 624, dtype: object"
      ]
     },
     "metadata": {},
     "output_type": "display_data"
    },
    {
     "data": {
      "text/plain": [
       "dataset_id                                             immi4\n",
       "title         Individual Preferences Over Immigration Policy\n",
       "Name: 625, dtype: object"
      ]
     },
     "metadata": {},
     "output_type": "display_data"
    },
    {
     "data": {
      "text/plain": [
       "dataset_id                                             immi5\n",
       "title         Individual Preferences Over Immigration Policy\n",
       "Name: 626, dtype: object"
      ]
     },
     "metadata": {},
     "output_type": "display_data"
    },
    {
     "data": {
      "text/plain": [
       "dataset_id                                       immigration\n",
       "title         Individual Preferences Over Immigration Policy\n",
       "Name: 627, dtype: object"
      ]
     },
     "metadata": {},
     "output_type": "display_data"
    },
    {
     "data": {
      "text/plain": [
       "dataset_id                                                                                        klein\n",
       "title         Simulation Data for model Two-Stage Least Square (twosls) that corresponds to method 2...\n",
       "Name: 628, dtype: object"
      ]
     },
     "metadata": {},
     "output_type": "display_data"
    },
    {
     "data": {
      "text/plain": [
       "dataset_id                                                                                       kmenta\n",
       "title         Simulation Data for model Three-Stage Least Square (threesls) that corresponds to meth...\n",
       "Name: 629, dtype: object"
      ]
     },
     "metadata": {},
     "output_type": "display_data"
    },
    {
     "data": {
      "text/plain": [
       "dataset_id                 macro\n",
       "title         Macroeconomic Data\n",
       "Name: 630, dtype: object"
      ]
     },
     "metadata": {},
     "output_type": "display_data"
    },
    {
     "data": {
      "text/plain": [
       "dataset_id                                                    mexico\n",
       "title         Voting Data from the 1988 Mexican Presidental Election\n",
       "Name: 631, dtype: object"
      ]
     },
     "metadata": {},
     "output_type": "display_data"
    },
    {
     "data": {
      "text/plain": [
       "dataset_id                                mid\n",
       "title         Militarized Interstate Disputes\n",
       "Name: 632, dtype: object"
      ]
     },
     "metadata": {},
     "output_type": "display_data"
    },
    {
     "data": {
      "text/plain": [
       "dataset_id                                   newpainters\n",
       "title         The Discretized Painter's Data of de Piles\n",
       "Name: 633, dtype: object"
      ]
     },
     "metadata": {},
     "output_type": "display_data"
    },
    {
     "data": {
      "text/plain": [
       "dataset_id                           sanction\n",
       "title         Multilateral Economic Sanctions\n",
       "Name: 634, dtype: object"
      ]
     },
     "metadata": {},
     "output_type": "display_data"
    },
    {
     "data": {
      "text/plain": [
       "dataset_id                                      sna.ex\n",
       "title         Simulated Example of Social Network Data\n",
       "Name: 635, dtype: object"
      ]
     },
     "metadata": {},
     "output_type": "display_data"
    },
    {
     "data": {
      "text/plain": [
       "dataset_id                                                       swiss\n",
       "title         Swiss Fertility and Socioeconomic Indicators (1888) Data\n",
       "Name: 636, dtype: object"
      ]
     },
     "metadata": {},
     "output_type": "display_data"
    },
    {
     "data": {
      "text/plain": [
       "dataset_id                 tobin\n",
       "title         Tobin's Tobit Data\n",
       "Name: 637, dtype: object"
      ]
     },
     "metadata": {},
     "output_type": "display_data"
    },
    {
     "data": {
      "text/plain": [
       "dataset_id                                               turnout\n",
       "title         Turnout Data Set from the National Election Survey\n",
       "Name: 638, dtype: object"
      ]
     },
     "metadata": {},
     "output_type": "display_data"
    },
    {
     "data": {
      "text/plain": [
       "dataset_id                                                                     voteincome\n",
       "title         Sample Turnout and Demographic Data from the 2000 Current Population Survey\n",
       "Name: 639, dtype: object"
      ]
     },
     "metadata": {},
     "output_type": "display_data"
    },
    {
     "data": {
      "text/plain": [
       "dataset_id                 BCG\n",
       "title         BCG Vaccine Data\n",
       "Name: 640, dtype: object"
      ]
     },
     "metadata": {},
     "output_type": "display_data"
    },
    {
     "data": {
      "text/plain": [
       "dataset_id                  BtheB\n",
       "title         Beat the Blues Data\n",
       "Name: 641, dtype: object"
      ]
     },
     "metadata": {},
     "output_type": "display_data"
    },
    {
     "data": {
      "text/plain": [
       "dataset_id                       CYGOB1\n",
       "title         CYG OB1 Star Cluster Data\n",
       "Name: 642, dtype: object"
      ]
     },
     "metadata": {},
     "output_type": "display_data"
    },
    {
     "data": {
      "text/plain": [
       "dataset_id                                                              Forbes2000\n",
       "title         The Forbes 2000 Ranking of the World's Biggest Companies (Year 2004)\n",
       "Name: 643, dtype: object"
      ]
     },
     "metadata": {},
     "output_type": "display_data"
    },
    {
     "data": {
      "text/plain": [
       "dataset_id                             GHQ\n",
       "title         General Health Questionnaire\n",
       "Name: 644, dtype: object"
      ]
     },
     "metadata": {},
     "output_type": "display_data"
    },
    {
     "data": {
      "text/plain": [
       "dataset_id                                    Lanza\n",
       "title         Prevention of Gastointestinal Damages\n",
       "Name: 645, dtype: object"
      ]
     },
     "metadata": {},
     "output_type": "display_data"
    },
    {
     "data": {
      "text/plain": [
       "dataset_id                         agefat\n",
       "title         Total Body Composision Data\n",
       "Name: 646, dtype: object"
      ]
     },
     "metadata": {},
     "output_type": "display_data"
    },
    {
     "data": {
      "text/plain": [
       "dataset_id         aspirin\n",
       "title         Aspirin Data\n",
       "Name: 647, dtype: object"
      ]
     },
     "metadata": {},
     "output_type": "display_data"
    },
    {
     "data": {
      "text/plain": [
       "dataset_id               birthdeathrates\n",
       "title         Birth and Death Rates Data\n",
       "Name: 648, dtype: object"
      ]
     },
     "metadata": {},
     "output_type": "display_data"
    },
    {
     "data": {
      "text/plain": [
       "dataset_id          bladdercancer\n",
       "title         Bladder Cancer Data\n",
       "Name: 649, dtype: object"
      ]
     },
     "metadata": {},
     "output_type": "display_data"
    },
    {
     "data": {
      "text/plain": [
       "dataset_id                clouds\n",
       "title         Cloud Seeding Data\n",
       "Name: 650, dtype: object"
      ]
     },
     "metadata": {},
     "output_type": "display_data"
    },
    {
     "data": {
      "text/plain": [
       "dataset_id         epilepsy\n",
       "title         Epilepsy Data\n",
       "Name: 651, dtype: object"
      ]
     },
     "metadata": {},
     "output_type": "display_data"
    },
    {
     "data": {
      "text/plain": [
       "dataset_id                       foster\n",
       "title         Foster Feeding Experiment\n",
       "Name: 652, dtype: object"
      ]
     },
     "metadata": {},
     "output_type": "display_data"
    },
    {
     "data": {
      "text/plain": [
       "dataset_id                       heptathlon\n",
       "title         Olympic Heptathlon Seoul 1988\n",
       "Name: 653, dtype: object"
      ]
     },
     "metadata": {},
     "output_type": "display_data"
    },
    {
     "data": {
      "text/plain": [
       "dataset_id                                                   mastectomy\n",
       "title         Survival Times after Mastectomy of Breast Cancer Patients\n",
       "Name: 654, dtype: object"
      ]
     },
     "metadata": {},
     "output_type": "display_data"
    },
    {
     "data": {
      "text/plain": [
       "dataset_id                                       meteo\n",
       "title         Meteorological Measurements for 11 Years\n",
       "Name: 655, dtype: object"
      ]
     },
     "metadata": {},
     "output_type": "display_data"
    },
    {
     "data": {
      "text/plain": [
       "dataset_id                    orallesions\n",
       "title         Oral Lesions in Rural India\n",
       "Name: 656, dtype: object"
      ]
     },
     "metadata": {},
     "output_type": "display_data"
    },
    {
     "data": {
      "text/plain": [
       "dataset_id               phosphate\n",
       "title         Phosphate Level Data\n",
       "Name: 657, dtype: object"
      ]
     },
     "metadata": {},
     "output_type": "display_data"
    },
    {
     "data": {
      "text/plain": [
       "dataset_id              pistonrings\n",
       "title         Piston Rings Failures\n",
       "Name: 658, dtype: object"
      ]
     },
     "metadata": {},
     "output_type": "display_data"
    },
    {
     "data": {
      "text/plain": [
       "dataset_id            planets\n",
       "title         Exoplanets Data\n",
       "Name: 659, dtype: object"
      ]
     },
     "metadata": {},
     "output_type": "display_data"
    },
    {
     "data": {
      "text/plain": [
       "dataset_id                  plasma\n",
       "title         Blood Screening Data\n",
       "Name: 660, dtype: object"
      ]
     },
     "metadata": {},
     "output_type": "display_data"
    },
    {
     "data": {
      "text/plain": [
       "dataset_id                             polyps\n",
       "title         Familial Andenomatous Polyposis\n",
       "Name: 661, dtype: object"
      ]
     },
     "metadata": {},
     "output_type": "display_data"
    },
    {
     "data": {
      "text/plain": [
       "dataset_id                            polyps3\n",
       "title         Familial Andenomatous Polyposis\n",
       "Name: 662, dtype: object"
      ]
     },
     "metadata": {},
     "output_type": "display_data"
    },
    {
     "data": {
      "text/plain": [
       "dataset_id                        pottery\n",
       "title         Romano-British Pottery Data\n",
       "Name: 663, dtype: object"
      ]
     },
     "metadata": {},
     "output_type": "display_data"
    },
    {
     "data": {
      "text/plain": [
       "dataset_id                       rearrests\n",
       "title         Rearrests of Juvenile Felons\n",
       "Name: 664, dtype: object"
      ]
     },
     "metadata": {},
     "output_type": "display_data"
    },
    {
     "data": {
      "text/plain": [
       "dataset_id                 respiratory\n",
       "title         Respiratory Illness Data\n",
       "Name: 665, dtype: object"
      ]
     },
     "metadata": {},
     "output_type": "display_data"
    },
    {
     "data": {
      "text/plain": [
       "dataset_id                                   roomwidth\n",
       "title         Students Estimates of Lecture Room Width\n",
       "Name: 666, dtype: object"
      ]
     },
     "metadata": {},
     "output_type": "display_data"
    },
    {
     "data": {
      "text/plain": [
       "dataset_id                         schizophrenia\n",
       "title         Age of Onset of Schizophrenia Data\n",
       "Name: 667, dtype: object"
      ]
     },
     "metadata": {},
     "output_type": "display_data"
    },
    {
     "data": {
      "text/plain": [
       "dataset_id        schizophrenia2\n",
       "title         Schizophrenia Data\n",
       "Name: 668, dtype: object"
      ]
     },
     "metadata": {},
     "output_type": "display_data"
    },
    {
     "data": {
      "text/plain": [
       "dataset_id                  schooldays\n",
       "title         Days not Spent at School\n",
       "Name: 669, dtype: object"
      ]
     },
     "metadata": {},
     "output_type": "display_data"
    },
    {
     "data": {
      "text/plain": [
       "dataset_id             skulls\n",
       "title         Egyptian Skulls\n",
       "Name: 670, dtype: object"
      ]
     },
     "metadata": {},
     "output_type": "display_data"
    },
    {
     "data": {
      "text/plain": [
       "dataset_id                               smoking\n",
       "title         Nicotine Gum and Smoking Cessation\n",
       "Name: 671, dtype: object"
      ]
     },
     "metadata": {},
     "output_type": "display_data"
    },
    {
     "data": {
      "text/plain": [
       "dataset_id               students\n",
       "title         Student Risk Taking\n",
       "Name: 672, dtype: object"
      ]
     },
     "metadata": {},
     "output_type": "display_data"
    },
    {
     "data": {
      "text/plain": [
       "dataset_id                                suicides\n",
       "title         Crowd Baiting Behaviour and Suicides\n",
       "Name: 673, dtype: object"
      ]
     },
     "metadata": {},
     "output_type": "display_data"
    },
    {
     "data": {
      "text/plain": [
       "dataset_id         toothpaste\n",
       "title         Toothpaste Data\n",
       "Name: 674, dtype: object"
      ]
     },
     "metadata": {},
     "output_type": "display_data"
    },
    {
     "data": {
      "text/plain": [
       "dataset_id                                  voting\n",
       "title         House of Representatives Voting Data\n",
       "Name: 675, dtype: object"
      ]
     },
     "metadata": {},
     "output_type": "display_data"
    },
    {
     "data": {
      "text/plain": [
       "dataset_id                           water\n",
       "title         Mortality and Water Hardness\n",
       "Name: 676, dtype: object"
      ]
     },
     "metadata": {},
     "output_type": "display_data"
    },
    {
     "data": {
      "text/plain": [
       "dataset_id          watervoles\n",
       "title         Water Voles Data\n",
       "Name: 677, dtype: object"
      ]
     },
     "metadata": {},
     "output_type": "display_data"
    },
    {
     "data": {
      "text/plain": [
       "dataset_id                                 waves\n",
       "title         Electricity from Wave Power at Sea\n",
       "Name: 678, dtype: object"
      ]
     },
     "metadata": {},
     "output_type": "display_data"
    },
    {
     "data": {
      "text/plain": [
       "dataset_id                weightgain\n",
       "title         Gain in Weight of Rats\n",
       "Name: 679, dtype: object"
      ]
     },
     "metadata": {},
     "output_type": "display_data"
    },
    {
     "data": {
      "text/plain": [
       "dataset_id                womensrole\n",
       "title         Womens Role in Society\n",
       "Name: 680, dtype: object"
      ]
     },
     "metadata": {},
     "output_type": "display_data"
    },
    {
     "data": {
      "text/plain": [
       "dataset_id                                       Bechtoldt\n",
       "title         Seven data sets showing a bifactor solution.\n",
       "Name: 681, dtype: object"
      ]
     },
     "metadata": {},
     "output_type": "display_data"
    },
    {
     "data": {
      "text/plain": [
       "dataset_id                                     Bechtoldt.1\n",
       "title         Seven data sets showing a bifactor solution.\n",
       "Name: 682, dtype: object"
      ]
     },
     "metadata": {},
     "output_type": "display_data"
    },
    {
     "data": {
      "text/plain": [
       "dataset_id                                     Bechtoldt.2\n",
       "title         Seven data sets showing a bifactor solution.\n",
       "Name: 683, dtype: object"
      ]
     },
     "metadata": {},
     "output_type": "display_data"
    },
    {
     "data": {
      "text/plain": [
       "dataset_id                                                  Dwyer\n",
       "title         8 cognitive variables used by Dwyer for an example.\n",
       "Name: 684, dtype: object"
      ]
     },
     "metadata": {},
     "output_type": "display_data"
    },
    {
     "data": {
      "text/plain": [
       "dataset_id                                                                                       Gleser\n",
       "title         Example data from Gleser, Cronbach and Rajaratnam (1965) to show basic principles of g...\n",
       "Name: 685, dtype: object"
      ]
     },
     "metadata": {},
     "output_type": "display_data"
    },
    {
     "data": {
      "text/plain": [
       "dataset_id                                                                  Gorsuch\n",
       "title         Example data set from Gorsuch (1997) for an example factor extension.\n",
       "Name: 686, dtype: object"
      ]
     },
     "metadata": {},
     "output_type": "display_data"
    },
    {
     "data": {
      "text/plain": [
       "dataset_id                                         Harman.5\n",
       "title         5 socio-economic variables from Harman (1967)\n",
       "Name: 687, dtype: object"
      ]
     },
     "metadata": {},
     "output_type": "display_data"
    },
    {
     "data": {
      "text/plain": [
       "dataset_id                                                        Harman.8\n",
       "title         Correlations of eight physical variables (from Harman, 1966)\n",
       "Name: 688, dtype: object"
      ]
     },
     "metadata": {},
     "output_type": "display_data"
    },
    {
     "data": {
      "text/plain": [
       "dataset_id                                                   Harman.political\n",
       "title         Eight political variables used by Harman (1967) as example 8.17\n",
       "Name: 689, dtype: object"
      ]
     },
     "metadata": {},
     "output_type": "display_data"
    },
    {
     "data": {
      "text/plain": [
       "dataset_id                                       Holzinger\n",
       "title         Seven data sets showing a bifactor solution.\n",
       "Name: 690, dtype: object"
      ]
     },
     "metadata": {},
     "output_type": "display_data"
    },
    {
     "data": {
      "text/plain": [
       "dataset_id                                     Holzinger.9\n",
       "title         Seven data sets showing a bifactor solution.\n",
       "Name: 691, dtype: object"
      ]
     },
     "metadata": {},
     "output_type": "display_data"
    },
    {
     "data": {
      "text/plain": [
       "dataset_id                                           Reise\n",
       "title         Seven data sets showing a bifactor solution.\n",
       "Name: 692, dtype: object"
      ]
     },
     "metadata": {},
     "output_type": "display_data"
    },
    {
     "data": {
      "text/plain": [
       "dataset_id                                                                                Schmid\n",
       "title         12 variables created by Schmid and Leiman to show the Schmid-Leiman Transformation\n",
       "Name: 693, dtype: object"
      ]
     },
     "metadata": {},
     "output_type": "display_data"
    },
    {
     "data": {
      "text/plain": [
       "dataset_id                                       Thurstone\n",
       "title         Seven data sets showing a bifactor solution.\n",
       "Name: 694, dtype: object"
      ]
     },
     "metadata": {},
     "output_type": "display_data"
    },
    {
     "data": {
      "text/plain": [
       "dataset_id                                    Thurstone.33\n",
       "title         Seven data sets showing a bifactor solution.\n",
       "Name: 695, dtype: object"
      ]
     },
     "metadata": {},
     "output_type": "display_data"
    },
    {
     "data": {
      "text/plain": [
       "dataset_id                                                        Tucker\n",
       "title         9 Cognitive variables discussed by Tucker and Lewis (1973)\n",
       "Name: 696, dtype: object"
      ]
     },
     "metadata": {},
     "output_type": "display_data"
    },
    {
     "data": {
      "text/plain": [
       "dataset_id                                             ability\n",
       "title         16 ability items scored as correct or incorrect.\n",
       "Name: 697, dtype: object"
      ]
     },
     "metadata": {},
     "output_type": "display_data"
    },
    {
     "data": {
      "text/plain": [
       "dataset_id                                                                                       affect\n",
       "title         Two data sets of affect and arousal scores as a function of personality and movie cond...\n",
       "Name: 698, dtype: object"
      ]
     },
     "metadata": {},
     "output_type": "display_data"
    },
    {
     "data": {
      "text/plain": [
       "dataset_id                                            bfi\n",
       "title         25 Personality items representing 5 factors\n",
       "Name: 699, dtype: object"
      ]
     },
     "metadata": {},
     "output_type": "display_data"
    },
    {
     "data": {
      "text/plain": [
       "dataset_id                                 bfi.dictionary\n",
       "title         25 Personality items representing 5 factors\n",
       "Name: 700, dtype: object"
      ]
     },
     "metadata": {},
     "output_type": "display_data"
    },
    {
     "data": {
      "text/plain": [
       "dataset_id                                     blot\n",
       "title         Bond's Logical Operations Test - BLOT\n",
       "Name: 701, dtype: object"
      ]
     },
     "metadata": {},
     "output_type": "display_data"
    },
    {
     "data": {
      "text/plain": [
       "dataset_id                                       burt\n",
       "title         11 emotional variables from Burt (1915)\n",
       "Name: 702, dtype: object"
      ]
     },
     "metadata": {},
     "output_type": "display_data"
    },
    {
     "data": {
      "text/plain": [
       "dataset_id                            cities\n",
       "title         Distances between 11 US cities\n",
       "Name: 703, dtype: object"
      ]
     },
     "metadata": {},
     "output_type": "display_data"
    },
    {
     "data": {
      "text/plain": [
       "dataset_id                                                                               cubits\n",
       "title         Galton's example of the relationship between height and 'cubit' or forearm length\n",
       "Name: 704, dtype: object"
      ]
     },
     "metadata": {},
     "output_type": "display_data"
    },
    {
     "data": {
      "text/plain": [
       "dataset_id                                                                                       cushny\n",
       "title         A data set from Cushny and Peebles (1905) on the effect of three drugs on hours of sle...\n",
       "Name: 705, dtype: object"
      ]
     },
     "metadata": {},
     "output_type": "display_data"
    },
    {
     "data": {
      "text/plain": [
       "dataset_id                                                               epi\n",
       "title         Eysenck Personality Inventory (EPI) data for 3570 participants\n",
       "Name: 706, dtype: object"
      ]
     },
     "metadata": {},
     "output_type": "display_data"
    },
    {
     "data": {
      "text/plain": [
       "dataset_id                                                                             epi.bfi\n",
       "title         13 personality scales from the Eysenck Personality Inventory and Big 5 inventory\n",
       "Name: 707, dtype: object"
      ]
     },
     "metadata": {},
     "output_type": "display_data"
    },
    {
     "data": {
      "text/plain": [
       "dataset_id                                                    epi.dictionary\n",
       "title         Eysenck Personality Inventory (EPI) data for 3570 participants\n",
       "Name: 708, dtype: object"
      ]
     },
     "metadata": {},
     "output_type": "display_data"
    },
    {
     "data": {
      "text/plain": [
       "dataset_id                                   galton\n",
       "title         Galton's Mid parent child height data\n",
       "Name: 709, dtype: object"
      ]
     },
     "metadata": {},
     "output_type": "display_data"
    },
    {
     "data": {
      "text/plain": [
       "dataset_id                                                         heights\n",
       "title         A data.frame of the Galton (1888) height and cubit data set.\n",
       "Name: 710, dtype: object"
      ]
     },
     "metadata": {},
     "output_type": "display_data"
    },
    {
     "data": {
      "text/plain": [
       "dataset_id                                  income\n",
       "title         US family income from US census 2008\n",
       "Name: 711, dtype: object"
      ]
     },
     "metadata": {},
     "output_type": "display_data"
    },
    {
     "data": {
      "text/plain": [
       "dataset_id                        iqitems\n",
       "title         16 multiple choice IQ items\n",
       "Name: 712, dtype: object"
      ]
     },
     "metadata": {},
     "output_type": "display_data"
    },
    {
     "data": {
      "text/plain": [
       "dataset_id                                                                              msq\n",
       "title         75 mood items from the Motivational State Questionnaire for 3896 participants\n",
       "Name: 713, dtype: object"
      ]
     },
     "metadata": {},
     "output_type": "display_data"
    },
    {
     "data": {
      "text/plain": [
       "dataset_id                                                neo\n",
       "title         NEO correlation matrix from the NEO_PI_R manual\n",
       "Name: 714, dtype: object"
      ]
     },
     "metadata": {},
     "output_type": "display_data"
    },
    {
     "data": {
      "text/plain": [
       "dataset_id             peas\n",
       "title         Galton's Peas\n",
       "Name: 715, dtype: object"
      ]
     },
     "metadata": {},
     "output_type": "display_data"
    },
    {
     "data": {
      "text/plain": [
       "dataset_id                                   sat.act\n",
       "title         3 Measures of ability: SATV, SATQ, ACT\n",
       "Name: 716, dtype: object"
      ]
     },
     "metadata": {},
     "output_type": "display_data"
    },
    {
     "data": {
      "text/plain": [
       "dataset_id                                                                        withinBetween\n",
       "title         An example of the distinction between within group and between group correlations\n",
       "Name: 717, dtype: object"
      ]
     },
     "metadata": {},
     "output_type": "display_data"
    },
    {
     "data": {
      "text/plain": [
       "dataset_id             Bosco\n",
       "title         Boscovich Data\n",
       "Name: 718, dtype: object"
      ]
     },
     "metadata": {},
     "output_type": "display_data"
    },
    {
     "data": {
      "text/plain": [
       "dataset_id          CobarOre\n",
       "title         Cobar Ore data\n",
       "Name: 719, dtype: object"
      ]
     },
     "metadata": {},
     "output_type": "display_data"
    },
    {
     "data": {
      "text/plain": [
       "dataset_id                                           Mammals\n",
       "title         Garland(1983) Data on Running Speed of Mammals\n",
       "Name: 720, dtype: object"
      ]
     },
     "metadata": {},
     "output_type": "display_data"
    },
    {
     "data": {
      "text/plain": [
       "dataset_id         barro\n",
       "title         Barro Data\n",
       "Name: 721, dtype: object"
      ]
     },
     "metadata": {},
     "output_type": "display_data"
    },
    {
     "data": {
      "text/plain": [
       "dataset_id         engel\n",
       "title         Engel Data\n",
       "Name: 722, dtype: object"
      ]
     },
     "metadata": {},
     "output_type": "display_data"
    },
    {
     "data": {
      "text/plain": [
       "dataset_id                              uis\n",
       "title         UIS Drug Treatment study data\n",
       "Name: 723, dtype: object"
      ]
     },
     "metadata": {},
     "output_type": "display_data"
    },
    {
     "data": {
      "text/plain": [
       "dataset_id                                                 dietox\n",
       "title         Growth curves of pigs in a 3x3 factorial experiment\n",
       "Name: 724, dtype: object"
      ]
     },
     "metadata": {},
     "output_type": "display_data"
    },
    {
     "data": {
      "text/plain": [
       "dataset_id                      koch\n",
       "title         Ordinal Data from Koch\n",
       "Name: 725, dtype: object"
      ]
     },
     "metadata": {},
     "output_type": "display_data"
    },
    {
     "data": {
      "text/plain": [
       "dataset_id                           ohio\n",
       "title         Ohio Children Wheeze Status\n",
       "Name: 726, dtype: object"
      ]
     },
     "metadata": {},
     "output_type": "display_data"
    },
    {
     "data": {
      "text/plain": [
       "dataset_id                                   respdis\n",
       "title         Clustered Ordinal Respiratory Disorder\n",
       "Name: 727, dtype: object"
      ]
     },
     "metadata": {},
     "output_type": "display_data"
    },
    {
     "data": {
      "text/plain": [
       "dataset_id                                                                      respiratory\n",
       "title         Data from a clinical trial comparing two treatments for a respiratory illness\n",
       "Name: 728, dtype: object"
      ]
     },
     "metadata": {},
     "output_type": "display_data"
    },
    {
     "data": {
      "text/plain": [
       "dataset_id               seizure\n",
       "title         Epiliptic Seizures\n",
       "Name: 729, dtype: object"
      ]
     },
     "metadata": {},
     "output_type": "display_data"
    },
    {
     "data": {
      "text/plain": [
       "dataset_id                         sitka89\n",
       "title         Growth of Sitka Spruce Trees\n",
       "Name: 730, dtype: object"
      ]
     },
     "metadata": {},
     "output_type": "display_data"
    },
    {
     "data": {
      "text/plain": [
       "dataset_id                               spruce\n",
       "title         Log-size of 79 Sitka spruce trees\n",
       "Name: 731, dtype: object"
      ]
     },
     "metadata": {},
     "output_type": "display_data"
    },
    {
     "data": {
      "text/plain": [
       "dataset_id                            liver\n",
       "title         Liver related laboratory data\n",
       "Name: 732, dtype: object"
      ]
     },
     "metadata": {},
     "output_type": "display_data"
    },
    {
     "data": {
      "text/plain": [
       "dataset_id                                  portpirie\n",
       "title         Rain, wavesurge and portpirie datasets.\n",
       "Name: 733, dtype: object"
      ]
     },
     "metadata": {},
     "output_type": "display_data"
    },
    {
     "data": {
      "text/plain": [
       "dataset_id                                       rain\n",
       "title         Rain, wavesurge and portpirie datasets.\n",
       "Name: 734, dtype: object"
      ]
     },
     "metadata": {},
     "output_type": "display_data"
    },
    {
     "data": {
      "text/plain": [
       "dataset_id                                                         summer\n",
       "title         Air pollution data, separately for summer and winter months\n",
       "Name: 735, dtype: object"
      ]
     },
     "metadata": {},
     "output_type": "display_data"
    },
    {
     "data": {
      "text/plain": [
       "dataset_id                                  wavesurge\n",
       "title         Rain, wavesurge and portpirie datasets.\n",
       "Name: 736, dtype: object"
      ]
     },
     "metadata": {},
     "output_type": "display_data"
    },
    {
     "data": {
      "text/plain": [
       "dataset_id                                                         winter\n",
       "title         Air pollution data, separately for summer and winter months\n",
       "Name: 737, dtype: object"
      ]
     },
     "metadata": {},
     "output_type": "display_data"
    },
    {
     "data": {
      "text/plain": [
       "dataset_id                              arthritis\n",
       "title         Rheumatoid Arthritis Clinical Trial\n",
       "Name: 738, dtype: object"
      ]
     },
     "metadata": {},
     "output_type": "display_data"
    },
    {
     "data": {
      "text/plain": [
       "dataset_id          housing\n",
       "title         Homeless Data\n",
       "Name: 739, dtype: object"
      ]
     },
     "metadata": {},
     "output_type": "display_data"
    },
    {
     "data": {
      "text/plain": [
       "dataset_id                                     bmw\n",
       "title         Daily Log Returns on BMW Share Price\n",
       "Name: 740, dtype: object"
      ]
     },
     "metadata": {},
     "output_type": "display_data"
    },
    {
     "data": {
      "text/plain": [
       "dataset_id                          danish\n",
       "title         Danish Fire Insurance Claims\n",
       "Name: 741, dtype: object"
      ]
     },
     "metadata": {},
     "output_type": "display_data"
    },
    {
     "data": {
      "text/plain": [
       "dataset_id            nidd.annual\n",
       "title         The River Nidd Data\n",
       "Name: 742, dtype: object"
      ]
     },
     "metadata": {},
     "output_type": "display_data"
    },
    {
     "data": {
      "text/plain": [
       "dataset_id            nidd.thresh\n",
       "title         The River Nidd Data\n",
       "Name: 743, dtype: object"
      ]
     },
     "metadata": {},
     "output_type": "display_data"
    },
    {
     "data": {
      "text/plain": [
       "dataset_id                                     siemens\n",
       "title         Daily Log Returns on Siemens Share Price\n",
       "Name: 744, dtype: object"
      ]
     },
     "metadata": {},
     "output_type": "display_data"
    },
    {
     "data": {
      "text/plain": [
       "dataset_id                  sp.raw\n",
       "title         SP Data to June 1993\n",
       "Name: 745, dtype: object"
      ]
     },
     "metadata": {},
     "output_type": "display_data"
    },
    {
     "data": {
      "text/plain": [
       "dataset_id                            spto87\n",
       "title         SP Return Data to October 1987\n",
       "Name: 746, dtype: object"
      ]
     },
     "metadata": {},
     "output_type": "display_data"
    },
    {
     "data": {
      "text/plain": [
       "dataset_id                      Dyestuff\n",
       "title         Yield of dyestuff by batch\n",
       "Name: 747, dtype: object"
      ]
     },
     "metadata": {},
     "output_type": "display_data"
    },
    {
     "data": {
      "text/plain": [
       "dataset_id                     Dyestuff2\n",
       "title         Yield of dyestuff by batch\n",
       "Name: 748, dtype: object"
      ]
     },
     "metadata": {},
     "output_type": "display_data"
    },
    {
     "data": {
      "text/plain": [
       "dataset_id                                                        InstEval\n",
       "title         University Lecture/Instructor Evaluations by Students at ETH\n",
       "Name: 749, dtype: object"
      ]
     },
     "metadata": {},
     "output_type": "display_data"
    },
    {
     "data": {
      "text/plain": [
       "dataset_id                              Pastes\n",
       "title         Paste strength by batch and cask\n",
       "Name: 750, dtype: object"
      ]
     },
     "metadata": {},
     "output_type": "display_data"
    },
    {
     "data": {
      "text/plain": [
       "dataset_id                         Penicillin\n",
       "title         Variation in penicillin testing\n",
       "Name: 751, dtype: object"
      ]
     },
     "metadata": {},
     "output_type": "display_data"
    },
    {
     "data": {
      "text/plain": [
       "dataset_id                             VerbAgg\n",
       "title         Verbal Aggression item responses\n",
       "Name: 752, dtype: object"
      ]
     },
     "metadata": {},
     "output_type": "display_data"
    },
    {
     "data": {
      "text/plain": [
       "dataset_id                                 cake\n",
       "title         Breakage Angle of Chocolate Cakes\n",
       "Name: 753, dtype: object"
      ]
     },
     "metadata": {},
     "output_type": "display_data"
    },
    {
     "data": {
      "text/plain": [
       "dataset_id                                 cbpp\n",
       "title         Contagious bovine pleuropneumonia\n",
       "Name: 754, dtype: object"
      ]
     },
     "metadata": {},
     "output_type": "display_data"
    },
    {
     "data": {
      "text/plain": [
       "dataset_id                                         grouseticks\n",
       "title         Data on red grouse ticks from Elston et al. 2001\n",
       "Name: 755, dtype: object"
      ]
     },
     "metadata": {},
     "output_type": "display_data"
    },
    {
     "data": {
      "text/plain": [
       "dataset_id                                     sleepstudy\n",
       "title         Reaction times in a sleep deprivation study\n",
       "Name: 756, dtype: object"
      ]
     },
     "metadata": {},
     "output_type": "display_data"
    }
   ],
   "source": [
    "import numpy as np\n",
    "import pandas as pd\n",
    "import random as rn\n",
    "import pydataset as pds\n",
    "#Смотрим содержимое предлагаемых датасетов\n",
    "for i in range(757):\n",
    "    display(pds.data().iloc[i])"
   ]
  },
  {
   "cell_type": "markdown",
   "id": "3cf38d6c",
   "metadata": {},
   "source": [
    "Используем датасет 'HairEyeColor', который содержит статистическую информацию о зависимостях между цветом волос, глаз и полом:"
   ]
  },
  {
   "cell_type": "code",
   "execution_count": 3,
   "id": "15880117",
   "metadata": {
    "scrolled": true
   },
   "outputs": [
    {
     "data": {
      "text/html": [
       "<div>\n",
       "<style scoped>\n",
       "    .dataframe tbody tr th:only-of-type {\n",
       "        vertical-align: middle;\n",
       "    }\n",
       "\n",
       "    .dataframe tbody tr th {\n",
       "        vertical-align: top;\n",
       "    }\n",
       "\n",
       "    .dataframe thead th {\n",
       "        text-align: right;\n",
       "    }\n",
       "</style>\n",
       "<table border=\"1\" class=\"dataframe\">\n",
       "  <thead>\n",
       "    <tr style=\"text-align: right;\">\n",
       "      <th></th>\n",
       "      <th>Hair</th>\n",
       "      <th>Eye</th>\n",
       "      <th>Sex</th>\n",
       "      <th>Freq</th>\n",
       "    </tr>\n",
       "  </thead>\n",
       "  <tbody>\n",
       "    <tr>\n",
       "      <th>1</th>\n",
       "      <td>Black</td>\n",
       "      <td>Brown</td>\n",
       "      <td>Male</td>\n",
       "      <td>32</td>\n",
       "    </tr>\n",
       "    <tr>\n",
       "      <th>2</th>\n",
       "      <td>Brown</td>\n",
       "      <td>Brown</td>\n",
       "      <td>Male</td>\n",
       "      <td>53</td>\n",
       "    </tr>\n",
       "    <tr>\n",
       "      <th>3</th>\n",
       "      <td>Red</td>\n",
       "      <td>Brown</td>\n",
       "      <td>Male</td>\n",
       "      <td>10</td>\n",
       "    </tr>\n",
       "    <tr>\n",
       "      <th>4</th>\n",
       "      <td>Blond</td>\n",
       "      <td>Brown</td>\n",
       "      <td>Male</td>\n",
       "      <td>3</td>\n",
       "    </tr>\n",
       "    <tr>\n",
       "      <th>5</th>\n",
       "      <td>Black</td>\n",
       "      <td>Blue</td>\n",
       "      <td>Male</td>\n",
       "      <td>11</td>\n",
       "    </tr>\n",
       "    <tr>\n",
       "      <th>6</th>\n",
       "      <td>Brown</td>\n",
       "      <td>Blue</td>\n",
       "      <td>Male</td>\n",
       "      <td>50</td>\n",
       "    </tr>\n",
       "    <tr>\n",
       "      <th>7</th>\n",
       "      <td>Red</td>\n",
       "      <td>Blue</td>\n",
       "      <td>Male</td>\n",
       "      <td>10</td>\n",
       "    </tr>\n",
       "    <tr>\n",
       "      <th>8</th>\n",
       "      <td>Blond</td>\n",
       "      <td>Blue</td>\n",
       "      <td>Male</td>\n",
       "      <td>30</td>\n",
       "    </tr>\n",
       "    <tr>\n",
       "      <th>9</th>\n",
       "      <td>Black</td>\n",
       "      <td>Hazel</td>\n",
       "      <td>Male</td>\n",
       "      <td>10</td>\n",
       "    </tr>\n",
       "    <tr>\n",
       "      <th>10</th>\n",
       "      <td>Brown</td>\n",
       "      <td>Hazel</td>\n",
       "      <td>Male</td>\n",
       "      <td>25</td>\n",
       "    </tr>\n",
       "    <tr>\n",
       "      <th>11</th>\n",
       "      <td>Red</td>\n",
       "      <td>Hazel</td>\n",
       "      <td>Male</td>\n",
       "      <td>7</td>\n",
       "    </tr>\n",
       "    <tr>\n",
       "      <th>12</th>\n",
       "      <td>Blond</td>\n",
       "      <td>Hazel</td>\n",
       "      <td>Male</td>\n",
       "      <td>5</td>\n",
       "    </tr>\n",
       "    <tr>\n",
       "      <th>13</th>\n",
       "      <td>Black</td>\n",
       "      <td>Green</td>\n",
       "      <td>Male</td>\n",
       "      <td>3</td>\n",
       "    </tr>\n",
       "    <tr>\n",
       "      <th>14</th>\n",
       "      <td>Brown</td>\n",
       "      <td>Green</td>\n",
       "      <td>Male</td>\n",
       "      <td>15</td>\n",
       "    </tr>\n",
       "    <tr>\n",
       "      <th>15</th>\n",
       "      <td>Red</td>\n",
       "      <td>Green</td>\n",
       "      <td>Male</td>\n",
       "      <td>7</td>\n",
       "    </tr>\n",
       "    <tr>\n",
       "      <th>16</th>\n",
       "      <td>Blond</td>\n",
       "      <td>Green</td>\n",
       "      <td>Male</td>\n",
       "      <td>8</td>\n",
       "    </tr>\n",
       "    <tr>\n",
       "      <th>17</th>\n",
       "      <td>Black</td>\n",
       "      <td>Brown</td>\n",
       "      <td>Female</td>\n",
       "      <td>36</td>\n",
       "    </tr>\n",
       "    <tr>\n",
       "      <th>18</th>\n",
       "      <td>Brown</td>\n",
       "      <td>Brown</td>\n",
       "      <td>Female</td>\n",
       "      <td>66</td>\n",
       "    </tr>\n",
       "    <tr>\n",
       "      <th>19</th>\n",
       "      <td>Red</td>\n",
       "      <td>Brown</td>\n",
       "      <td>Female</td>\n",
       "      <td>16</td>\n",
       "    </tr>\n",
       "    <tr>\n",
       "      <th>20</th>\n",
       "      <td>Blond</td>\n",
       "      <td>Brown</td>\n",
       "      <td>Female</td>\n",
       "      <td>4</td>\n",
       "    </tr>\n",
       "    <tr>\n",
       "      <th>21</th>\n",
       "      <td>Black</td>\n",
       "      <td>Blue</td>\n",
       "      <td>Female</td>\n",
       "      <td>9</td>\n",
       "    </tr>\n",
       "    <tr>\n",
       "      <th>22</th>\n",
       "      <td>Brown</td>\n",
       "      <td>Blue</td>\n",
       "      <td>Female</td>\n",
       "      <td>34</td>\n",
       "    </tr>\n",
       "    <tr>\n",
       "      <th>23</th>\n",
       "      <td>Red</td>\n",
       "      <td>Blue</td>\n",
       "      <td>Female</td>\n",
       "      <td>7</td>\n",
       "    </tr>\n",
       "    <tr>\n",
       "      <th>24</th>\n",
       "      <td>Blond</td>\n",
       "      <td>Blue</td>\n",
       "      <td>Female</td>\n",
       "      <td>64</td>\n",
       "    </tr>\n",
       "    <tr>\n",
       "      <th>25</th>\n",
       "      <td>Black</td>\n",
       "      <td>Hazel</td>\n",
       "      <td>Female</td>\n",
       "      <td>5</td>\n",
       "    </tr>\n",
       "    <tr>\n",
       "      <th>26</th>\n",
       "      <td>Brown</td>\n",
       "      <td>Hazel</td>\n",
       "      <td>Female</td>\n",
       "      <td>29</td>\n",
       "    </tr>\n",
       "    <tr>\n",
       "      <th>27</th>\n",
       "      <td>Red</td>\n",
       "      <td>Hazel</td>\n",
       "      <td>Female</td>\n",
       "      <td>7</td>\n",
       "    </tr>\n",
       "    <tr>\n",
       "      <th>28</th>\n",
       "      <td>Blond</td>\n",
       "      <td>Hazel</td>\n",
       "      <td>Female</td>\n",
       "      <td>5</td>\n",
       "    </tr>\n",
       "    <tr>\n",
       "      <th>29</th>\n",
       "      <td>Black</td>\n",
       "      <td>Green</td>\n",
       "      <td>Female</td>\n",
       "      <td>2</td>\n",
       "    </tr>\n",
       "    <tr>\n",
       "      <th>30</th>\n",
       "      <td>Brown</td>\n",
       "      <td>Green</td>\n",
       "      <td>Female</td>\n",
       "      <td>14</td>\n",
       "    </tr>\n",
       "    <tr>\n",
       "      <th>31</th>\n",
       "      <td>Red</td>\n",
       "      <td>Green</td>\n",
       "      <td>Female</td>\n",
       "      <td>7</td>\n",
       "    </tr>\n",
       "    <tr>\n",
       "      <th>32</th>\n",
       "      <td>Blond</td>\n",
       "      <td>Green</td>\n",
       "      <td>Female</td>\n",
       "      <td>8</td>\n",
       "    </tr>\n",
       "  </tbody>\n",
       "</table>\n",
       "</div>"
      ],
      "text/plain": [
       "     Hair    Eye     Sex  Freq\n",
       "1   Black  Brown    Male    32\n",
       "2   Brown  Brown    Male    53\n",
       "3     Red  Brown    Male    10\n",
       "4   Blond  Brown    Male     3\n",
       "5   Black   Blue    Male    11\n",
       "6   Brown   Blue    Male    50\n",
       "7     Red   Blue    Male    10\n",
       "8   Blond   Blue    Male    30\n",
       "9   Black  Hazel    Male    10\n",
       "10  Brown  Hazel    Male    25\n",
       "11    Red  Hazel    Male     7\n",
       "12  Blond  Hazel    Male     5\n",
       "13  Black  Green    Male     3\n",
       "14  Brown  Green    Male    15\n",
       "15    Red  Green    Male     7\n",
       "16  Blond  Green    Male     8\n",
       "17  Black  Brown  Female    36\n",
       "18  Brown  Brown  Female    66\n",
       "19    Red  Brown  Female    16\n",
       "20  Blond  Brown  Female     4\n",
       "21  Black   Blue  Female     9\n",
       "22  Brown   Blue  Female    34\n",
       "23    Red   Blue  Female     7\n",
       "24  Blond   Blue  Female    64\n",
       "25  Black  Hazel  Female     5\n",
       "26  Brown  Hazel  Female    29\n",
       "27    Red  Hazel  Female     7\n",
       "28  Blond  Hazel  Female     5\n",
       "29  Black  Green  Female     2\n",
       "30  Brown  Green  Female    14\n",
       "31    Red  Green  Female     7\n",
       "32  Blond  Green  Female     8"
      ]
     },
     "metadata": {},
     "output_type": "display_data"
    }
   ],
   "source": [
    "data=pds.data('HairEyeColor')\n",
    "display(data)"
   ]
  },
  {
   "cell_type": "code",
   "execution_count": 5,
   "id": "84ce9580",
   "metadata": {
    "scrolled": true
   },
   "outputs": [
    {
     "data": {
      "text/html": [
       "<div>\n",
       "<style scoped>\n",
       "    .dataframe tbody tr th:only-of-type {\n",
       "        vertical-align: middle;\n",
       "    }\n",
       "\n",
       "    .dataframe tbody tr th {\n",
       "        vertical-align: top;\n",
       "    }\n",
       "\n",
       "    .dataframe thead th {\n",
       "        text-align: right;\n",
       "    }\n",
       "</style>\n",
       "<table border=\"1\" class=\"dataframe\">\n",
       "  <thead>\n",
       "    <tr style=\"text-align: right;\">\n",
       "      <th></th>\n",
       "      <th>year</th>\n",
       "      <th>population</th>\n",
       "    </tr>\n",
       "  </thead>\n",
       "  <tbody>\n",
       "    <tr>\n",
       "      <th>1</th>\n",
       "      <td>1851</td>\n",
       "      <td>2.436</td>\n",
       "    </tr>\n",
       "    <tr>\n",
       "      <th>2</th>\n",
       "      <td>1861</td>\n",
       "      <td>3.230</td>\n",
       "    </tr>\n",
       "    <tr>\n",
       "      <th>3</th>\n",
       "      <td>1871</td>\n",
       "      <td>3.689</td>\n",
       "    </tr>\n",
       "    <tr>\n",
       "      <th>4</th>\n",
       "      <td>1881</td>\n",
       "      <td>4.325</td>\n",
       "    </tr>\n",
       "    <tr>\n",
       "      <th>5</th>\n",
       "      <td>1891</td>\n",
       "      <td>4.833</td>\n",
       "    </tr>\n",
       "    <tr>\n",
       "      <th>6</th>\n",
       "      <td>1901</td>\n",
       "      <td>5.371</td>\n",
       "    </tr>\n",
       "    <tr>\n",
       "      <th>7</th>\n",
       "      <td>1911</td>\n",
       "      <td>7.207</td>\n",
       "    </tr>\n",
       "    <tr>\n",
       "      <th>8</th>\n",
       "      <td>1921</td>\n",
       "      <td>8.788</td>\n",
       "    </tr>\n",
       "    <tr>\n",
       "      <th>9</th>\n",
       "      <td>1931</td>\n",
       "      <td>10.377</td>\n",
       "    </tr>\n",
       "    <tr>\n",
       "      <th>10</th>\n",
       "      <td>1941</td>\n",
       "      <td>11.507</td>\n",
       "    </tr>\n",
       "    <tr>\n",
       "      <th>11</th>\n",
       "      <td>1951</td>\n",
       "      <td>13.648</td>\n",
       "    </tr>\n",
       "    <tr>\n",
       "      <th>12</th>\n",
       "      <td>1961</td>\n",
       "      <td>17.780</td>\n",
       "    </tr>\n",
       "    <tr>\n",
       "      <th>13</th>\n",
       "      <td>1971</td>\n",
       "      <td>21.046</td>\n",
       "    </tr>\n",
       "    <tr>\n",
       "      <th>14</th>\n",
       "      <td>1981</td>\n",
       "      <td>23.774</td>\n",
       "    </tr>\n",
       "    <tr>\n",
       "      <th>15</th>\n",
       "      <td>1991</td>\n",
       "      <td>26.429</td>\n",
       "    </tr>\n",
       "    <tr>\n",
       "      <th>16</th>\n",
       "      <td>2001</td>\n",
       "      <td>30.007</td>\n",
       "    </tr>\n",
       "  </tbody>\n",
       "</table>\n",
       "</div>"
      ],
      "text/plain": [
       "    year  population\n",
       "1   1851       2.436\n",
       "2   1861       3.230\n",
       "3   1871       3.689\n",
       "4   1881       4.325\n",
       "5   1891       4.833\n",
       "6   1901       5.371\n",
       "7   1911       7.207\n",
       "8   1921       8.788\n",
       "9   1931      10.377\n",
       "10  1941      11.507\n",
       "11  1951      13.648\n",
       "12  1961      17.780\n",
       "13  1971      21.046\n",
       "14  1981      23.774\n",
       "15  1991      26.429\n",
       "16  2001      30.007"
      ]
     },
     "metadata": {},
     "output_type": "display_data"
    }
   ],
   "source": [
    "display(pds.data('CanPop'))"
   ]
  },
  {
   "cell_type": "markdown",
   "id": "498f39ab",
   "metadata": {},
   "source": [
    "Используя механизм сводных таблиц, определить суммарное количество мужчин и женщин, участвующих в опросе."
   ]
  },
  {
   "cell_type": "code",
   "execution_count": 4,
   "id": "4bafb483",
   "metadata": {},
   "outputs": [
    {
     "data": {
      "text/html": [
       "<div>\n",
       "<style scoped>\n",
       "    .dataframe tbody tr th:only-of-type {\n",
       "        vertical-align: middle;\n",
       "    }\n",
       "\n",
       "    .dataframe tbody tr th {\n",
       "        vertical-align: top;\n",
       "    }\n",
       "\n",
       "    .dataframe thead th {\n",
       "        text-align: right;\n",
       "    }\n",
       "</style>\n",
       "<table border=\"1\" class=\"dataframe\">\n",
       "  <thead>\n",
       "    <tr style=\"text-align: right;\">\n",
       "      <th></th>\n",
       "      <th>Freq</th>\n",
       "    </tr>\n",
       "    <tr>\n",
       "      <th>Sex</th>\n",
       "      <th></th>\n",
       "    </tr>\n",
       "  </thead>\n",
       "  <tbody>\n",
       "    <tr>\n",
       "      <th>Female</th>\n",
       "      <td>313</td>\n",
       "    </tr>\n",
       "    <tr>\n",
       "      <th>Male</th>\n",
       "      <td>279</td>\n",
       "    </tr>\n",
       "  </tbody>\n",
       "</table>\n",
       "</div>"
      ],
      "text/plain": [
       "        Freq\n",
       "Sex         \n",
       "Female   313\n",
       "Male     279"
      ]
     },
     "execution_count": 4,
     "metadata": {},
     "output_type": "execute_result"
    }
   ],
   "source": [
    "data=pds.data('HairEyeColor')\n",
    "data.pivot_table('Freq',index='Sex',aggfunc='sum')"
   ]
  },
  {
   "cell_type": "markdown",
   "id": "a1a90d56",
   "metadata": {},
   "source": [
    "Используя механизм сводных таблиц, определить суммарное количество мужчин и женщин, участвующих в опросе, в градации по цвету волос."
   ]
  },
  {
   "cell_type": "code",
   "execution_count": 6,
   "id": "93c3a617",
   "metadata": {
    "scrolled": true
   },
   "outputs": [
    {
     "data": {
      "text/html": [
       "<div>\n",
       "<style scoped>\n",
       "    .dataframe tbody tr th:only-of-type {\n",
       "        vertical-align: middle;\n",
       "    }\n",
       "\n",
       "    .dataframe tbody tr th {\n",
       "        vertical-align: top;\n",
       "    }\n",
       "\n",
       "    .dataframe thead th {\n",
       "        text-align: right;\n",
       "    }\n",
       "</style>\n",
       "<table border=\"1\" class=\"dataframe\">\n",
       "  <thead>\n",
       "    <tr style=\"text-align: right;\">\n",
       "      <th>Hair</th>\n",
       "      <th>Black</th>\n",
       "      <th>Blond</th>\n",
       "      <th>Brown</th>\n",
       "      <th>Red</th>\n",
       "    </tr>\n",
       "    <tr>\n",
       "      <th>Sex</th>\n",
       "      <th></th>\n",
       "      <th></th>\n",
       "      <th></th>\n",
       "      <th></th>\n",
       "    </tr>\n",
       "  </thead>\n",
       "  <tbody>\n",
       "    <tr>\n",
       "      <th>Female</th>\n",
       "      <td>52</td>\n",
       "      <td>81</td>\n",
       "      <td>143</td>\n",
       "      <td>37</td>\n",
       "    </tr>\n",
       "    <tr>\n",
       "      <th>Male</th>\n",
       "      <td>56</td>\n",
       "      <td>46</td>\n",
       "      <td>143</td>\n",
       "      <td>34</td>\n",
       "    </tr>\n",
       "  </tbody>\n",
       "</table>\n",
       "</div>"
      ],
      "text/plain": [
       "Hair    Black  Blond  Brown  Red\n",
       "Sex                             \n",
       "Female     52     81    143   37\n",
       "Male       56     46    143   34"
      ]
     },
     "execution_count": 6,
     "metadata": {},
     "output_type": "execute_result"
    }
   ],
   "source": [
    "data.pivot_table('Freq',index='Sex',columns='Hair',aggfunc='sum')"
   ]
  },
  {
   "cell_type": "markdown",
   "id": "c14bd70d",
   "metadata": {},
   "source": [
    "Определить, кого больше - мужчин или женщин с зелёными глазами?"
   ]
  },
  {
   "cell_type": "code",
   "execution_count": 13,
   "id": "766c98fe",
   "metadata": {},
   "outputs": [
    {
     "name": "stdout",
     "output_type": "stream",
     "text": [
      "Больше мужчин 33\n"
     ]
    }
   ],
   "source": [
    "ff=data.pivot_table('Freq',index='Sex',columns='Eye',aggfunc='sum')\n",
    "if(ff['Green'].loc['Female']>ff['Green'].loc['Male']):\n",
    "    print(\"Больше женщин\", ff['Green'].loc['Female'])\n",
    "else:\n",
    "    print(\"Больше мужчин\", ff['Green'].loc['Male'])"
   ]
  },
  {
   "cell_type": "markdown",
   "id": "084de169",
   "metadata": {},
   "source": [
    "Сколько всего человек приняло участие в опросе?"
   ]
  },
  {
   "cell_type": "code",
   "execution_count": 16,
   "id": "e9ec1025",
   "metadata": {},
   "outputs": [
    {
     "data": {
      "text/plain": [
       "592"
      ]
     },
     "execution_count": 16,
     "metadata": {},
     "output_type": "execute_result"
    }
   ],
   "source": [
    "data['Freq'].sum()"
   ]
  },
  {
   "cell_type": "markdown",
   "id": "9ac5b001",
   "metadata": {},
   "source": [
    "Постройте гистограмму распределения людей по цвету волос, определите модальное значение."
   ]
  },
  {
   "cell_type": "code",
   "execution_count": 113,
   "id": "7bdd28c4",
   "metadata": {},
   "outputs": [
    {
     "data": {
      "text/plain": [
       "0    286\n",
       "dtype: int64"
      ]
     },
     "execution_count": 113,
     "metadata": {},
     "output_type": "execute_result"
    },
    {
     "data": {
      "image/png": "[encoded data removed]",
      "text/plain": [
       "<Figure size 432x288 with 1 Axes>"
      ]
     },
     "metadata": {
      "needs_background": "light"
     },
     "output_type": "display_data"
    }
   ],
   "source": [
    "from matplotlib import pyplot as plt\n",
    "h=data.pivot_table('Freq',columns='Hair',aggfunc=np.sum)\n",
    "x=h.columns\n",
    "y=[int(h[i]) for i in x]\n",
    "plt.bar(x,y)\n",
    "pd.Series(max(y)).mode()"
   ]
  },
  {
   "cell_type": "markdown",
   "id": "e112db4c",
   "metadata": {},
   "source": [
    "Постройте гистограмму распределения мужчин по цвету волос,определите модальное значение."
   ]
  },
  {
   "cell_type": "code",
   "execution_count": 114,
   "id": "86f55875",
   "metadata": {},
   "outputs": [
    {
     "data": {
      "text/plain": [
       "0    143\n",
       "dtype: int64"
      ]
     },
     "execution_count": 114,
     "metadata": {},
     "output_type": "execute_result"
    },
    {
     "data": {
      "image/png": "[encoded data removed]",
      "text/plain": [
       "<Figure size 432x288 with 1 Axes>"
      ]
     },
     "metadata": {
      "needs_background": "light"
     },
     "output_type": "display_data"
    }
   ],
   "source": [
    "h=data[data['Sex']=='Male']\n",
    "h1=h.pivot_table('Freq',index='Sex',columns='Hair',aggfunc='sum')\n",
    "x=list(h1.columns)\n",
    "y=[int(h1[i]) for i in x]\n",
    "plt.bar(x,y)\n",
    "pd.Series(max(y)).mode()"
   ]
  },
  {
   "cell_type": "markdown",
   "id": "fb1b9fab",
   "metadata": {},
   "source": [
    "Постройте гистограмму распределения женщин по цвету волос, определите модальное значение."
   ]
  },
  {
   "cell_type": "code",
   "execution_count": 115,
   "id": "16e5afd0",
   "metadata": {},
   "outputs": [
    {
     "data": {
      "text/plain": [
       "0    143\n",
       "dtype: int64"
      ]
     },
     "execution_count": 115,
     "metadata": {},
     "output_type": "execute_result"
    },
    {
     "data": {
      "image/png": "[encoded data removed]",
      "text/plain": [
       "<Figure size 432x288 with 1 Axes>"
      ]
     },
     "metadata": {
      "needs_background": "light"
     },
     "output_type": "display_data"
    }
   ],
   "source": [
    "h=data[data['Sex']=='Female']\n",
    "h1=h.pivot_table('Freq',index='Sex',columns='Hair',aggfunc='sum')\n",
    "x=list(h1.columns)\n",
    "y=[int(h1[i]) for i in x]\n",
    "plt.bar(x,y)\n",
    "pd.Series(max(y)).mode()"
   ]
  },
  {
   "cell_type": "markdown",
   "id": "ce54c4d3",
   "metadata": {},
   "source": [
    "Постройте гистограмму распределения людей по цвету глаз, определите модальное значение."
   ]
  },
  {
   "cell_type": "code",
   "execution_count": 116,
   "id": "c3e4c56f",
   "metadata": {},
   "outputs": [
    {
     "data": {
      "text/plain": [
       "0    220\n",
       "dtype: int64"
      ]
     },
     "execution_count": 116,
     "metadata": {},
     "output_type": "execute_result"
    },
    {
     "data": {
      "image/png": "[encoded data removed]",
      "text/plain": [
       "<Figure size 432x288 with 1 Axes>"
      ]
     },
     "metadata": {
      "needs_background": "light"
     },
     "output_type": "display_data"
    }
   ],
   "source": [
    "h=data.pivot_table('Freq',columns='Eye',aggfunc=\"sum\")\n",
    "x=list(h.columns)\n",
    "y=[int(h[i]) for i in x]\n",
    "plt.bar(x,y)\n",
    "pd.Series(max(y)).mode()"
   ]
  },
  {
   "cell_type": "markdown",
   "id": "c708c495",
   "metadata": {},
   "source": [
    "Постройте гистограмму распределения мужчин по цвету глаз,определите модальное значение."
   ]
  },
  {
   "cell_type": "code",
   "execution_count": 117,
   "id": "1318bdbf",
   "metadata": {},
   "outputs": [
    {
     "data": {
      "text/plain": [
       "0    101\n",
       "dtype: int64"
      ]
     },
     "execution_count": 117,
     "metadata": {},
     "output_type": "execute_result"
    },
    {
     "data": {
      "image/png": "[encoded data removed]",
      "text/plain": [
       "<Figure size 432x288 with 1 Axes>"
      ]
     },
     "metadata": {
      "needs_background": "light"
     },
     "output_type": "display_data"
    }
   ],
   "source": [
    "h=data[data['Sex']=='Male']\n",
    "h1=h.pivot_table('Freq',index='Sex',columns='Eye',aggfunc='sum')\n",
    "x=list(h1.columns)\n",
    "y=[int(h1[i]) for i in x]\n",
    "plt.bar(x,y)\n",
    "pd.Series(max(y)).mode()"
   ]
  },
  {
   "cell_type": "markdown",
   "id": "aea905bd",
   "metadata": {},
   "source": [
    "Постройте гистограмму распределения женщин по цвету глаз, определите модальное значение."
   ]
  },
  {
   "cell_type": "code",
   "execution_count": 118,
   "id": "6b1f0dde",
   "metadata": {},
   "outputs": [
    {
     "data": {
      "text/plain": [
       "0    122\n",
       "dtype: int64"
      ]
     },
     "execution_count": 118,
     "metadata": {},
     "output_type": "execute_result"
    },
    {
     "data": {
      "image/png": "[encoded data removed]",
      "text/plain": [
       "<Figure size 432x288 with 1 Axes>"
      ]
     },
     "metadata": {
      "needs_background": "light"
     },
     "output_type": "display_data"
    }
   ],
   "source": [
    "h=data[data['Sex']=='Female']\n",
    "h1=h.pivot_table('Freq',index='Sex',columns='Eye',aggfunc='sum')\n",
    "x=list(h1.columns)\n",
    "y=[int(h1[i]) for i in x]\n",
    "plt.bar(x,y)\n",
    "pd.Series(max(y)).mode()"
   ]
  },
  {
   "cell_type": "markdown",
   "id": "edd2a99f",
   "metadata": {},
   "source": [
    "Сделайте выводы."
   ]
  },
  {
   "cell_type": "markdown",
   "id": "016c5c83",
   "metadata": {},
   "source": [
    "Используя данные о населении Канады (датасет CanPop), определить среднее арифметическое, гармоническое, геометрическое, медианное значения численности населения по годам."
   ]
  },
  {
   "cell_type": "markdown",
   "id": "567dae6d",
   "metadata": {},
   "source": [
    "Построить гистограмму численности по годам."
   ]
  },
  {
   "cell_type": "markdown",
   "id": "0a619cd8",
   "metadata": {},
   "source": [
    "Определить перечень годов, которые находятся между первым и третьем квартилями численности населения."
   ]
  },
  {
   "cell_type": "markdown",
   "id": "ca6c4799",
   "metadata": {},
   "source": [
    "Рассчитать скользящее среднее - учитывая по три года, изобразить полученные значения в виде графика."
   ]
  },
  {
   "cell_type": "markdown",
   "id": "a95c9127",
   "metadata": {},
   "source": [
    "Выполнить группировку данных по формуле Стерджеса, рассчитать по полученным данным модальное, медианное и среднее арифметически взвешенное значения."
   ]
  },
  {
   "cell_type": "code",
   "execution_count": null,
   "id": "0f7c382b",
   "metadata": {},
   "outputs": [],
   "source": []
  }
 ],
 "metadata": {
  "kernelspec": {
   "display_name": "Python 3 (ipykernel)",
   "language": "python",
   "name": "python3"
  },
  "language_info": {
   "codemirror_mode": {
    "name": "ipython",
    "version": 3
   },
   "file_extension": ".py",
   "mimetype": "text/x-python",
   "name": "python",
   "nbconvert_exporter": "python",
   "pygments_lexer": "ipython3",
   "version": "3.9.7"
  }
 },
 "nbformat": 4,
 "nbformat_minor": 5
}
