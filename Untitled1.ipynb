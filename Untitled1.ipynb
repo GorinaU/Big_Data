{
 "cells": [
  {
   "cell_type": "code",
   "execution_count": 4,
   "id": "2dd89b31",
   "metadata": {},
   "outputs": [
    {
     "data": {
      "text/plain": [
       "[9, 8, 7]"
      ]
     },
     "execution_count": 4,
     "metadata": {},
     "output_type": "execute_result"
    }
   ],
   "source": [
    "M=[[1,2,3],[4,5,6],[9,8,7]]\n",
    "def minrows(M):\n",
    "    result=[]\n",
    "    for i in M:\n",
    "        result.append(min(i))\n",
    "    return result\n",
    "minrows(M)\n",
    "\n",
    "def maxcolumns(M):\n",
    "    r=len(M)\n",
    "    c=len(M[0])\n",
    "    result=[]\n",
    "    for j in range(c):\n",
    "        mx=M[0][j]\n",
    "        for i in range(r):\n",
    "            if M[i][j]>mx: \n",
    "                mx = M[i][j]\n",
    "        result.append(mx)\n",
    "    return result\n",
    "maxcolumns(M)"
   ]
  },
  {
   "cell_type": "code",
   "execution_count": 11,
   "id": "32497e7e",
   "metadata": {},
   "outputs": [
    {
     "data": {
      "text/plain": [
       "[2, 3, 7, 4, 5, 6]"
      ]
     },
     "execution_count": 11,
     "metadata": {},
     "output_type": "execute_result"
    }
   ],
   "source": [
    "l1=[1,2,3,8,7]\n",
    "l2=[4,5,6,1,8]\n",
    "\n",
    "def f(l1,l2):\n",
    "    l3=[]\n",
    "    for i in l1:\n",
    "        if not(i in l2):\n",
    "            l3.append(i)\n",
    "    for i in l2:\n",
    "        if not(i in l1):\n",
    "            l3.append(i)\n",
    "    return l3\n",
    "f(l1,l2)\n",
    "\n",
    "def difference(l1,l2):\n",
    "    if l1==[]:\n",
    "        return []\n",
    "    elif not(l1[0] in l2):\n",
    "        return [l1[0]]+difference(l1[1:],l2)\n",
    "    else:\n",
    "        return difference(l1[1:],l2)\n",
    "    \n",
    "def final(l1,l2):\n",
    "    return difference(l1,l2)+difference(l2,l1)\n",
    "final(l1,l2)"
   ]
  },
  {
   "cell_type": "code",
   "execution_count": null,
   "id": "8d08cd21",
   "metadata": {},
   "outputs": [],
   "source": [
    "#Задачи для самостоятельного решения"
   ]
  },
  {
   "cell_type": "code",
   "execution_count": 15,
   "id": "cb9293a6",
   "metadata": {},
   "outputs": [
    {
     "name": "stdout",
     "output_type": "stream",
     "text": [
      "Введите n:\n",
      "3\n"
     ]
    },
    {
     "data": {
      "text/plain": [
       "-32"
      ]
     },
     "execution_count": 15,
     "metadata": {},
     "output_type": "execute_result"
    }
   ],
   "source": [
    "#Реализовать программу, позволяющую рассчитать для заданного n сумму ряда:\n",
    "\n",
    "n = int(input(\"Введите n:\\n\"))\n",
    "\n",
    "def f(n):\n",
    "    s = 0\n",
    "    for i in range(0, n + 1):\n",
    "        s += (-1)**i*((2*i+1))**2\n",
    "    return s\n",
    "\n",
    "f(n)"
   ]
  },
  {
   "cell_type": "code",
   "execution_count": null,
   "id": "5969c546",
   "metadata": {},
   "outputs": [],
   "source": []
  }
 ],
 "metadata": {
  "kernelspec": {
   "display_name": "Python 3 (ipykernel)",
   "language": "python",
   "name": "python3"
  },
  "language_info": {
   "codemirror_mode": {
    "name": "ipython",
    "version": 3
   },
   "file_extension": ".py",
   "mimetype": "text/x-python",
   "name": "python",
   "nbconvert_exporter": "python",
   "pygments_lexer": "ipython3",
   "version": "3.9.7"
  },
  "toc": {
   "base_numbering": 1,
   "nav_menu": {},
   "number_sections": true,
   "sideBar": true,
   "skip_h1_title": false,
   "title_cell": "Table of Contents",
   "title_sidebar": "Contents",
   "toc_cell": false,
   "toc_position": {},
   "toc_section_display": true,
   "toc_window_display": false
  }
 },
 "nbformat": 4,
 "nbformat_minor": 5
}
