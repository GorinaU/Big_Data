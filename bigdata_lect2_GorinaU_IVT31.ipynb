{
 "cells": [
  {
   "cell_type": "markdown",
   "id": "e0c74324-5ea4-493a-b1e4-0089ee9e05a2",
   "metadata": {
    "tags": []
   },
   "source": [
    "### №1"
   ]
  },
  {
   "cell_type": "code",
   "execution_count": 9,
   "id": "7b7668d8-6f2e-4823-96dc-1eca9d1e9c60",
   "metadata": {},
   "outputs": [
    {
     "data": {
      "text/plain": [
       "-32"
      ]
     },
     "execution_count": 9,
     "metadata": {},
     "output_type": "execute_result"
    }
   ],
   "source": [
    "def f(n):\n",
    "    s=0\n",
    "    for i in range(0,n+1):\n",
    "        s+=((-1)**i)*(2*i+1)**2\n",
    "    return s\n",
    "\n",
    "f(3)"
   ]
  },
  {
   "cell_type": "markdown",
   "id": "1e97376b-83bf-4b62-8bed-68f926824a3c",
   "metadata": {
    "tags": []
   },
   "source": [
    "### №2"
   ]
  },
  {
   "cell_type": "code",
   "execution_count": 10,
   "id": "d0606410-4081-4a57-a7b5-a8a22bff1365",
   "metadata": {},
   "outputs": [
    {
     "name": "stdout",
     "output_type": "stream",
     "text": [
      "za\n"
     ]
    }
   ],
   "source": [
    "import random\n",
    "\n",
    "lst = [random.randint(0, 1) for i in range(10)]\n",
    "\n",
    "if len(lst) - sum(lst) > sum(lst):\n",
    "    print('protiv')\n",
    "else:\n",
    "    print('za')"
   ]
  },
  {
   "cell_type": "markdown",
   "id": "2d76c285-374a-4934-b450-03128eba3dd3",
   "metadata": {},
   "source": [
    "### №3"
   ]
  },
  {
   "cell_type": "code",
   "execution_count": 11,
   "id": "5c961382-c888-4cbe-811b-a91365dc4759",
   "metadata": {},
   "outputs": [
    {
     "name": "stdout",
     "output_type": "stream",
     "text": [
      "min: 32\n",
      "max: 90\n",
      "sred: 58.2\n"
     ]
    }
   ],
   "source": [
    "import random\n",
    "\n",
    "lst = [random.randint(0, 100) for i in range(10)]\n",
    "\n",
    "print('min:', min(lst))\n",
    "print('max:', max(lst))\n",
    "print('sred:', sum(lst) / len(lst))"
   ]
  },
  {
   "cell_type": "markdown",
   "id": "51c0be7d-b1bd-441f-aec9-22a78118c0e7",
   "metadata": {},
   "source": [
    "### №4"
   ]
  },
  {
   "cell_type": "code",
   "execution_count": 12,
   "id": "ce8f8f2a-eb35-40c3-898e-61c4843b2578",
   "metadata": {},
   "outputs": [
    {
     "name": "stdout",
     "output_type": "stream",
     "text": [
      "[0, 22, 36, 28, 7, 57, 50, 39, 58, 31, 97, 86, 100, 18, 26, 76, 35, 1, 13, 79]\n",
      "[0, 22, 36, 28, 7, 57, 50, 39, 58, 31, 97, 86, 100, 18, 26, 76, 35, 1, 13, 79]\n"
     ]
    }
   ],
   "source": [
    "a=[random.randint(0, 100) for i in range(10)]\n",
    "b=[random.randint(0, 100) for i in range(10)]\n",
    "\n",
    "def ab(a,b):\n",
    "    c=[]\n",
    "    for i in a:\n",
    "        if not(i in b):\n",
    "            c.append(i)\n",
    "    for i in b:\n",
    "        if not(i in a):\n",
    "            c.append(i)\n",
    "    return c\n",
    "print(ab(a,b))\n",
    "\n",
    "def difference(a,b):\n",
    "    if a==[]:\n",
    "        return []\n",
    "    elif not(a[0] in b):\n",
    "        return [a[0]]+difference(a[1:],b)\n",
    "    else:\n",
    "        return difference(a[1:],b)\n",
    "\n",
    "def final(a,b):\n",
    "    return difference(a,b)+difference(b,a)\n",
    "print(final(a,b))"
   ]
  },
  {
   "cell_type": "markdown",
   "id": "23ce2248-681f-4ce3-84d1-bfdc43d1ea90",
   "metadata": {},
   "source": [
    "### №5"
   ]
  },
  {
   "cell_type": "code",
   "execution_count": 13,
   "id": "74def3e3-4d39-432c-abbd-b81ea09c3620",
   "metadata": {},
   "outputs": [
    {
     "name": "stdout",
     "output_type": "stream",
     "text": [
      "[49, 38, 91, 98, 62, 7, 63, 14, 67, 0]\n",
      "[-0.9537526527594719, 0.2963685787093853, 0.10598751175115685, -0.5733818719904229, -0.7391806966492228, 0.6569865987187891, 0.16735570030280691, 0.9906073556948704, -0.8555199789753223, 0.0]\n",
      "0.9906073556948704\n"
     ]
    }
   ],
   "source": [
    "import random\n",
    "import math \n",
    "\n",
    "lst = [random.randint(0, 100) for i in range(10)]\n",
    "\n",
    "print(lst)\n",
    "\n",
    "def max_sin(arr):\n",
    "    sin_arr = list(map(math.sin, arr))\n",
    "    print(sin_arr)\n",
    "    return max(sin_arr)\n",
    "    \n",
    "print(max_sin(lst))"
   ]
  },
  {
   "cell_type": "markdown",
   "id": "c5c4406e-4412-49fb-8eed-41e5ba357f9b",
   "metadata": {},
   "source": [
    "### №6"
   ]
  },
  {
   "cell_type": "code",
   "execution_count": 14,
   "id": "883d52d5-c199-4470-a6e0-ae47be8cb111",
   "metadata": {},
   "outputs": [
    {
     "name": "stdout",
     "output_type": "stream",
     "text": [
      "[19, 41, 56, 9, 29, 21, 73, 88, 88, 46]\n",
      "[0, 0, 0, 0, 0, 0, 0, 0, 0, 0]\n"
     ]
    },
    {
     "name": "stdin",
     "output_type": "stream",
     "text": [
      "val =  1\n"
     ]
    },
    {
     "name": "stdout",
     "output_type": "stream",
     "text": [
      "[1, 1, 1, 1, 1, 1, 1, 1, 1, 1]\n"
     ]
    }
   ],
   "source": [
    "import random\n",
    "import math \n",
    "\n",
    "lst = [random.randint(0, 100) for i in range(10)]\n",
    "\n",
    "print(lst)\n",
    "\n",
    "def swap(arr, val):\n",
    "    for i in range(len(arr)):\n",
    "        arr[i] = val\n",
    "    return arr\n",
    "    \n",
    "print(swap(lst, 0))\n",
    "\n",
    "val = int(input('val = '))\n",
    "arr = [val for i in range(len(lst))]    \n",
    "print(arr)"
   ]
  },
  {
   "cell_type": "code",
   "execution_count": null,
   "id": "4acbf370-153d-4239-8331-e08aefa2b15a",
   "metadata": {},
   "outputs": [],
   "source": []
  }
 ],
 "metadata": {
  "kernelspec": {
   "display_name": "Python 3",
   "language": "python",
   "name": "python3"
  },
  "language_info": {
   "codemirror_mode": {
    "name": "ipython",
    "version": 3
   },
   "file_extension": ".py",
   "mimetype": "text/x-python",
   "name": "python",
   "nbconvert_exporter": "python",
   "pygments_lexer": "ipython3",
   "version": "3.7.8"
  }
 },
 "nbformat": 4,
 "nbformat_minor": 5
}
