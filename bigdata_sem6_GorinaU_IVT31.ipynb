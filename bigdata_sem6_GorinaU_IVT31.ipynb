{
 "cells": [
  {
   "cell_type": "markdown",
   "id": "fad3b764",
   "metadata": {},
   "source": [
    "#### Распределить банки на группы по величине уставного капитала, по активам, по капиталу, построить гистограммы и полигон частот. Сохранить полученные группировки в виде DataFrame."
   ]
  },
  {
   "cell_type": "code",
   "execution_count": 1,
   "id": "20fc1360",
   "metadata": {
    "scrolled": true
   },
   "outputs": [
    {
     "data": {
      "text/html": [
       "<div>\n",
       "<style scoped>\n",
       "    .dataframe tbody tr th:only-of-type {\n",
       "        vertical-align: middle;\n",
       "    }\n",
       "\n",
       "    .dataframe tbody tr th {\n",
       "        vertical-align: top;\n",
       "    }\n",
       "\n",
       "    .dataframe thead th {\n",
       "        text-align: right;\n",
       "    }\n",
       "</style>\n",
       "<table border=\"1\" class=\"dataframe\">\n",
       "  <thead>\n",
       "    <tr style=\"text-align: right;\">\n",
       "      <th></th>\n",
       "      <th>Номер банка</th>\n",
       "      <th>Капитал</th>\n",
       "      <th>Работающие активы</th>\n",
       "      <th>Уставной капитал</th>\n",
       "    </tr>\n",
       "  </thead>\n",
       "  <tbody>\n",
       "    <tr>\n",
       "      <th>0</th>\n",
       "      <td>1</td>\n",
       "      <td>20.7</td>\n",
       "      <td>11.7</td>\n",
       "      <td>2.4</td>\n",
       "    </tr>\n",
       "    <tr>\n",
       "      <th>1</th>\n",
       "      <td>2</td>\n",
       "      <td>19.9</td>\n",
       "      <td>19.8</td>\n",
       "      <td>17.5</td>\n",
       "    </tr>\n",
       "    <tr>\n",
       "      <th>2</th>\n",
       "      <td>3</td>\n",
       "      <td>9.3</td>\n",
       "      <td>2.6</td>\n",
       "      <td>2.7</td>\n",
       "    </tr>\n",
       "    <tr>\n",
       "      <th>3</th>\n",
       "      <td>4</td>\n",
       "      <td>59.3</td>\n",
       "      <td>43.6</td>\n",
       "      <td>2.1</td>\n",
       "    </tr>\n",
       "    <tr>\n",
       "      <th>4</th>\n",
       "      <td>5</td>\n",
       "      <td>24.7</td>\n",
       "      <td>29.0</td>\n",
       "      <td>23.1</td>\n",
       "    </tr>\n",
       "    <tr>\n",
       "      <th>5</th>\n",
       "      <td>6</td>\n",
       "      <td>47.7</td>\n",
       "      <td>98.5</td>\n",
       "      <td>18.7</td>\n",
       "    </tr>\n",
       "    <tr>\n",
       "      <th>6</th>\n",
       "      <td>7</td>\n",
       "      <td>24.2</td>\n",
       "      <td>25.6</td>\n",
       "      <td>5.3</td>\n",
       "    </tr>\n",
       "    <tr>\n",
       "      <th>7</th>\n",
       "      <td>8</td>\n",
       "      <td>7.8</td>\n",
       "      <td>6.2</td>\n",
       "      <td>2.2</td>\n",
       "    </tr>\n",
       "    <tr>\n",
       "      <th>8</th>\n",
       "      <td>9</td>\n",
       "      <td>38.3</td>\n",
       "      <td>79.8</td>\n",
       "      <td>6.8</td>\n",
       "    </tr>\n",
       "    <tr>\n",
       "      <th>9</th>\n",
       "      <td>10</td>\n",
       "      <td>10.3</td>\n",
       "      <td>10.1</td>\n",
       "      <td>3.5</td>\n",
       "    </tr>\n",
       "    <tr>\n",
       "      <th>10</th>\n",
       "      <td>11</td>\n",
       "      <td>35.7</td>\n",
       "      <td>30.0</td>\n",
       "      <td>13.6</td>\n",
       "    </tr>\n",
       "    <tr>\n",
       "      <th>11</th>\n",
       "      <td>12</td>\n",
       "      <td>20.7</td>\n",
       "      <td>21.2</td>\n",
       "      <td>8.9</td>\n",
       "    </tr>\n",
       "    <tr>\n",
       "      <th>12</th>\n",
       "      <td>13</td>\n",
       "      <td>8.2</td>\n",
       "      <td>16.7</td>\n",
       "      <td>2.2</td>\n",
       "    </tr>\n",
       "    <tr>\n",
       "      <th>13</th>\n",
       "      <td>14</td>\n",
       "      <td>10.2</td>\n",
       "      <td>9.1</td>\n",
       "      <td>9.0</td>\n",
       "    </tr>\n",
       "    <tr>\n",
       "      <th>14</th>\n",
       "      <td>15</td>\n",
       "      <td>23.5</td>\n",
       "      <td>31.7</td>\n",
       "      <td>3.6</td>\n",
       "    </tr>\n",
       "    <tr>\n",
       "      <th>15</th>\n",
       "      <td>16</td>\n",
       "      <td>55.8</td>\n",
       "      <td>54.4</td>\n",
       "      <td>7.5</td>\n",
       "    </tr>\n",
       "    <tr>\n",
       "      <th>16</th>\n",
       "      <td>17</td>\n",
       "      <td>10.3</td>\n",
       "      <td>21.4</td>\n",
       "      <td>4.3</td>\n",
       "    </tr>\n",
       "    <tr>\n",
       "      <th>17</th>\n",
       "      <td>18</td>\n",
       "      <td>16.7</td>\n",
       "      <td>41.1</td>\n",
       "      <td>5.1</td>\n",
       "    </tr>\n",
       "    <tr>\n",
       "      <th>18</th>\n",
       "      <td>19</td>\n",
       "      <td>15.8</td>\n",
       "      <td>29.8</td>\n",
       "      <td>9.9</td>\n",
       "    </tr>\n",
       "    <tr>\n",
       "      <th>19</th>\n",
       "      <td>20</td>\n",
       "      <td>6.8</td>\n",
       "      <td>10.9</td>\n",
       "      <td>2.9</td>\n",
       "    </tr>\n",
       "    <tr>\n",
       "      <th>20</th>\n",
       "      <td>21</td>\n",
       "      <td>22.4</td>\n",
       "      <td>53.4</td>\n",
       "      <td>13.4</td>\n",
       "    </tr>\n",
       "    <tr>\n",
       "      <th>21</th>\n",
       "      <td>22</td>\n",
       "      <td>13.6</td>\n",
       "      <td>22.6</td>\n",
       "      <td>4.8</td>\n",
       "    </tr>\n",
       "    <tr>\n",
       "      <th>22</th>\n",
       "      <td>23</td>\n",
       "      <td>9.9</td>\n",
       "      <td>11.7</td>\n",
       "      <td>5.0</td>\n",
       "    </tr>\n",
       "    <tr>\n",
       "      <th>23</th>\n",
       "      <td>24</td>\n",
       "      <td>24.0</td>\n",
       "      <td>27.3</td>\n",
       "      <td>6.1</td>\n",
       "    </tr>\n",
       "    <tr>\n",
       "      <th>24</th>\n",
       "      <td>25</td>\n",
       "      <td>23.0</td>\n",
       "      <td>70.2</td>\n",
       "      <td>5.9</td>\n",
       "    </tr>\n",
       "    <tr>\n",
       "      <th>25</th>\n",
       "      <td>26</td>\n",
       "      <td>75.1</td>\n",
       "      <td>124.2</td>\n",
       "      <td>17.2</td>\n",
       "    </tr>\n",
       "    <tr>\n",
       "      <th>26</th>\n",
       "      <td>27</td>\n",
       "      <td>56.2</td>\n",
       "      <td>90.4</td>\n",
       "      <td>20.5</td>\n",
       "    </tr>\n",
       "    <tr>\n",
       "      <th>27</th>\n",
       "      <td>28</td>\n",
       "      <td>60.7</td>\n",
       "      <td>101.7</td>\n",
       "      <td>10.7</td>\n",
       "    </tr>\n",
       "    <tr>\n",
       "      <th>28</th>\n",
       "      <td>29</td>\n",
       "      <td>14.8</td>\n",
       "      <td>18.2</td>\n",
       "      <td>2.9</td>\n",
       "    </tr>\n",
       "    <tr>\n",
       "      <th>29</th>\n",
       "      <td>30</td>\n",
       "      <td>41.5</td>\n",
       "      <td>127.7</td>\n",
       "      <td>12.1</td>\n",
       "    </tr>\n",
       "  </tbody>\n",
       "</table>\n",
       "</div>"
      ],
      "text/plain": [
       "    Номер банка  Капитал  Работающие активы  Уставной капитал\n",
       "0             1     20.7               11.7               2.4\n",
       "1             2     19.9               19.8              17.5\n",
       "2             3      9.3                2.6               2.7\n",
       "3             4     59.3               43.6               2.1\n",
       "4             5     24.7               29.0              23.1\n",
       "5             6     47.7               98.5              18.7\n",
       "6             7     24.2               25.6               5.3\n",
       "7             8      7.8                6.2               2.2\n",
       "8             9     38.3               79.8               6.8\n",
       "9            10     10.3               10.1               3.5\n",
       "10           11     35.7               30.0              13.6\n",
       "11           12     20.7               21.2               8.9\n",
       "12           13      8.2               16.7               2.2\n",
       "13           14     10.2                9.1               9.0\n",
       "14           15     23.5               31.7               3.6\n",
       "15           16     55.8               54.4               7.5\n",
       "16           17     10.3               21.4               4.3\n",
       "17           18     16.7               41.1               5.1\n",
       "18           19     15.8               29.8               9.9\n",
       "19           20      6.8               10.9               2.9\n",
       "20           21     22.4               53.4              13.4\n",
       "21           22     13.6               22.6               4.8\n",
       "22           23      9.9               11.7               5.0\n",
       "23           24     24.0               27.3               6.1\n",
       "24           25     23.0               70.2               5.9\n",
       "25           26     75.1              124.2              17.2\n",
       "26           27     56.2               90.4              20.5\n",
       "27           28     60.7              101.7              10.7\n",
       "28           29     14.8               18.2               2.9\n",
       "29           30     41.5              127.7              12.1"
      ]
     },
     "execution_count": 1,
     "metadata": {},
     "output_type": "execute_result"
    }
   ],
   "source": [
    "import numpy as np\n",
    "import pandas as pd\n",
    "\n",
    "data=pd.read_excel(\"https://github.com/junaart/ForStudents/blob/master/Big_Data/Seminar_6/data.xlsx?raw=true\",engine=\"openpyxl\")\n",
    "data"
   ]
  },
  {
   "cell_type": "code",
   "execution_count": 6,
   "id": "46185901",
   "metadata": {},
   "outputs": [
    {
     "name": "stdout",
     "output_type": "stream",
     "text": [
      "[17, 6, 4, 3] [2.1, 7.35, 12.6, 17.85, 23.1]\n"
     ]
    }
   ],
   "source": [
    "p=np.histogram(data['Уставной капитал'], bins='fd')\n",
    "print(list(p[0]), list(p[1]))"
   ]
  },
  {
   "cell_type": "code",
   "execution_count": 7,
   "id": "bda691e5",
   "metadata": {},
   "outputs": [
    {
     "data": {
      "text/plain": [
       "3 - 7      17\n",
       "8 - 12      6\n",
       "13 - 17     4\n",
       "18 - 23     3\n",
       "dtype: int32"
      ]
     },
     "execution_count": 7,
     "metadata": {},
     "output_type": "execute_result"
    }
   ],
   "source": [
    "import math\n",
    "arr=[0]*len(p[1])\n",
    "for i in range(len(p[1])-1):\n",
    "    arr[i]=str(math.ceil(p[1][i]))+' - '+str(math.floor(p[1][i+1]))\n",
    "\n",
    "pd.Series(p[0].astype('int'), index=arr[:-1])"
   ]
  },
  {
   "cell_type": "code",
   "execution_count": 10,
   "id": "228453d3",
   "metadata": {},
   "outputs": [
    {
     "data": {
      "text/plain": [
       "[<matplotlib.lines.Line2D at 0xefdfa8f520>]"
      ]
     },
     "execution_count": 10,
     "metadata": {},
     "output_type": "execute_result"
    },
    {
     "data": {
      "image/png": "[encoded data removed]",
      "text/plain": [
       "<Figure size 432x288 with 1 Axes>"
      ]
     },
     "metadata": {
      "needs_background": "light"
     },
     "output_type": "display_data"
    }
   ],
   "source": [
    "plt.bar(arr[:-1], p[0].astype('int'))\n",
    "plt.xticks(fontsize=8)\n",
    "plt.plot(arr[:-1], p[0].astype('int'), color='red')"
   ]
  },
  {
   "cell_type": "code",
   "execution_count": 11,
   "id": "22f4080d",
   "metadata": {},
   "outputs": [
    {
     "name": "stdout",
     "output_type": "stream",
     "text": [
      "[13, 8, 2, 2, 3, 2] [2.6, 23.450000000000003, 44.300000000000004, 65.15, 86.0, 106.85, 127.7]\n"
     ]
    }
   ],
   "source": [
    "p=np.histogram(data['Работающие активы'], bins='fd')\n",
    "print(list(p[0]), list(p[1]))"
   ]
  },
  {
   "cell_type": "code",
   "execution_count": 12,
   "id": "b525aabd",
   "metadata": {},
   "outputs": [
    {
     "data": {
      "text/plain": [
       "3 - 23       13\n",
       "24 - 44       8\n",
       "45 - 65       2\n",
       "66 - 86       2\n",
       "86 - 106      3\n",
       "107 - 127     2\n",
       "dtype: int32"
      ]
     },
     "execution_count": 12,
     "metadata": {},
     "output_type": "execute_result"
    }
   ],
   "source": [
    "arr=[0]*len(p[1])\n",
    "for i in range(len(p[1])-1):\n",
    "    arr[i]=str(math.ceil(p[1][i]))+' - '+str(math.floor(p[1][i+1]))\n",
    "\n",
    "pd.Series(p[0].astype('int'), index=arr[:-1])"
   ]
  },
  {
   "cell_type": "code",
   "execution_count": 13,
   "id": "b0e9d761",
   "metadata": {},
   "outputs": [
    {
     "data": {
      "text/plain": [
       "[<matplotlib.lines.Line2D at 0xefdfb5d550>]"
      ]
     },
     "execution_count": 13,
     "metadata": {},
     "output_type": "execute_result"
    },
    {
     "data": {
      "image/png": "[encoded data removed]",
      "text/plain": [
       "<Figure size 432x288 with 1 Axes>"
      ]
     },
     "metadata": {
      "needs_background": "light"
     },
     "output_type": "display_data"
    }
   ],
   "source": [
    "plt.bar(arr[:-1], p[0].astype('int'))\n",
    "plt.xticks(fontsize=8)\n",
    "plt.plot(arr[:-1], p[0].astype('int'), color='red')"
   ]
  },
  {
   "cell_type": "code",
   "execution_count": 14,
   "id": "fc9ab1a9",
   "metadata": {},
   "outputs": [
    {
     "name": "stdout",
     "output_type": "stream",
     "text": [
      "[13, 8, 4, 4, 1] [6.8, 20.46, 34.12, 47.78, 61.44, 75.1]\n"
     ]
    }
   ],
   "source": [
    "p=np.histogram(data['Капитал'], bins='fd')\n",
    "print(list(p[0]), list(p[1]))"
   ]
  },
  {
   "cell_type": "code",
   "execution_count": 15,
   "id": "1ae834cb",
   "metadata": {},
   "outputs": [
    {
     "data": {
      "text/plain": [
       "7 - 20     13\n",
       "21 - 34     8\n",
       "35 - 47     4\n",
       "48 - 61     4\n",
       "62 - 75     1\n",
       "dtype: int32"
      ]
     },
     "execution_count": 15,
     "metadata": {},
     "output_type": "execute_result"
    }
   ],
   "source": [
    "arr=[0]*len(p[1])\n",
    "for i in range(len(p[1])-1):\n",
    "    arr[i]=str(math.ceil(p[1][i]))+' - '+str(math.floor(p[1][i+1]))\n",
    "\n",
    "pd.Series(p[0].astype('int'), index=arr[:-1])"
   ]
  },
  {
   "cell_type": "code",
   "execution_count": 16,
   "id": "349ca3fb",
   "metadata": {},
   "outputs": [
    {
     "data": {
      "text/plain": [
       "[<matplotlib.lines.Line2D at 0xefdfdc9310>]"
      ]
     },
     "execution_count": 16,
     "metadata": {},
     "output_type": "execute_result"
    },
    {
     "data": {
      "image/png": "[encoded data removed]",
      "text/plain": [
       "<Figure size 432x288 with 1 Axes>"
      ]
     },
     "metadata": {
      "needs_background": "light"
     },
     "output_type": "display_data"
    }
   ],
   "source": [
    "plt.bar(arr[:-1], p[0].astype('int'))\n",
    "plt.xticks(fontsize=8)\n",
    "plt.plot(arr[:-1], p[0].astype('int'), color='red')"
   ]
  },
  {
   "cell_type": "markdown",
   "id": "1eb87471",
   "metadata": {},
   "source": [
    "#### Определить объемные показатели по каждой группе при группировке по величине уставного капитала: суммарные, средние работающие активы группы, а также размах вариации, среднее линейное отклонение, межквартильный размах внутри каждой группы. Результаты расчета оформить в виде DataFrame с его последующим сохранением."
   ]
  },
  {
   "cell_type": "code",
   "execution_count": 17,
   "id": "cb962a69",
   "metadata": {},
   "outputs": [
    {
     "data": {
      "text/plain": [
       "30"
      ]
     },
     "execution_count": 17,
     "metadata": {},
     "output_type": "execute_result"
    }
   ],
   "source": [
    "pd.Series(p[0].astype('int'), index=arr[:-1]).sum()"
   ]
  },
  {
   "cell_type": "code",
   "execution_count": null,
   "id": "eb4c31e4",
   "metadata": {},
   "outputs": [],
   "source": []
  }
 ],
 "metadata": {
  "kernelspec": {
   "display_name": "Python 3 (ipykernel)",
   "language": "python",
   "name": "python3"
  },
  "language_info": {
   "codemirror_mode": {
    "name": "ipython",
    "version": 3
   },
   "file_extension": ".py",
   "mimetype": "text/x-python",
   "name": "python",
   "nbconvert_exporter": "python",
   "pygments_lexer": "ipython3",
   "version": "3.9.7"
  },
  "toc": {
   "base_numbering": 1,
   "nav_menu": {},
   "number_sections": true,
   "sideBar": true,
   "skip_h1_title": false,
   "title_cell": "Table of Contents",
   "title_sidebar": "Contents",
   "toc_cell": false,
   "toc_position": {},
   "toc_section_display": true,
   "toc_window_display": false
  }
 },
 "nbformat": 4,
 "nbformat_minor": 5
}
