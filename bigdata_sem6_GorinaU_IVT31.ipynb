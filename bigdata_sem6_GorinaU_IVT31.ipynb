{
 "cells": [
  {
   "cell_type": "markdown",
   "id": "fad3b764",
   "metadata": {},
   "source": [
    "#### Распределить банки на группы по величине уставного капитала, по активам, по капиталу, построить гистограммы и полигон частот. Сохранить полученные группировки в виде DataFrame."
   ]
  },
  {
   "cell_type": "code",
   "execution_count": 8,
   "id": "20fc1360",
   "metadata": {
    "scrolled": true
   },
   "outputs": [
    {
     "data": {
      "text/html": [
       "<div>\n",
       "<style scoped>\n",
       "    .dataframe tbody tr th:only-of-type {\n",
       "        vertical-align: middle;\n",
       "    }\n",
       "\n",
       "    .dataframe tbody tr th {\n",
       "        vertical-align: top;\n",
       "    }\n",
       "\n",
       "    .dataframe thead th {\n",
       "        text-align: right;\n",
       "    }\n",
       "</style>\n",
       "<table border=\"1\" class=\"dataframe\">\n",
       "  <thead>\n",
       "    <tr style=\"text-align: right;\">\n",
       "      <th></th>\n",
       "      <th>Номер банка</th>\n",
       "      <th>Капитал</th>\n",
       "      <th>Работающие активы</th>\n",
       "      <th>Уставной капитал</th>\n",
       "    </tr>\n",
       "  </thead>\n",
       "  <tbody>\n",
       "    <tr>\n",
       "      <th>0</th>\n",
       "      <td>1</td>\n",
       "      <td>20.7</td>\n",
       "      <td>11.7</td>\n",
       "      <td>2.4</td>\n",
       "    </tr>\n",
       "    <tr>\n",
       "      <th>1</th>\n",
       "      <td>2</td>\n",
       "      <td>19.9</td>\n",
       "      <td>19.8</td>\n",
       "      <td>17.5</td>\n",
       "    </tr>\n",
       "    <tr>\n",
       "      <th>2</th>\n",
       "      <td>3</td>\n",
       "      <td>9.3</td>\n",
       "      <td>2.6</td>\n",
       "      <td>2.7</td>\n",
       "    </tr>\n",
       "    <tr>\n",
       "      <th>3</th>\n",
       "      <td>4</td>\n",
       "      <td>59.3</td>\n",
       "      <td>43.6</td>\n",
       "      <td>2.1</td>\n",
       "    </tr>\n",
       "    <tr>\n",
       "      <th>4</th>\n",
       "      <td>5</td>\n",
       "      <td>24.7</td>\n",
       "      <td>29.0</td>\n",
       "      <td>23.1</td>\n",
       "    </tr>\n",
       "    <tr>\n",
       "      <th>5</th>\n",
       "      <td>6</td>\n",
       "      <td>47.7</td>\n",
       "      <td>98.5</td>\n",
       "      <td>18.7</td>\n",
       "    </tr>\n",
       "    <tr>\n",
       "      <th>6</th>\n",
       "      <td>7</td>\n",
       "      <td>24.2</td>\n",
       "      <td>25.6</td>\n",
       "      <td>5.3</td>\n",
       "    </tr>\n",
       "    <tr>\n",
       "      <th>7</th>\n",
       "      <td>8</td>\n",
       "      <td>7.8</td>\n",
       "      <td>6.2</td>\n",
       "      <td>2.2</td>\n",
       "    </tr>\n",
       "    <tr>\n",
       "      <th>8</th>\n",
       "      <td>9</td>\n",
       "      <td>38.3</td>\n",
       "      <td>79.8</td>\n",
       "      <td>6.8</td>\n",
       "    </tr>\n",
       "    <tr>\n",
       "      <th>9</th>\n",
       "      <td>10</td>\n",
       "      <td>10.3</td>\n",
       "      <td>10.1</td>\n",
       "      <td>3.5</td>\n",
       "    </tr>\n",
       "    <tr>\n",
       "      <th>10</th>\n",
       "      <td>11</td>\n",
       "      <td>35.7</td>\n",
       "      <td>30.0</td>\n",
       "      <td>13.6</td>\n",
       "    </tr>\n",
       "    <tr>\n",
       "      <th>11</th>\n",
       "      <td>12</td>\n",
       "      <td>20.7</td>\n",
       "      <td>21.2</td>\n",
       "      <td>8.9</td>\n",
       "    </tr>\n",
       "    <tr>\n",
       "      <th>12</th>\n",
       "      <td>13</td>\n",
       "      <td>8.2</td>\n",
       "      <td>16.7</td>\n",
       "      <td>2.2</td>\n",
       "    </tr>\n",
       "    <tr>\n",
       "      <th>13</th>\n",
       "      <td>14</td>\n",
       "      <td>10.2</td>\n",
       "      <td>9.1</td>\n",
       "      <td>9.0</td>\n",
       "    </tr>\n",
       "    <tr>\n",
       "      <th>14</th>\n",
       "      <td>15</td>\n",
       "      <td>23.5</td>\n",
       "      <td>31.7</td>\n",
       "      <td>3.6</td>\n",
       "    </tr>\n",
       "    <tr>\n",
       "      <th>15</th>\n",
       "      <td>16</td>\n",
       "      <td>55.8</td>\n",
       "      <td>54.4</td>\n",
       "      <td>7.5</td>\n",
       "    </tr>\n",
       "    <tr>\n",
       "      <th>16</th>\n",
       "      <td>17</td>\n",
       "      <td>10.3</td>\n",
       "      <td>21.4</td>\n",
       "      <td>4.3</td>\n",
       "    </tr>\n",
       "    <tr>\n",
       "      <th>17</th>\n",
       "      <td>18</td>\n",
       "      <td>16.7</td>\n",
       "      <td>41.1</td>\n",
       "      <td>5.1</td>\n",
       "    </tr>\n",
       "    <tr>\n",
       "      <th>18</th>\n",
       "      <td>19</td>\n",
       "      <td>15.8</td>\n",
       "      <td>29.8</td>\n",
       "      <td>9.9</td>\n",
       "    </tr>\n",
       "    <tr>\n",
       "      <th>19</th>\n",
       "      <td>20</td>\n",
       "      <td>6.8</td>\n",
       "      <td>10.9</td>\n",
       "      <td>2.9</td>\n",
       "    </tr>\n",
       "    <tr>\n",
       "      <th>20</th>\n",
       "      <td>21</td>\n",
       "      <td>22.4</td>\n",
       "      <td>53.4</td>\n",
       "      <td>13.4</td>\n",
       "    </tr>\n",
       "    <tr>\n",
       "      <th>21</th>\n",
       "      <td>22</td>\n",
       "      <td>13.6</td>\n",
       "      <td>22.6</td>\n",
       "      <td>4.8</td>\n",
       "    </tr>\n",
       "    <tr>\n",
       "      <th>22</th>\n",
       "      <td>23</td>\n",
       "      <td>9.9</td>\n",
       "      <td>11.7</td>\n",
       "      <td>5.0</td>\n",
       "    </tr>\n",
       "    <tr>\n",
       "      <th>23</th>\n",
       "      <td>24</td>\n",
       "      <td>24.0</td>\n",
       "      <td>27.3</td>\n",
       "      <td>6.1</td>\n",
       "    </tr>\n",
       "    <tr>\n",
       "      <th>24</th>\n",
       "      <td>25</td>\n",
       "      <td>23.0</td>\n",
       "      <td>70.2</td>\n",
       "      <td>5.9</td>\n",
       "    </tr>\n",
       "    <tr>\n",
       "      <th>25</th>\n",
       "      <td>26</td>\n",
       "      <td>75.1</td>\n",
       "      <td>124.2</td>\n",
       "      <td>17.2</td>\n",
       "    </tr>\n",
       "    <tr>\n",
       "      <th>26</th>\n",
       "      <td>27</td>\n",
       "      <td>56.2</td>\n",
       "      <td>90.4</td>\n",
       "      <td>20.5</td>\n",
       "    </tr>\n",
       "    <tr>\n",
       "      <th>27</th>\n",
       "      <td>28</td>\n",
       "      <td>60.7</td>\n",
       "      <td>101.7</td>\n",
       "      <td>10.7</td>\n",
       "    </tr>\n",
       "    <tr>\n",
       "      <th>28</th>\n",
       "      <td>29</td>\n",
       "      <td>14.8</td>\n",
       "      <td>18.2</td>\n",
       "      <td>2.9</td>\n",
       "    </tr>\n",
       "    <tr>\n",
       "      <th>29</th>\n",
       "      <td>30</td>\n",
       "      <td>41.5</td>\n",
       "      <td>127.7</td>\n",
       "      <td>12.1</td>\n",
       "    </tr>\n",
       "  </tbody>\n",
       "</table>\n",
       "</div>"
      ],
      "text/plain": [
       "    Номер банка  Капитал  Работающие активы  Уставной капитал\n",
       "0             1     20.7               11.7               2.4\n",
       "1             2     19.9               19.8              17.5\n",
       "2             3      9.3                2.6               2.7\n",
       "3             4     59.3               43.6               2.1\n",
       "4             5     24.7               29.0              23.1\n",
       "5             6     47.7               98.5              18.7\n",
       "6             7     24.2               25.6               5.3\n",
       "7             8      7.8                6.2               2.2\n",
       "8             9     38.3               79.8               6.8\n",
       "9            10     10.3               10.1               3.5\n",
       "10           11     35.7               30.0              13.6\n",
       "11           12     20.7               21.2               8.9\n",
       "12           13      8.2               16.7               2.2\n",
       "13           14     10.2                9.1               9.0\n",
       "14           15     23.5               31.7               3.6\n",
       "15           16     55.8               54.4               7.5\n",
       "16           17     10.3               21.4               4.3\n",
       "17           18     16.7               41.1               5.1\n",
       "18           19     15.8               29.8               9.9\n",
       "19           20      6.8               10.9               2.9\n",
       "20           21     22.4               53.4              13.4\n",
       "21           22     13.6               22.6               4.8\n",
       "22           23      9.9               11.7               5.0\n",
       "23           24     24.0               27.3               6.1\n",
       "24           25     23.0               70.2               5.9\n",
       "25           26     75.1              124.2              17.2\n",
       "26           27     56.2               90.4              20.5\n",
       "27           28     60.7              101.7              10.7\n",
       "28           29     14.8               18.2               2.9\n",
       "29           30     41.5              127.7              12.1"
      ]
     },
     "execution_count": 8,
     "metadata": {},
     "output_type": "execute_result"
    }
   ],
   "source": [
    "import numpy as np\n",
    "import pandas as pd\n",
    "from matplotlib import pyplot as plt\n",
    "\n",
    "data=pd.read_excel(\"https://github.com/junaart/ForStudents/blob/master/Big_Data/Seminar_6/data.xlsx?raw=true\",engine=\"openpyxl\")\n",
    "data"
   ]
  },
  {
   "cell_type": "code",
   "execution_count": 9,
   "id": "46185901",
   "metadata": {},
   "outputs": [
    {
     "name": "stdout",
     "output_type": "stream",
     "text": [
      "[17, 6, 4, 3] [2.1, 7.35, 12.6, 17.85, 23.1]\n"
     ]
    }
   ],
   "source": [
    "p=np.histogram(data['Уставной капитал'], bins='fd')\n",
    "print(list(p[0]), list(p[1]))"
   ]
  },
  {
   "cell_type": "code",
   "execution_count": 24,
   "id": "bda691e5",
   "metadata": {},
   "outputs": [
    {
     "data": {
      "text/plain": [
       "3 - 7      17\n",
       "8 - 12      6\n",
       "13 - 17     4\n",
       "18 - 23     3\n",
       "dtype: int32"
      ]
     },
     "execution_count": 24,
     "metadata": {},
     "output_type": "execute_result"
    }
   ],
   "source": [
    "import math\n",
    "arr=[0]*len(p[1])\n",
    "for i in range(len(p[1])-1):\n",
    "    arr[i]=str(math.ceil(p[1][i]))+' - '+str(math.floor(p[1][i+1]))\n",
    "\n",
    "pd.Series(p[0].astype('int'), index=arr[:-1])"
   ]
  },
  {
   "cell_type": "code",
   "execution_count": 11,
   "id": "228453d3",
   "metadata": {},
   "outputs": [
    {
     "data": {
      "text/plain": [
       "[<matplotlib.lines.Line2D at 0x9503495d60>]"
      ]
     },
     "execution_count": 11,
     "metadata": {},
     "output_type": "execute_result"
    },
    {
     "data": {
      "image/png": "[encoded data removed]",
      "text/plain": [
       "<Figure size 432x288 with 1 Axes>"
      ]
     },
     "metadata": {
      "needs_background": "light"
     },
     "output_type": "display_data"
    }
   ],
   "source": [
    "plt.bar(arr[:-1], p[0].astype('int'))\n",
    "plt.xticks(fontsize=8)\n",
    "plt.plot(arr[:-1], p[0].astype('int'), color='red')"
   ]
  },
  {
   "cell_type": "code",
   "execution_count": 11,
   "id": "22f4080d",
   "metadata": {},
   "outputs": [
    {
     "name": "stdout",
     "output_type": "stream",
     "text": [
      "[13, 8, 2, 2, 3, 2] [2.6, 23.450000000000003, 44.300000000000004, 65.15, 86.0, 106.85, 127.7]\n"
     ]
    }
   ],
   "source": [
    "p=np.histogram(data['Работающие активы'], bins='fd')\n",
    "print(list(p[0]), list(p[1]))"
   ]
  },
  {
   "cell_type": "code",
   "execution_count": 12,
   "id": "b525aabd",
   "metadata": {},
   "outputs": [
    {
     "data": {
      "text/plain": [
       "3 - 23       13\n",
       "24 - 44       8\n",
       "45 - 65       2\n",
       "66 - 86       2\n",
       "86 - 106      3\n",
       "107 - 127     2\n",
       "dtype: int32"
      ]
     },
     "execution_count": 12,
     "metadata": {},
     "output_type": "execute_result"
    }
   ],
   "source": [
    "arr=[0]*len(p[1])\n",
    "for i in range(len(p[1])-1):\n",
    "    arr[i]=str(math.ceil(p[1][i]))+' - '+str(math.floor(p[1][i+1]))\n",
    "\n",
    "pd.Series(p[0].astype('int'), index=arr[:-1])"
   ]
  },
  {
   "cell_type": "code",
   "execution_count": 13,
   "id": "b0e9d761",
   "metadata": {},
   "outputs": [
    {
     "data": {
      "text/plain": [
       "[<matplotlib.lines.Line2D at 0xefdfb5d550>]"
      ]
     },
     "execution_count": 13,
     "metadata": {},
     "output_type": "execute_result"
    },
    {
     "data": {
      "image/png": "[encoded data removed]",
      "text/plain": [
       "<Figure size 432x288 with 1 Axes>"
      ]
     },
     "metadata": {
      "needs_background": "light"
     },
     "output_type": "display_data"
    }
   ],
   "source": [
    "plt.bar(arr[:-1], p[0].astype('int'))\n",
    "plt.xticks(fontsize=8)\n",
    "plt.plot(arr[:-1], p[0].astype('int'), color='red')"
   ]
  },
  {
   "cell_type": "code",
   "execution_count": 14,
   "id": "fc9ab1a9",
   "metadata": {},
   "outputs": [
    {
     "name": "stdout",
     "output_type": "stream",
     "text": [
      "[13, 8, 4, 4, 1] [6.8, 20.46, 34.12, 47.78, 61.44, 75.1]\n"
     ]
    }
   ],
   "source": [
    "p=np.histogram(data['Капитал'], bins='fd')\n",
    "print(list(p[0]), list(p[1]))"
   ]
  },
  {
   "cell_type": "code",
   "execution_count": 15,
   "id": "1ae834cb",
   "metadata": {},
   "outputs": [
    {
     "data": {
      "text/plain": [
       "7 - 20     13\n",
       "21 - 34     8\n",
       "35 - 47     4\n",
       "48 - 61     4\n",
       "62 - 75     1\n",
       "dtype: int32"
      ]
     },
     "execution_count": 15,
     "metadata": {},
     "output_type": "execute_result"
    }
   ],
   "source": [
    "arr=[0]*len(p[1])\n",
    "for i in range(len(p[1])-1):\n",
    "    arr[i]=str(math.ceil(p[1][i]))+' - '+str(math.floor(p[1][i+1]))\n",
    "\n",
    "pd.Series(p[0].astype('int'), index=arr[:-1])"
   ]
  },
  {
   "cell_type": "code",
   "execution_count": 16,
   "id": "349ca3fb",
   "metadata": {},
   "outputs": [
    {
     "data": {
      "text/plain": [
       "[<matplotlib.lines.Line2D at 0xefdfdc9310>]"
      ]
     },
     "execution_count": 16,
     "metadata": {},
     "output_type": "execute_result"
    },
    {
     "data": {
      "image/png": "[encoded data removed]",
      "text/plain": [
       "<Figure size 432x288 with 1 Axes>"
      ]
     },
     "metadata": {
      "needs_background": "light"
     },
     "output_type": "display_data"
    }
   ],
   "source": [
    "plt.bar(arr[:-1], p[0].astype('int'))\n",
    "plt.xticks(fontsize=8)\n",
    "plt.plot(arr[:-1], p[0].astype('int'), color='red')"
   ]
  },
  {
   "cell_type": "markdown",
   "id": "1eb87471",
   "metadata": {},
   "source": [
    "#### Определить объемные показатели по каждой группе при группировке по величине уставного капитала: суммарные, средние работающие активы группы, а также размах вариации, среднее линейное отклонение, межквартильный размах внутри каждой группы. Результаты расчета оформить в виде DataFrame с его последующим сохранением."
   ]
  },
  {
   "cell_type": "code",
   "execution_count": 56,
   "id": "cb962a69",
   "metadata": {},
   "outputs": [
    {
     "data": {
      "text/html": [
       "<div>\n",
       "<style scoped>\n",
       "    .dataframe tbody tr th:only-of-type {\n",
       "        vertical-align: middle;\n",
       "    }\n",
       "\n",
       "    .dataframe tbody tr th {\n",
       "        vertical-align: top;\n",
       "    }\n",
       "\n",
       "    .dataframe thead th {\n",
       "        text-align: right;\n",
       "    }\n",
       "</style>\n",
       "<table border=\"1\" class=\"dataframe\">\n",
       "  <thead>\n",
       "    <tr style=\"text-align: right;\">\n",
       "      <th></th>\n",
       "      <th>Sum</th>\n",
       "      <th>Avg</th>\n",
       "      <th>R</th>\n",
       "      <th>d</th>\n",
       "      <th>imq</th>\n",
       "      <th>Sigma</th>\n",
       "      <th>KV</th>\n",
       "    </tr>\n",
       "  </thead>\n",
       "  <tbody>\n",
       "    <tr>\n",
       "      <th>0</th>\n",
       "      <td>451.4</td>\n",
       "      <td>26.552941</td>\n",
       "      <td>77.2</td>\n",
       "      <td>12.476717</td>\n",
       "      <td>20.000</td>\n",
       "      <td>21.541301</td>\n",
       "      <td>81.125857</td>\n",
       "    </tr>\n",
       "    <tr>\n",
       "      <th>1</th>\n",
       "      <td>343.9</td>\n",
       "      <td>57.316667</td>\n",
       "      <td>118.6</td>\n",
       "      <td>4.824295</td>\n",
       "      <td>66.525</td>\n",
       "      <td>47.578626</td>\n",
       "      <td>83.010107</td>\n",
       "    </tr>\n",
       "    <tr>\n",
       "      <th>2</th>\n",
       "      <td>227.4</td>\n",
       "      <td>56.850000</td>\n",
       "      <td>104.4</td>\n",
       "      <td>2.862816</td>\n",
       "      <td>43.650</td>\n",
       "      <td>47.051567</td>\n",
       "      <td>82.764411</td>\n",
       "    </tr>\n",
       "    <tr>\n",
       "      <th>3</th>\n",
       "      <td>188.9</td>\n",
       "      <td>94.450000</td>\n",
       "      <td>8.1</td>\n",
       "      <td>1.414214</td>\n",
       "      <td>4.050</td>\n",
       "      <td>5.727565</td>\n",
       "      <td>6.064124</td>\n",
       "    </tr>\n",
       "  </tbody>\n",
       "</table>\n",
       "</div>"
      ],
      "text/plain": [
       "     Sum        Avg      R          d     imq      Sigma         KV\n",
       "0  451.4  26.552941   77.2  12.476717  20.000  21.541301  81.125857\n",
       "1  343.9  57.316667  118.6   4.824295  66.525  47.578626  83.010107\n",
       "2  227.4  56.850000  104.4   2.862816  43.650  47.051567  82.764411\n",
       "3  188.9  94.450000    8.1   1.414214   4.050   5.727565   6.064124"
      ]
     },
     "execution_count": 56,
     "metadata": {},
     "output_type": "execute_result"
    }
   ],
   "source": [
    "p=np.histogram(data['Уставной капитал'], bins='fd')\n",
    "newd=pd.DataFrame(columns=['Sum','Avg','R','d','imq','Sigma','KV'])\n",
    "for i in range(len(p[0])):\n",
    "    d=data[(p[1][i]<=data['Уставной капитал']) & (data['Уставной капитал']<p[1][i+1])]['Работающие активы']\n",
    "    summa=d.sum()\n",
    "    avg=d.mean()\n",
    "    r=d.max()-d.min()\n",
    "    srl=(d - d.mean()).abs().sum() / d.std()\n",
    "    mr=np.quantile(d, 0.75)-np.quantile(d, 0.25)\n",
    "    s=d.std()\n",
    "    kv=s/avg*100\n",
    "    \n",
    "    res=pd.Series([summa,avg,r,srl,mr,s,kv], index=newd.columns)\n",
    "    newd=newd.append(res,ignore_index=True)\n",
    "    #newd.index[i]='group'+str(i)\n",
    "    \n",
    "newd"
   ]
  },
  {
   "cell_type": "code",
   "execution_count": 16,
   "id": "50a77237",
   "metadata": {},
   "outputs": [
    {
     "data": {
      "text/plain": [
       "0     11.7\n",
       "2      2.6\n",
       "3     43.6\n",
       "6     25.6\n",
       "7      6.2\n",
       "8     79.8\n",
       "9     10.1\n",
       "12    16.7\n",
       "14    31.7\n",
       "16    21.4\n",
       "17    41.1\n",
       "19    10.9\n",
       "21    22.6\n",
       "22    11.7\n",
       "23    27.3\n",
       "24    70.2\n",
       "28    18.2\n",
       "Name: Работающие активы, dtype: float64"
      ]
     },
     "execution_count": 16,
     "metadata": {},
     "output_type": "execute_result"
    }
   ],
   "source": [
    "data[(p[1][0]<=data['Уставной капитал']) & (data['Уставной капитал']<p[1][1])]['Работающие активы']"
   ]
  },
  {
   "cell_type": "markdown",
   "id": "b9cd17f7",
   "metadata": {},
   "source": [
    "#### Определить объемные показатели по каждой группе при группировке по капиталу: суммарный, средний, медианный капитал, а также дисперсию, среднее квадратическое отклонение, среднее линейное отклонение от медианного значения, относительные показатели вариации: коэффициент осцилляции, коэффициент вариации внутри каждой группы. Результаты расчета оформить в виде DataFrame с его последующим сохранением."
   ]
  },
  {
   "cell_type": "code",
   "execution_count": 54,
   "id": "fa966887",
   "metadata": {},
   "outputs": [
    {
     "data": {
      "text/html": [
       "<div>\n",
       "<style scoped>\n",
       "    .dataframe tbody tr th:only-of-type {\n",
       "        vertical-align: middle;\n",
       "    }\n",
       "\n",
       "    .dataframe tbody tr th {\n",
       "        vertical-align: top;\n",
       "    }\n",
       "\n",
       "    .dataframe thead th {\n",
       "        text-align: right;\n",
       "    }\n",
       "</style>\n",
       "<table border=\"1\" class=\"dataframe\">\n",
       "  <thead>\n",
       "    <tr style=\"text-align: right;\">\n",
       "      <th></th>\n",
       "      <th>Sum</th>\n",
       "      <th>Avg</th>\n",
       "      <th>Median</th>\n",
       "      <th>Dispersion</th>\n",
       "      <th>Sigma</th>\n",
       "      <th>d_Median</th>\n",
       "      <th>KO</th>\n",
       "      <th>KV</th>\n",
       "    </tr>\n",
       "  </thead>\n",
       "  <tbody>\n",
       "    <tr>\n",
       "      <th>0</th>\n",
       "      <td>263.9</td>\n",
       "      <td>14.661111</td>\n",
       "      <td>14.20</td>\n",
       "      <td>5.813285</td>\n",
       "      <td>33.794281</td>\n",
       "      <td>15.671002</td>\n",
       "      <td>113.906783</td>\n",
       "      <td>39.651053</td>\n",
       "    </tr>\n",
       "    <tr>\n",
       "      <th>1</th>\n",
       "      <td>146.9</td>\n",
       "      <td>29.380000</td>\n",
       "      <td>24.70</td>\n",
       "      <td>7.021182</td>\n",
       "      <td>49.297000</td>\n",
       "      <td>3.674595</td>\n",
       "      <td>48.672566</td>\n",
       "      <td>23.897829</td>\n",
       "    </tr>\n",
       "    <tr>\n",
       "      <th>2</th>\n",
       "      <td>201.2</td>\n",
       "      <td>50.300000</td>\n",
       "      <td>51.75</td>\n",
       "      <td>7.053604</td>\n",
       "      <td>49.753333</td>\n",
       "      <td>3.232390</td>\n",
       "      <td>29.224652</td>\n",
       "      <td>14.023070</td>\n",
       "    </tr>\n",
       "    <tr>\n",
       "      <th>3</th>\n",
       "      <td>120.0</td>\n",
       "      <td>60.000000</td>\n",
       "      <td>60.00</td>\n",
       "      <td>0.989949</td>\n",
       "      <td>0.980000</td>\n",
       "      <td>1.414214</td>\n",
       "      <td>2.333333</td>\n",
       "      <td>1.649916</td>\n",
       "    </tr>\n",
       "  </tbody>\n",
       "</table>\n",
       "</div>"
      ],
      "text/plain": [
       "     Sum        Avg  Median  Dispersion      Sigma   d_Median          KO  \\\n",
       "0  263.9  14.661111   14.20    5.813285  33.794281  15.671002  113.906783   \n",
       "1  146.9  29.380000   24.70    7.021182  49.297000   3.674595   48.672566   \n",
       "2  201.2  50.300000   51.75    7.053604  49.753333   3.232390   29.224652   \n",
       "3  120.0  60.000000   60.00    0.989949   0.980000   1.414214    2.333333   \n",
       "\n",
       "          KV  \n",
       "0  39.651053  \n",
       "1  23.897829  \n",
       "2  14.023070  \n",
       "3   1.649916  "
      ]
     },
     "execution_count": 54,
     "metadata": {},
     "output_type": "execute_result"
    }
   ],
   "source": [
    "p=np.histogram(data['Капитал'], bins=4)\n",
    "newd=pd.DataFrame(columns=['Sum','Avg','Median','Dispersion','Sigma','d_Median','KO','KV'])\n",
    "for i in range(len(p[0])):\n",
    "    d=data[(p[1][i]<=data['Капитал']) & (data['Капитал']<p[1][i+1])]['Капитал']\n",
    "    summa=d.sum()\n",
    "    avg=d.mean()\n",
    "    med=d.median()\n",
    "    s=d.std()\n",
    "    dis=s**2\n",
    "    dmed=(d - med).abs().sum() / d.std()\n",
    "    ko=(d.max()-d.min())/avg*100\n",
    "    kv=s/avg*100\n",
    "    \n",
    "    res=pd.Series([summa,avg,med,s,dis,dmed,ko,kv], index=newd.columns)\n",
    "    newd=newd.append(res,ignore_index=True)\n",
    "    #newd.index[i]='group'+str(i)\n",
    "    \n",
    "newd"
   ]
  },
  {
   "cell_type": "markdown",
   "id": "4a074c4d",
   "metadata": {},
   "source": [
    "#### Рассчитать средние показатели и показатели вариации по несгруппированным данным: среднее арифметическое, среднее геометрическое, среднее геометрическое, медиана, дисперию, среднее квадратическое отклонение, коэффициент вариации по показателям капитала, уставного капитала, работающих активов. Построить для них диаграмму \"ящик с усами\" Сделать выводы об однородности статистических совокупностей. Сравнить показатели вариации на несгруппированной совокупности с показателями вариации на сгруппированных совокупностях."
   ]
  },
  {
   "cell_type": "code",
   "execution_count": 71,
   "id": "beaedcee",
   "metadata": {},
   "outputs": [
    {
     "data": {
      "image/png": "[encoded data removed]",
      "text/plain": [
       "<Figure size 432x288 with 1 Axes>"
      ]
     },
     "metadata": {
      "needs_background": "light"
     },
     "output_type": "display_data"
    },
    {
     "data": {
      "text/plain": [
       "{'whiskers': [<matplotlib.lines.Line2D at 0x9508adbeb0>,\n",
       "  <matplotlib.lines.Line2D at 0x9508ae4280>],\n",
       " 'caps': [<matplotlib.lines.Line2D at 0x9508ae4610>,\n",
       "  <matplotlib.lines.Line2D at 0x9508ae49a0>],\n",
       " 'boxes': [<matplotlib.lines.Line2D at 0x9508adbbe0>],\n",
       " 'medians': [<matplotlib.lines.Line2D at 0x9508ae4d30>],\n",
       " 'fliers': [<matplotlib.lines.Line2D at 0x9508af0100>],\n",
       " 'means': []}"
      ]
     },
     "execution_count": 71,
     "metadata": {},
     "output_type": "execute_result"
    },
    {
     "data": {
      "image/png": "[encoded data removed]",
      "text/plain": [
       "<Figure size 432x288 with 1 Axes>"
      ]
     },
     "metadata": {
      "needs_background": "light"
     },
     "output_type": "display_data"
    }
   ],
   "source": [
    "import statistics as stats\n",
    "newdd=pd.DataFrame(columns=['Avg','AvgG','AvgH','Median','Sigma','Dispersion','KV'])\n",
    "\n",
    "avg=data['Капитал'].mean()\n",
    "avggeom=stats.geometric_mean(data['Капитал'])\n",
    "avgharm=stats.harmonic_mean(data['Капитал'])\n",
    "med=data['Капитал'].median()\n",
    "s=data['Капитал'].std()\n",
    "dis=s**2\n",
    "kv=s/avg*100\n",
    "\n",
    "newdd=newdd.append(pd.Series([avg,avggeom,avgharm,med,dis,s,kv], index=newdd.columns),ignore_index=True)\n",
    "\n",
    "plt.boxplot(newdd)\n",
    "plt.show()\n",
    "plt.boxplot([avg,avggeom,avgharm,med,dis,s,kv])"
   ]
  },
  {
   "cell_type": "code",
   "execution_count": null,
   "id": "6dab4d94",
   "metadata": {},
   "outputs": [],
   "source": []
  }
 ],
 "metadata": {
  "kernelspec": {
   "display_name": "Python 3 (ipykernel)",
   "language": "python",
   "name": "python3"
  },
  "language_info": {
   "codemirror_mode": {
    "name": "ipython",
    "version": 3
   },
   "file_extension": ".py",
   "mimetype": "text/x-python",
   "name": "python",
   "nbconvert_exporter": "python",
   "pygments_lexer": "ipython3",
   "version": "3.9.7"
  },
  "toc": {
   "base_numbering": 1,
   "nav_menu": {},
   "number_sections": true,
   "sideBar": true,
   "skip_h1_title": false,
   "title_cell": "Table of Contents",
   "title_sidebar": "Contents",
   "toc_cell": false,
   "toc_position": {},
   "toc_section_display": true,
   "toc_window_display": false
  }
 },
 "nbformat": 4,
 "nbformat_minor": 5
}
